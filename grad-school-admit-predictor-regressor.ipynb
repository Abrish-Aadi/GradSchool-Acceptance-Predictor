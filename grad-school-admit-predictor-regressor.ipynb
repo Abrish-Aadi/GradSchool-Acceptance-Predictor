{
 "cells": [
  {
   "cell_type": "code",
   "execution_count": 1,
   "id": "02344cab",
   "metadata": {
    "_cell_guid": "b1076dfc-b9ad-4769-8c92-a6c4dae69d19",
    "_uuid": "8f2839f25d086af736a60e9eeb907d3b93b6e0e5",
    "execution": {
     "iopub.execute_input": "2022-08-06T07:32:23.468918Z",
     "iopub.status.busy": "2022-08-06T07:32:23.468110Z",
     "iopub.status.idle": "2022-08-06T07:32:24.571575Z",
     "shell.execute_reply": "2022-08-06T07:32:24.570532Z"
    },
    "papermill": {
     "duration": 1.118184,
     "end_time": "2022-08-06T07:32:24.573963",
     "exception": false,
     "start_time": "2022-08-06T07:32:23.455779",
     "status": "completed"
    },
    "tags": []
   },
   "outputs": [
    {
     "name": "stdout",
     "output_type": "stream",
     "text": [
      "/kaggle/input/graduates-admission-prediction/admission_data.csv\n"
     ]
    }
   ],
   "source": [
    "# This Python 3 environment comes with many helpful analytics libraries installed\n",
    "# It is defined by the kaggle/python Docker image: https://github.com/kaggle/docker-python\n",
    "# For example, here's several helpful packages to load\n",
    "\n",
    "import numpy as np # linear algebra\n",
    "import pandas as pd # data processing, CSV file I/O (e.g. pd.read_csv)\n",
    "import seaborn as sns\n",
    "import matplotlib.pyplot as plt\n",
    "\n",
    "# Input data files are available in the read-only \"../input/\" directory\n",
    "# For example, running this (by clicking run or pressing Sh'ift+Enter) will list all files under the input directory\n",
    "\n",
    "import os\n",
    "for dirname, _, filenames in os.walk('/kaggle/input'):\n",
    "    for filename in filenames:\n",
    "        print(os.path.join(dirname, filename))\n",
    "\n",
    "# You can write up to 20GB to the current directory (/kaggle/working/) that gets preserved as output when you create a version using \"Save & Run All\" \n",
    "# You can also write temporary files to /kaggle/temp/, but they won't be saved outside of the current session"
   ]
  },
  {
   "cell_type": "code",
   "execution_count": 2,
   "id": "a7119041",
   "metadata": {
    "execution": {
     "iopub.execute_input": "2022-08-06T07:32:24.597886Z",
     "iopub.status.busy": "2022-08-06T07:32:24.597058Z",
     "iopub.status.idle": "2022-08-06T07:32:24.614719Z",
     "shell.execute_reply": "2022-08-06T07:32:24.613554Z"
    },
    "papermill": {
     "duration": 0.032406,
     "end_time": "2022-08-06T07:32:24.617398",
     "exception": false,
     "start_time": "2022-08-06T07:32:24.584992",
     "status": "completed"
    },
    "tags": []
   },
   "outputs": [],
   "source": [
    "df=pd.read_csv('../input/graduates-admission-prediction/admission_data.csv')"
   ]
  },
  {
   "cell_type": "code",
   "execution_count": 3,
   "id": "d47e87c7",
   "metadata": {
    "execution": {
     "iopub.execute_input": "2022-08-06T07:32:24.638299Z",
     "iopub.status.busy": "2022-08-06T07:32:24.637902Z",
     "iopub.status.idle": "2022-08-06T07:32:24.660518Z",
     "shell.execute_reply": "2022-08-06T07:32:24.659583Z"
    },
    "papermill": {
     "duration": 0.035214,
     "end_time": "2022-08-06T07:32:24.662563",
     "exception": false,
     "start_time": "2022-08-06T07:32:24.627349",
     "status": "completed"
    },
    "tags": []
   },
   "outputs": [
    {
     "data": {
      "text/html": [
       "<div>\n",
       "<style scoped>\n",
       "    .dataframe tbody tr th:only-of-type {\n",
       "        vertical-align: middle;\n",
       "    }\n",
       "\n",
       "    .dataframe tbody tr th {\n",
       "        vertical-align: top;\n",
       "    }\n",
       "\n",
       "    .dataframe thead th {\n",
       "        text-align: right;\n",
       "    }\n",
       "</style>\n",
       "<table border=\"1\" class=\"dataframe\">\n",
       "  <thead>\n",
       "    <tr style=\"text-align: right;\">\n",
       "      <th></th>\n",
       "      <th>GRE Score</th>\n",
       "      <th>TOEFL Score</th>\n",
       "      <th>University Rating</th>\n",
       "      <th>SOP</th>\n",
       "      <th>LOR</th>\n",
       "      <th>CGPA</th>\n",
       "      <th>Research</th>\n",
       "      <th>Chance of Admit</th>\n",
       "    </tr>\n",
       "  </thead>\n",
       "  <tbody>\n",
       "    <tr>\n",
       "      <th>0</th>\n",
       "      <td>337</td>\n",
       "      <td>118</td>\n",
       "      <td>4</td>\n",
       "      <td>4.5</td>\n",
       "      <td>4.5</td>\n",
       "      <td>9.65</td>\n",
       "      <td>1</td>\n",
       "      <td>0.92</td>\n",
       "    </tr>\n",
       "    <tr>\n",
       "      <th>1</th>\n",
       "      <td>324</td>\n",
       "      <td>107</td>\n",
       "      <td>4</td>\n",
       "      <td>4.0</td>\n",
       "      <td>4.5</td>\n",
       "      <td>8.87</td>\n",
       "      <td>1</td>\n",
       "      <td>0.76</td>\n",
       "    </tr>\n",
       "    <tr>\n",
       "      <th>2</th>\n",
       "      <td>316</td>\n",
       "      <td>104</td>\n",
       "      <td>3</td>\n",
       "      <td>3.0</td>\n",
       "      <td>3.5</td>\n",
       "      <td>8.00</td>\n",
       "      <td>1</td>\n",
       "      <td>0.72</td>\n",
       "    </tr>\n",
       "    <tr>\n",
       "      <th>3</th>\n",
       "      <td>322</td>\n",
       "      <td>110</td>\n",
       "      <td>3</td>\n",
       "      <td>3.5</td>\n",
       "      <td>2.5</td>\n",
       "      <td>8.67</td>\n",
       "      <td>1</td>\n",
       "      <td>0.80</td>\n",
       "    </tr>\n",
       "    <tr>\n",
       "      <th>4</th>\n",
       "      <td>314</td>\n",
       "      <td>103</td>\n",
       "      <td>2</td>\n",
       "      <td>2.0</td>\n",
       "      <td>3.0</td>\n",
       "      <td>8.21</td>\n",
       "      <td>0</td>\n",
       "      <td>0.65</td>\n",
       "    </tr>\n",
       "  </tbody>\n",
       "</table>\n",
       "</div>"
      ],
      "text/plain": [
       "   GRE Score  TOEFL Score  University Rating  SOP  LOR   CGPA  Research  \\\n",
       "0        337          118                  4  4.5   4.5  9.65         1   \n",
       "1        324          107                  4  4.0   4.5  8.87         1   \n",
       "2        316          104                  3  3.0   3.5  8.00         1   \n",
       "3        322          110                  3  3.5   2.5  8.67         1   \n",
       "4        314          103                  2  2.0   3.0  8.21         0   \n",
       "\n",
       "   Chance of Admit   \n",
       "0              0.92  \n",
       "1              0.76  \n",
       "2              0.72  \n",
       "3              0.80  \n",
       "4              0.65  "
      ]
     },
     "execution_count": 3,
     "metadata": {},
     "output_type": "execute_result"
    }
   ],
   "source": [
    "df.head()"
   ]
  },
  {
   "cell_type": "code",
   "execution_count": 4,
   "id": "14a14051",
   "metadata": {
    "execution": {
     "iopub.execute_input": "2022-08-06T07:32:24.684001Z",
     "iopub.status.busy": "2022-08-06T07:32:24.683352Z",
     "iopub.status.idle": "2022-08-06T07:32:24.691447Z",
     "shell.execute_reply": "2022-08-06T07:32:24.690620Z"
    },
    "papermill": {
     "duration": 0.021528,
     "end_time": "2022-08-06T07:32:24.693872",
     "exception": false,
     "start_time": "2022-08-06T07:32:24.672344",
     "status": "completed"
    },
    "tags": []
   },
   "outputs": [
    {
     "data": {
      "text/plain": [
       "Index(['GRE Score', 'TOEFL Score', 'University Rating', 'SOP', 'LOR ', 'CGPA',\n",
       "       'Research', 'Chance of Admit '],\n",
       "      dtype='object')"
      ]
     },
     "execution_count": 4,
     "metadata": {},
     "output_type": "execute_result"
    }
   ],
   "source": [
    "df.columns"
   ]
  },
  {
   "cell_type": "code",
   "execution_count": 5,
   "id": "a07b036a",
   "metadata": {
    "execution": {
     "iopub.execute_input": "2022-08-06T07:32:24.721084Z",
     "iopub.status.busy": "2022-08-06T07:32:24.719940Z",
     "iopub.status.idle": "2022-08-06T07:32:24.728481Z",
     "shell.execute_reply": "2022-08-06T07:32:24.727672Z"
    },
    "papermill": {
     "duration": 0.024703,
     "end_time": "2022-08-06T07:32:24.730840",
     "exception": false,
     "start_time": "2022-08-06T07:32:24.706137",
     "status": "completed"
    },
    "tags": []
   },
   "outputs": [
    {
     "data": {
      "text/plain": [
       "GRE Score            False\n",
       "TOEFL Score          False\n",
       "University Rating    False\n",
       "SOP                  False\n",
       "LOR                  False\n",
       "CGPA                 False\n",
       "Research             False\n",
       "Chance of Admit      False\n",
       "dtype: bool"
      ]
     },
     "execution_count": 5,
     "metadata": {},
     "output_type": "execute_result"
    }
   ],
   "source": [
    "df.isnull().any()"
   ]
  },
  {
   "cell_type": "code",
   "execution_count": 6,
   "id": "363dcfbb",
   "metadata": {
    "execution": {
     "iopub.execute_input": "2022-08-06T07:32:24.753328Z",
     "iopub.status.busy": "2022-08-06T07:32:24.752446Z",
     "iopub.status.idle": "2022-08-06T07:32:24.802028Z",
     "shell.execute_reply": "2022-08-06T07:32:24.800946Z"
    },
    "papermill": {
     "duration": 0.063918,
     "end_time": "2022-08-06T07:32:24.804930",
     "exception": false,
     "start_time": "2022-08-06T07:32:24.741012",
     "status": "completed"
    },
    "tags": []
   },
   "outputs": [
    {
     "data": {
      "text/html": [
       "<div>\n",
       "<style scoped>\n",
       "    .dataframe tbody tr th:only-of-type {\n",
       "        vertical-align: middle;\n",
       "    }\n",
       "\n",
       "    .dataframe tbody tr th {\n",
       "        vertical-align: top;\n",
       "    }\n",
       "\n",
       "    .dataframe thead th {\n",
       "        text-align: right;\n",
       "    }\n",
       "</style>\n",
       "<table border=\"1\" class=\"dataframe\">\n",
       "  <thead>\n",
       "    <tr style=\"text-align: right;\">\n",
       "      <th></th>\n",
       "      <th>GRE Score</th>\n",
       "      <th>TOEFL Score</th>\n",
       "      <th>University Rating</th>\n",
       "      <th>SOP</th>\n",
       "      <th>LOR</th>\n",
       "      <th>CGPA</th>\n",
       "      <th>Research</th>\n",
       "      <th>Chance of Admit</th>\n",
       "    </tr>\n",
       "  </thead>\n",
       "  <tbody>\n",
       "    <tr>\n",
       "      <th>count</th>\n",
       "      <td>500.000000</td>\n",
       "      <td>500.000000</td>\n",
       "      <td>500.000000</td>\n",
       "      <td>500.000000</td>\n",
       "      <td>500.00000</td>\n",
       "      <td>500.000000</td>\n",
       "      <td>500.000000</td>\n",
       "      <td>500.00000</td>\n",
       "    </tr>\n",
       "    <tr>\n",
       "      <th>mean</th>\n",
       "      <td>316.472000</td>\n",
       "      <td>107.192000</td>\n",
       "      <td>3.114000</td>\n",
       "      <td>3.374000</td>\n",
       "      <td>3.48400</td>\n",
       "      <td>8.576440</td>\n",
       "      <td>0.560000</td>\n",
       "      <td>0.72174</td>\n",
       "    </tr>\n",
       "    <tr>\n",
       "      <th>std</th>\n",
       "      <td>11.295148</td>\n",
       "      <td>6.081868</td>\n",
       "      <td>1.143512</td>\n",
       "      <td>0.991004</td>\n",
       "      <td>0.92545</td>\n",
       "      <td>0.604813</td>\n",
       "      <td>0.496884</td>\n",
       "      <td>0.14114</td>\n",
       "    </tr>\n",
       "    <tr>\n",
       "      <th>min</th>\n",
       "      <td>290.000000</td>\n",
       "      <td>92.000000</td>\n",
       "      <td>1.000000</td>\n",
       "      <td>1.000000</td>\n",
       "      <td>1.00000</td>\n",
       "      <td>6.800000</td>\n",
       "      <td>0.000000</td>\n",
       "      <td>0.34000</td>\n",
       "    </tr>\n",
       "    <tr>\n",
       "      <th>25%</th>\n",
       "      <td>308.000000</td>\n",
       "      <td>103.000000</td>\n",
       "      <td>2.000000</td>\n",
       "      <td>2.500000</td>\n",
       "      <td>3.00000</td>\n",
       "      <td>8.127500</td>\n",
       "      <td>0.000000</td>\n",
       "      <td>0.63000</td>\n",
       "    </tr>\n",
       "    <tr>\n",
       "      <th>50%</th>\n",
       "      <td>317.000000</td>\n",
       "      <td>107.000000</td>\n",
       "      <td>3.000000</td>\n",
       "      <td>3.500000</td>\n",
       "      <td>3.50000</td>\n",
       "      <td>8.560000</td>\n",
       "      <td>1.000000</td>\n",
       "      <td>0.72000</td>\n",
       "    </tr>\n",
       "    <tr>\n",
       "      <th>75%</th>\n",
       "      <td>325.000000</td>\n",
       "      <td>112.000000</td>\n",
       "      <td>4.000000</td>\n",
       "      <td>4.000000</td>\n",
       "      <td>4.00000</td>\n",
       "      <td>9.040000</td>\n",
       "      <td>1.000000</td>\n",
       "      <td>0.82000</td>\n",
       "    </tr>\n",
       "    <tr>\n",
       "      <th>max</th>\n",
       "      <td>340.000000</td>\n",
       "      <td>120.000000</td>\n",
       "      <td>5.000000</td>\n",
       "      <td>5.000000</td>\n",
       "      <td>5.00000</td>\n",
       "      <td>9.920000</td>\n",
       "      <td>1.000000</td>\n",
       "      <td>0.97000</td>\n",
       "    </tr>\n",
       "  </tbody>\n",
       "</table>\n",
       "</div>"
      ],
      "text/plain": [
       "        GRE Score  TOEFL Score  University Rating         SOP       LOR   \\\n",
       "count  500.000000   500.000000         500.000000  500.000000  500.00000   \n",
       "mean   316.472000   107.192000           3.114000    3.374000    3.48400   \n",
       "std     11.295148     6.081868           1.143512    0.991004    0.92545   \n",
       "min    290.000000    92.000000           1.000000    1.000000    1.00000   \n",
       "25%    308.000000   103.000000           2.000000    2.500000    3.00000   \n",
       "50%    317.000000   107.000000           3.000000    3.500000    3.50000   \n",
       "75%    325.000000   112.000000           4.000000    4.000000    4.00000   \n",
       "max    340.000000   120.000000           5.000000    5.000000    5.00000   \n",
       "\n",
       "             CGPA    Research  Chance of Admit   \n",
       "count  500.000000  500.000000         500.00000  \n",
       "mean     8.576440    0.560000           0.72174  \n",
       "std      0.604813    0.496884           0.14114  \n",
       "min      6.800000    0.000000           0.34000  \n",
       "25%      8.127500    0.000000           0.63000  \n",
       "50%      8.560000    1.000000           0.72000  \n",
       "75%      9.040000    1.000000           0.82000  \n",
       "max      9.920000    1.000000           0.97000  "
      ]
     },
     "execution_count": 6,
     "metadata": {},
     "output_type": "execute_result"
    }
   ],
   "source": [
    "df.describe()"
   ]
  },
  {
   "cell_type": "code",
   "execution_count": 7,
   "id": "30f9f59c",
   "metadata": {
    "execution": {
     "iopub.execute_input": "2022-08-06T07:32:24.829472Z",
     "iopub.status.busy": "2022-08-06T07:32:24.828560Z",
     "iopub.status.idle": "2022-08-06T07:32:24.835982Z",
     "shell.execute_reply": "2022-08-06T07:32:24.835016Z"
    },
    "papermill": {
     "duration": 0.022338,
     "end_time": "2022-08-06T07:32:24.838345",
     "exception": false,
     "start_time": "2022-08-06T07:32:24.816007",
     "status": "completed"
    },
    "tags": []
   },
   "outputs": [
    {
     "data": {
      "text/plain": [
       "Index(['GRE Score', 'TOEFL Score', 'University Rating', 'SOP', 'LOR ', 'CGPA',\n",
       "       'Research', 'Chance of Admit '],\n",
       "      dtype='object')"
      ]
     },
     "execution_count": 7,
     "metadata": {},
     "output_type": "execute_result"
    }
   ],
   "source": [
    "df.columns"
   ]
  },
  {
   "cell_type": "code",
   "execution_count": 8,
   "id": "240a739e",
   "metadata": {
    "execution": {
     "iopub.execute_input": "2022-08-06T07:32:24.861900Z",
     "iopub.status.busy": "2022-08-06T07:32:24.861093Z",
     "iopub.status.idle": "2022-08-06T07:32:25.061399Z",
     "shell.execute_reply": "2022-08-06T07:32:25.060285Z"
    },
    "papermill": {
     "duration": 0.214744,
     "end_time": "2022-08-06T07:32:25.063774",
     "exception": false,
     "start_time": "2022-08-06T07:32:24.849030",
     "status": "completed"
    },
    "tags": []
   },
   "outputs": [
    {
     "data": {
      "text/plain": [
       "<AxesSubplot:xlabel='Research', ylabel='count'>"
      ]
     },
     "execution_count": 8,
     "metadata": {},
     "output_type": "execute_result"
    },
    {
     "data": {
      "image/png": "[encoded data removed]",
      "text/plain": [
       "<Figure size 432x288 with 1 Axes>"
      ]
     },
     "metadata": {
      "needs_background": "light"
     },
     "output_type": "display_data"
    }
   ],
   "source": [
    "sns.countplot(x='Research',data=df)"
   ]
  },
  {
   "cell_type": "code",
   "execution_count": 9,
   "id": "f4161cee",
   "metadata": {
    "execution": {
     "iopub.execute_input": "2022-08-06T07:32:25.086835Z",
     "iopub.status.busy": "2022-08-06T07:32:25.086386Z",
     "iopub.status.idle": "2022-08-06T07:32:25.344874Z",
     "shell.execute_reply": "2022-08-06T07:32:25.343540Z"
    },
    "papermill": {
     "duration": 0.273087,
     "end_time": "2022-08-06T07:32:25.347417",
     "exception": false,
     "start_time": "2022-08-06T07:32:25.074330",
     "status": "completed"
    },
    "tags": []
   },
   "outputs": [
    {
     "data": {
      "text/plain": [
       "<AxesSubplot:xlabel='Chance of Admit ', ylabel='SOP'>"
      ]
     },
     "execution_count": 9,
     "metadata": {},
     "output_type": "execute_result"
    },
    {
     "data": {
      "image/png": "[encoded data removed]",
      "text/plain": [
       "<Figure size 432x288 with 1 Axes>"
      ]
     },
     "metadata": {
      "needs_background": "light"
     },
     "output_type": "display_data"
    }
   ],
   "source": [
    "df.plot.scatter('Chance of Admit ','SOP', color = 'darkturquoise')"
   ]
  },
  {
   "cell_type": "code",
   "execution_count": 10,
   "id": "0e63a407",
   "metadata": {
    "execution": {
     "iopub.execute_input": "2022-08-06T07:32:25.372320Z",
     "iopub.status.busy": "2022-08-06T07:32:25.371772Z",
     "iopub.status.idle": "2022-08-06T07:32:25.596434Z",
     "shell.execute_reply": "2022-08-06T07:32:25.595149Z"
    },
    "papermill": {
     "duration": 0.240361,
     "end_time": "2022-08-06T07:32:25.599279",
     "exception": false,
     "start_time": "2022-08-06T07:32:25.358918",
     "status": "completed"
    },
    "tags": []
   },
   "outputs": [
    {
     "data": {
      "text/plain": [
       "<AxesSubplot:xlabel='Chance of Admit ', ylabel='GRE Score'>"
      ]
     },
     "execution_count": 10,
     "metadata": {},
     "output_type": "execute_result"
    },
    {
     "data": {
      "image/png": "[encoded data removed]",
      "text/plain": [
       "<Figure size 432x288 with 1 Axes>"
      ]
     },
     "metadata": {
      "needs_background": "light"
     },
     "output_type": "display_data"
    }
   ],
   "source": [
    "df.plot.scatter('Chance of Admit ','GRE Score', color = 'red')"
   ]
  },
  {
   "cell_type": "markdown",
   "id": "167fd701",
   "metadata": {
    "papermill": {
     "duration": 0.011446,
     "end_time": "2022-08-06T07:32:25.622823",
     "exception": false,
     "start_time": "2022-08-06T07:32:25.611377",
     "status": "completed"
    },
    "tags": []
   },
   "source": [
    "#  THE CHANCE OF GETTING AN ADMIT INCREASES WITH HIGH GRE SCORE.\n",
    "#  THE IDEAL GRE SCORE IS 320+"
   ]
  },
  {
   "cell_type": "code",
   "execution_count": 11,
   "id": "cb18ee02",
   "metadata": {
    "execution": {
     "iopub.execute_input": "2022-08-06T07:32:25.648165Z",
     "iopub.status.busy": "2022-08-06T07:32:25.647231Z",
     "iopub.status.idle": "2022-08-06T07:32:25.861947Z",
     "shell.execute_reply": "2022-08-06T07:32:25.860835Z"
    },
    "papermill": {
     "duration": 0.229908,
     "end_time": "2022-08-06T07:32:25.864290",
     "exception": false,
     "start_time": "2022-08-06T07:32:25.634382",
     "status": "completed"
    },
    "tags": []
   },
   "outputs": [
    {
     "data": {
      "text/plain": [
       "<AxesSubplot:xlabel='Chance of Admit ', ylabel='CGPA'>"
      ]
     },
     "execution_count": 11,
     "metadata": {},
     "output_type": "execute_result"
    },
    {
     "data": {
      "image/png": "[encoded data removed]",
      "text/plain": [
       "<Figure size 432x288 with 1 Axes>"
      ]
     },
     "metadata": {
      "needs_background": "light"
     },
     "output_type": "display_data"
    }
   ],
   "source": [
    "df.plot.scatter('Chance of Admit ','CGPA', color = 'darkturquoise')"
   ]
  },
  {
   "cell_type": "markdown",
   "id": "9641ac7b",
   "metadata": {
    "papermill": {
     "duration": 0.013453,
     "end_time": "2022-08-06T07:32:25.890897",
     "exception": false,
     "start_time": "2022-08-06T07:32:25.877444",
     "status": "completed"
    },
    "tags": []
   },
   "source": [
    "# CHANCE OF ADMIT INCREASES WITH CGPA.\n",
    "# IDEAL CGPA IS 8.5 CGPA +"
   ]
  },
  {
   "cell_type": "code",
   "execution_count": 12,
   "id": "1f0b38e1",
   "metadata": {
    "execution": {
     "iopub.execute_input": "2022-08-06T07:32:25.917006Z",
     "iopub.status.busy": "2022-08-06T07:32:25.916553Z",
     "iopub.status.idle": "2022-08-06T07:32:26.132364Z",
     "shell.execute_reply": "2022-08-06T07:32:26.131157Z"
    },
    "papermill": {
     "duration": 0.231446,
     "end_time": "2022-08-06T07:32:26.135089",
     "exception": false,
     "start_time": "2022-08-06T07:32:25.903643",
     "status": "completed"
    },
    "tags": []
   },
   "outputs": [
    {
     "data": {
      "text/plain": [
       "<AxesSubplot:xlabel='Chance of Admit ', ylabel='TOEFL Score'>"
      ]
     },
     "execution_count": 12,
     "metadata": {},
     "output_type": "execute_result"
    },
    {
     "data": {
      "image/png": "[encoded data removed]",
      "text/plain": [
       "<Figure size 432x288 with 1 Axes>"
      ]
     },
     "metadata": {
      "needs_background": "light"
     },
     "output_type": "display_data"
    }
   ],
   "source": [
    "df.plot.scatter('Chance of Admit ','TOEFL Score', color = 'blue')"
   ]
  },
  {
   "cell_type": "markdown",
   "id": "117c03e6",
   "metadata": {
    "papermill": {
     "duration": 0.01398,
     "end_time": "2022-08-06T07:32:26.163547",
     "exception": false,
     "start_time": "2022-08-06T07:32:26.149567",
     "status": "completed"
    },
    "tags": []
   },
   "source": [
    "# CHANCE OF ADMIT INCREASES WITH TOEFL SCORE\n",
    "# IDEAL SCORE IS 110 +"
   ]
  },
  {
   "cell_type": "code",
   "execution_count": 13,
   "id": "e03a9d08",
   "metadata": {
    "execution": {
     "iopub.execute_input": "2022-08-06T07:32:26.194894Z",
     "iopub.status.busy": "2022-08-06T07:32:26.194475Z",
     "iopub.status.idle": "2022-08-06T07:32:26.401182Z",
     "shell.execute_reply": "2022-08-06T07:32:26.400004Z"
    },
    "papermill": {
     "duration": 0.225695,
     "end_time": "2022-08-06T07:32:26.404029",
     "exception": false,
     "start_time": "2022-08-06T07:32:26.178334",
     "status": "completed"
    },
    "tags": []
   },
   "outputs": [
    {
     "data": {
      "text/plain": [
       "<AxesSubplot:xlabel='GRE Score', ylabel='TOEFL Score'>"
      ]
     },
     "execution_count": 13,
     "metadata": {},
     "output_type": "execute_result"
    },
    {
     "data": {
      "image/png": "[encoded data removed]",
      "text/plain": [
       "<Figure size 432x288 with 1 Axes>"
      ]
     },
     "metadata": {
      "needs_background": "light"
     },
     "output_type": "display_data"
    }
   ],
   "source": [
    "df.plot.scatter('GRE Score','TOEFL Score', color = 'blue')"
   ]
  },
  {
   "cell_type": "markdown",
   "id": "e2887e10",
   "metadata": {
    "papermill": {
     "duration": 0.013259,
     "end_time": "2022-08-06T07:32:26.431510",
     "exception": false,
     "start_time": "2022-08-06T07:32:26.418251",
     "status": "completed"
    },
    "tags": []
   },
   "source": [
    "# THE TREND OBSERVED IS THAT ASPIRANTS WHO SCORED BETTER IN GRE SCORED BETTER IN TOEFL AND VICE-VERSA"
   ]
  },
  {
   "cell_type": "code",
   "execution_count": 14,
   "id": "faadd8ad",
   "metadata": {
    "execution": {
     "iopub.execute_input": "2022-08-06T07:32:26.461839Z",
     "iopub.status.busy": "2022-08-06T07:32:26.461398Z",
     "iopub.status.idle": "2022-08-06T07:32:26.676548Z",
     "shell.execute_reply": "2022-08-06T07:32:26.675473Z"
    },
    "papermill": {
     "duration": 0.233587,
     "end_time": "2022-08-06T07:32:26.679274",
     "exception": false,
     "start_time": "2022-08-06T07:32:26.445687",
     "status": "completed"
    },
    "tags": []
   },
   "outputs": [
    {
     "data": {
      "text/plain": [
       "<AxesSubplot:xlabel='GRE Score', ylabel='CGPA'>"
      ]
     },
     "execution_count": 14,
     "metadata": {},
     "output_type": "execute_result"
    },
    {
     "data": {
      "image/png": "[encoded data removed]",
      "text/plain": [
       "<Figure size 432x288 with 1 Axes>"
      ]
     },
     "metadata": {
      "needs_background": "light"
     },
     "output_type": "display_data"
    }
   ],
   "source": [
    "df.plot.scatter('GRE Score','CGPA', color = 'green')"
   ]
  },
  {
   "cell_type": "markdown",
   "id": "6daec792",
   "metadata": {
    "papermill": {
     "duration": 0.014898,
     "end_time": "2022-08-06T07:32:26.709193",
     "exception": false,
     "start_time": "2022-08-06T07:32:26.694295",
     "status": "completed"
    },
    "tags": []
   },
   "source": [
    "# THE TREND OBSERVED IS THAT THOSE WHO HAVE A BETTER CGPA IN COLLEGE TEND TO SCORE BETTER IN GRE"
   ]
  },
  {
   "cell_type": "code",
   "execution_count": 15,
   "id": "9ec498f8",
   "metadata": {
    "execution": {
     "iopub.execute_input": "2022-08-06T07:32:26.738055Z",
     "iopub.status.busy": "2022-08-06T07:32:26.737664Z",
     "iopub.status.idle": "2022-08-06T07:32:26.744131Z",
     "shell.execute_reply": "2022-08-06T07:32:26.742999Z"
    },
    "papermill": {
     "duration": 0.023522,
     "end_time": "2022-08-06T07:32:26.746361",
     "exception": false,
     "start_time": "2022-08-06T07:32:26.722839",
     "status": "completed"
    },
    "tags": []
   },
   "outputs": [],
   "source": [
    "X=df.drop([\"Chance of Admit \",],axis=1)\n",
    "y=df['Chance of Admit ']"
   ]
  },
  {
   "cell_type": "code",
   "execution_count": 16,
   "id": "e6a74631",
   "metadata": {
    "execution": {
     "iopub.execute_input": "2022-08-06T07:32:26.775018Z",
     "iopub.status.busy": "2022-08-06T07:32:26.774530Z",
     "iopub.status.idle": "2022-08-06T07:32:27.371539Z",
     "shell.execute_reply": "2022-08-06T07:32:27.370377Z"
    },
    "papermill": {
     "duration": 0.614573,
     "end_time": "2022-08-06T07:32:27.374341",
     "exception": false,
     "start_time": "2022-08-06T07:32:26.759768",
     "status": "completed"
    },
    "tags": []
   },
   "outputs": [
    {
     "data": {
      "image/png": "[encoded data removed]",
      "text/plain": [
       "<Figure size 720x720 with 2 Axes>"
      ]
     },
     "metadata": {
      "needs_background": "light"
     },
     "output_type": "display_data"
    }
   ],
   "source": [
    "import matplotlib.pyplot as plt\n",
    "import seaborn as sns\n",
    "plt.figure(figsize=(10,10))\n",
    "sns.heatmap(df.corr(),linewidths=0.5,annot=True)\n",
    "plt.show()"
   ]
  },
  {
   "cell_type": "code",
   "execution_count": 17,
   "id": "3d08c10f",
   "metadata": {
    "execution": {
     "iopub.execute_input": "2022-08-06T07:32:27.408410Z",
     "iopub.status.busy": "2022-08-06T07:32:27.407341Z",
     "iopub.status.idle": "2022-08-06T07:32:27.607373Z",
     "shell.execute_reply": "2022-08-06T07:32:27.605990Z"
    },
    "papermill": {
     "duration": 0.219862,
     "end_time": "2022-08-06T07:32:27.610366",
     "exception": false,
     "start_time": "2022-08-06T07:32:27.390504",
     "status": "completed"
    },
    "tags": []
   },
   "outputs": [],
   "source": [
    "from sklearn.model_selection import train_test_split\n",
    "X_train,X_test,y_train,y_test=train_test_split(X,y,test_size=0.2,random_state=2003)"
   ]
  },
  {
   "cell_type": "code",
   "execution_count": 18,
   "id": "3ab6365d",
   "metadata": {
    "execution": {
     "iopub.execute_input": "2022-08-06T07:32:27.642041Z",
     "iopub.status.busy": "2022-08-06T07:32:27.641498Z",
     "iopub.status.idle": "2022-08-06T07:32:27.663274Z",
     "shell.execute_reply": "2022-08-06T07:32:27.662133Z"
    },
    "papermill": {
     "duration": 0.04015,
     "end_time": "2022-08-06T07:32:27.665961",
     "exception": false,
     "start_time": "2022-08-06T07:32:27.625811",
     "status": "completed"
    },
    "tags": []
   },
   "outputs": [
    {
     "data": {
      "text/html": [
       "<div>\n",
       "<style scoped>\n",
       "    .dataframe tbody tr th:only-of-type {\n",
       "        vertical-align: middle;\n",
       "    }\n",
       "\n",
       "    .dataframe tbody tr th {\n",
       "        vertical-align: top;\n",
       "    }\n",
       "\n",
       "    .dataframe thead th {\n",
       "        text-align: right;\n",
       "    }\n",
       "</style>\n",
       "<table border=\"1\" class=\"dataframe\">\n",
       "  <thead>\n",
       "    <tr style=\"text-align: right;\">\n",
       "      <th></th>\n",
       "      <th>GRE Score</th>\n",
       "      <th>TOEFL Score</th>\n",
       "      <th>University Rating</th>\n",
       "      <th>SOP</th>\n",
       "      <th>LOR</th>\n",
       "      <th>CGPA</th>\n",
       "      <th>Research</th>\n",
       "    </tr>\n",
       "  </thead>\n",
       "  <tbody>\n",
       "    <tr>\n",
       "      <th>226</th>\n",
       "      <td>306</td>\n",
       "      <td>110</td>\n",
       "      <td>2</td>\n",
       "      <td>3.5</td>\n",
       "      <td>4.0</td>\n",
       "      <td>8.45</td>\n",
       "      <td>0</td>\n",
       "    </tr>\n",
       "    <tr>\n",
       "      <th>31</th>\n",
       "      <td>327</td>\n",
       "      <td>103</td>\n",
       "      <td>3</td>\n",
       "      <td>4.0</td>\n",
       "      <td>4.0</td>\n",
       "      <td>8.30</td>\n",
       "      <td>1</td>\n",
       "    </tr>\n",
       "    <tr>\n",
       "      <th>279</th>\n",
       "      <td>304</td>\n",
       "      <td>102</td>\n",
       "      <td>2</td>\n",
       "      <td>3.0</td>\n",
       "      <td>4.0</td>\n",
       "      <td>8.73</td>\n",
       "      <td>0</td>\n",
       "    </tr>\n",
       "    <tr>\n",
       "      <th>435</th>\n",
       "      <td>309</td>\n",
       "      <td>105</td>\n",
       "      <td>2</td>\n",
       "      <td>2.5</td>\n",
       "      <td>4.0</td>\n",
       "      <td>7.68</td>\n",
       "      <td>0</td>\n",
       "    </tr>\n",
       "    <tr>\n",
       "      <th>90</th>\n",
       "      <td>318</td>\n",
       "      <td>106</td>\n",
       "      <td>2</td>\n",
       "      <td>4.0</td>\n",
       "      <td>4.0</td>\n",
       "      <td>7.92</td>\n",
       "      <td>1</td>\n",
       "    </tr>\n",
       "    <tr>\n",
       "      <th>...</th>\n",
       "      <td>...</td>\n",
       "      <td>...</td>\n",
       "      <td>...</td>\n",
       "      <td>...</td>\n",
       "      <td>...</td>\n",
       "      <td>...</td>\n",
       "      <td>...</td>\n",
       "    </tr>\n",
       "    <tr>\n",
       "      <th>478</th>\n",
       "      <td>318</td>\n",
       "      <td>103</td>\n",
       "      <td>3</td>\n",
       "      <td>4.0</td>\n",
       "      <td>4.5</td>\n",
       "      <td>8.49</td>\n",
       "      <td>1</td>\n",
       "    </tr>\n",
       "    <tr>\n",
       "      <th>327</th>\n",
       "      <td>295</td>\n",
       "      <td>101</td>\n",
       "      <td>2</td>\n",
       "      <td>2.5</td>\n",
       "      <td>2.0</td>\n",
       "      <td>7.86</td>\n",
       "      <td>0</td>\n",
       "    </tr>\n",
       "    <tr>\n",
       "      <th>26</th>\n",
       "      <td>322</td>\n",
       "      <td>109</td>\n",
       "      <td>5</td>\n",
       "      <td>4.5</td>\n",
       "      <td>3.5</td>\n",
       "      <td>8.80</td>\n",
       "      <td>0</td>\n",
       "    </tr>\n",
       "    <tr>\n",
       "      <th>407</th>\n",
       "      <td>298</td>\n",
       "      <td>100</td>\n",
       "      <td>3</td>\n",
       "      <td>2.5</td>\n",
       "      <td>4.0</td>\n",
       "      <td>7.95</td>\n",
       "      <td>1</td>\n",
       "    </tr>\n",
       "    <tr>\n",
       "      <th>392</th>\n",
       "      <td>326</td>\n",
       "      <td>112</td>\n",
       "      <td>4</td>\n",
       "      <td>4.0</td>\n",
       "      <td>3.5</td>\n",
       "      <td>9.12</td>\n",
       "      <td>1</td>\n",
       "    </tr>\n",
       "  </tbody>\n",
       "</table>\n",
       "<p>400 rows × 7 columns</p>\n",
       "</div>"
      ],
      "text/plain": [
       "     GRE Score  TOEFL Score  University Rating  SOP  LOR   CGPA  Research\n",
       "226        306          110                  2  3.5   4.0  8.45         0\n",
       "31         327          103                  3  4.0   4.0  8.30         1\n",
       "279        304          102                  2  3.0   4.0  8.73         0\n",
       "435        309          105                  2  2.5   4.0  7.68         0\n",
       "90         318          106                  2  4.0   4.0  7.92         1\n",
       "..         ...          ...                ...  ...   ...   ...       ...\n",
       "478        318          103                  3  4.0   4.5  8.49         1\n",
       "327        295          101                  2  2.5   2.0  7.86         0\n",
       "26         322          109                  5  4.5   3.5  8.80         0\n",
       "407        298          100                  3  2.5   4.0  7.95         1\n",
       "392        326          112                  4  4.0   3.5  9.12         1\n",
       "\n",
       "[400 rows x 7 columns]"
      ]
     },
     "execution_count": 18,
     "metadata": {},
     "output_type": "execute_result"
    }
   ],
   "source": [
    "X_train"
   ]
  },
  {
   "cell_type": "code",
   "execution_count": 19,
   "id": "0747fb26",
   "metadata": {
    "execution": {
     "iopub.execute_input": "2022-08-06T07:32:27.700775Z",
     "iopub.status.busy": "2022-08-06T07:32:27.699700Z",
     "iopub.status.idle": "2022-08-06T07:32:27.718924Z",
     "shell.execute_reply": "2022-08-06T07:32:27.717570Z"
    },
    "papermill": {
     "duration": 0.03813,
     "end_time": "2022-08-06T07:32:27.721394",
     "exception": false,
     "start_time": "2022-08-06T07:32:27.683264",
     "status": "completed"
    },
    "tags": []
   },
   "outputs": [
    {
     "data": {
      "text/html": [
       "<div>\n",
       "<style scoped>\n",
       "    .dataframe tbody tr th:only-of-type {\n",
       "        vertical-align: middle;\n",
       "    }\n",
       "\n",
       "    .dataframe tbody tr th {\n",
       "        vertical-align: top;\n",
       "    }\n",
       "\n",
       "    .dataframe thead th {\n",
       "        text-align: right;\n",
       "    }\n",
       "</style>\n",
       "<table border=\"1\" class=\"dataframe\">\n",
       "  <thead>\n",
       "    <tr style=\"text-align: right;\">\n",
       "      <th></th>\n",
       "      <th>GRE Score</th>\n",
       "      <th>TOEFL Score</th>\n",
       "      <th>University Rating</th>\n",
       "      <th>SOP</th>\n",
       "      <th>LOR</th>\n",
       "      <th>CGPA</th>\n",
       "      <th>Research</th>\n",
       "    </tr>\n",
       "  </thead>\n",
       "  <tbody>\n",
       "    <tr>\n",
       "      <th>105</th>\n",
       "      <td>316</td>\n",
       "      <td>110</td>\n",
       "      <td>3</td>\n",
       "      <td>4.0</td>\n",
       "      <td>4.5</td>\n",
       "      <td>8.78</td>\n",
       "      <td>1</td>\n",
       "    </tr>\n",
       "    <tr>\n",
       "      <th>131</th>\n",
       "      <td>303</td>\n",
       "      <td>105</td>\n",
       "      <td>5</td>\n",
       "      <td>5.0</td>\n",
       "      <td>4.5</td>\n",
       "      <td>8.65</td>\n",
       "      <td>0</td>\n",
       "    </tr>\n",
       "    <tr>\n",
       "      <th>59</th>\n",
       "      <td>311</td>\n",
       "      <td>104</td>\n",
       "      <td>2</td>\n",
       "      <td>2.0</td>\n",
       "      <td>2.0</td>\n",
       "      <td>8.30</td>\n",
       "      <td>0</td>\n",
       "    </tr>\n",
       "    <tr>\n",
       "      <th>378</th>\n",
       "      <td>303</td>\n",
       "      <td>98</td>\n",
       "      <td>1</td>\n",
       "      <td>2.0</td>\n",
       "      <td>2.5</td>\n",
       "      <td>7.65</td>\n",
       "      <td>0</td>\n",
       "    </tr>\n",
       "    <tr>\n",
       "      <th>355</th>\n",
       "      <td>317</td>\n",
       "      <td>106</td>\n",
       "      <td>2</td>\n",
       "      <td>2.0</td>\n",
       "      <td>3.5</td>\n",
       "      <td>8.12</td>\n",
       "      <td>0</td>\n",
       "    </tr>\n",
       "    <tr>\n",
       "      <th>...</th>\n",
       "      <td>...</td>\n",
       "      <td>...</td>\n",
       "      <td>...</td>\n",
       "      <td>...</td>\n",
       "      <td>...</td>\n",
       "      <td>...</td>\n",
       "      <td>...</td>\n",
       "    </tr>\n",
       "    <tr>\n",
       "      <th>381</th>\n",
       "      <td>319</td>\n",
       "      <td>105</td>\n",
       "      <td>3</td>\n",
       "      <td>3.0</td>\n",
       "      <td>3.5</td>\n",
       "      <td>8.67</td>\n",
       "      <td>1</td>\n",
       "    </tr>\n",
       "    <tr>\n",
       "      <th>44</th>\n",
       "      <td>326</td>\n",
       "      <td>113</td>\n",
       "      <td>5</td>\n",
       "      <td>4.5</td>\n",
       "      <td>4.0</td>\n",
       "      <td>9.40</td>\n",
       "      <td>1</td>\n",
       "    </tr>\n",
       "    <tr>\n",
       "      <th>171</th>\n",
       "      <td>334</td>\n",
       "      <td>117</td>\n",
       "      <td>5</td>\n",
       "      <td>4.0</td>\n",
       "      <td>4.5</td>\n",
       "      <td>9.07</td>\n",
       "      <td>1</td>\n",
       "    </tr>\n",
       "    <tr>\n",
       "      <th>364</th>\n",
       "      <td>313</td>\n",
       "      <td>102</td>\n",
       "      <td>3</td>\n",
       "      <td>3.5</td>\n",
       "      <td>4.0</td>\n",
       "      <td>8.90</td>\n",
       "      <td>1</td>\n",
       "    </tr>\n",
       "    <tr>\n",
       "      <th>182</th>\n",
       "      <td>299</td>\n",
       "      <td>100</td>\n",
       "      <td>2</td>\n",
       "      <td>3.0</td>\n",
       "      <td>3.5</td>\n",
       "      <td>7.88</td>\n",
       "      <td>0</td>\n",
       "    </tr>\n",
       "  </tbody>\n",
       "</table>\n",
       "<p>100 rows × 7 columns</p>\n",
       "</div>"
      ],
      "text/plain": [
       "     GRE Score  TOEFL Score  University Rating  SOP  LOR   CGPA  Research\n",
       "105        316          110                  3  4.0   4.5  8.78         1\n",
       "131        303          105                  5  5.0   4.5  8.65         0\n",
       "59         311          104                  2  2.0   2.0  8.30         0\n",
       "378        303           98                  1  2.0   2.5  7.65         0\n",
       "355        317          106                  2  2.0   3.5  8.12         0\n",
       "..         ...          ...                ...  ...   ...   ...       ...\n",
       "381        319          105                  3  3.0   3.5  8.67         1\n",
       "44         326          113                  5  4.5   4.0  9.40         1\n",
       "171        334          117                  5  4.0   4.5  9.07         1\n",
       "364        313          102                  3  3.5   4.0  8.90         1\n",
       "182        299          100                  2  3.0   3.5  7.88         0\n",
       "\n",
       "[100 rows x 7 columns]"
      ]
     },
     "execution_count": 19,
     "metadata": {},
     "output_type": "execute_result"
    }
   ],
   "source": [
    "X_test"
   ]
  },
  {
   "cell_type": "code",
   "execution_count": 20,
   "id": "d9ca466a",
   "metadata": {
    "execution": {
     "iopub.execute_input": "2022-08-06T07:32:27.754192Z",
     "iopub.status.busy": "2022-08-06T07:32:27.753743Z",
     "iopub.status.idle": "2022-08-06T07:32:27.764283Z",
     "shell.execute_reply": "2022-08-06T07:32:27.762986Z"
    },
    "papermill": {
     "duration": 0.029509,
     "end_time": "2022-08-06T07:32:27.766390",
     "exception": false,
     "start_time": "2022-08-06T07:32:27.736881",
     "status": "completed"
    },
    "tags": []
   },
   "outputs": [
    {
     "data": {
      "text/plain": [
       "226    0.63\n",
       "31     0.74\n",
       "279    0.67\n",
       "435    0.55\n",
       "90     0.64\n",
       "       ... \n",
       "478    0.71\n",
       "327    0.69\n",
       "26     0.76\n",
       "407    0.58\n",
       "392    0.84\n",
       "Name: Chance of Admit , Length: 400, dtype: float64"
      ]
     },
     "execution_count": 20,
     "metadata": {},
     "output_type": "execute_result"
    }
   ],
   "source": [
    "y_train"
   ]
  },
  {
   "cell_type": "code",
   "execution_count": 21,
   "id": "074c025d",
   "metadata": {
    "execution": {
     "iopub.execute_input": "2022-08-06T07:32:27.799041Z",
     "iopub.status.busy": "2022-08-06T07:32:27.797796Z",
     "iopub.status.idle": "2022-08-06T07:32:27.806646Z",
     "shell.execute_reply": "2022-08-06T07:32:27.805725Z"
    },
    "papermill": {
     "duration": 0.027408,
     "end_time": "2022-08-06T07:32:27.808811",
     "exception": false,
     "start_time": "2022-08-06T07:32:27.781403",
     "status": "completed"
    },
    "tags": []
   },
   "outputs": [
    {
     "data": {
      "text/plain": [
       "105    0.69\n",
       "131    0.77\n",
       "59     0.42\n",
       "378    0.56\n",
       "355    0.73\n",
       "       ... \n",
       "381    0.73\n",
       "44     0.91\n",
       "171    0.89\n",
       "364    0.77\n",
       "182    0.68\n",
       "Name: Chance of Admit , Length: 100, dtype: float64"
      ]
     },
     "execution_count": 21,
     "metadata": {},
     "output_type": "execute_result"
    }
   ],
   "source": [
    "y_test"
   ]
  },
  {
   "cell_type": "code",
   "execution_count": 22,
   "id": "cfbfde95",
   "metadata": {
    "execution": {
     "iopub.execute_input": "2022-08-06T07:32:27.840949Z",
     "iopub.status.busy": "2022-08-06T07:32:27.840222Z",
     "iopub.status.idle": "2022-08-06T07:32:28.272307Z",
     "shell.execute_reply": "2022-08-06T07:32:28.271041Z"
    },
    "papermill": {
     "duration": 0.451218,
     "end_time": "2022-08-06T07:32:28.274985",
     "exception": false,
     "start_time": "2022-08-06T07:32:27.823767",
     "status": "completed"
    },
    "tags": []
   },
   "outputs": [],
   "source": [
    "from sklearn.ensemble import RandomForestRegressor\n",
    "rf_classifier=RandomForestRegressor(n_estimators=100).fit(X_train,y_train)\n",
    "prediction=rf_classifier.predict(X_test)"
   ]
  },
  {
   "cell_type": "code",
   "execution_count": 23,
   "id": "a32881cd",
   "metadata": {
    "execution": {
     "iopub.execute_input": "2022-08-06T07:32:28.307047Z",
     "iopub.status.busy": "2022-08-06T07:32:28.306681Z",
     "iopub.status.idle": "2022-08-06T07:32:28.314023Z",
     "shell.execute_reply": "2022-08-06T07:32:28.312755Z"
    },
    "papermill": {
     "duration": 0.026873,
     "end_time": "2022-08-06T07:32:28.316859",
     "exception": false,
     "start_time": "2022-08-06T07:32:28.289986",
     "status": "completed"
    },
    "tags": []
   },
   "outputs": [
    {
     "data": {
      "text/plain": [
       "0.8081949202352426"
      ]
     },
     "execution_count": 23,
     "metadata": {},
     "output_type": "execute_result"
    }
   ],
   "source": [
    "from sklearn.metrics import r2_score\n",
    "r2_score(y_test, prediction)"
   ]
  },
  {
   "cell_type": "code",
   "execution_count": 24,
   "id": "f45b37b7",
   "metadata": {
    "execution": {
     "iopub.execute_input": "2022-08-06T07:32:28.351313Z",
     "iopub.status.busy": "2022-08-06T07:32:28.350156Z",
     "iopub.status.idle": "2022-08-06T07:32:28.363717Z",
     "shell.execute_reply": "2022-08-06T07:32:28.361743Z"
    },
    "papermill": {
     "duration": 0.033124,
     "end_time": "2022-08-06T07:32:28.366242",
     "exception": false,
     "start_time": "2022-08-06T07:32:28.333118",
     "status": "completed"
    },
    "tags": []
   },
   "outputs": [
    {
     "name": "stdout",
     "output_type": "stream",
     "text": [
      "{'n_estimators': [200, 347, 494, 642, 789, 936, 1084, 1231, 1378, 1526, 1673, 1821, 1968, 2115, 2263, 2410, 2557, 2705, 2852, 3000], 'max_features': ['auto', 'sqrt', 'log2'], 'max_depth': [10, 62, 114, 166, 218, 270, 322, 374, 426, 478, 531, 583, 635, 687, 739, 791, 843, 895, 947, 1000], 'min_samples_split': [2, 5, 10, 15, 20], 'min_samples_leaf': [1, 3, 5, 7, 9, 15], 'criterion': ['squared_error', 'absolute_error', 'poisson']}\n"
     ]
    }
   ],
   "source": [
    "from sklearn.model_selection import RandomizedSearchCV\n",
    "n_estimators = [int(x) for x in np.linspace(start = 200, stop = 3000, num = 20)]\n",
    "# Number of features to consider at every split\n",
    "max_features = ['auto', 'sqrt','log2']\n",
    "# Maximum number of levels in tree\n",
    "max_depth = [int(x) for x in np.linspace(10, 1000,20)]\n",
    "# Minimum number of samples required to split a node\n",
    "min_samples_split = [2, 5, 10,15,20]\n",
    "# Minimum number of samples required at each leaf node\n",
    "min_samples_leaf = [1, 3, 5,7,9,15]\n",
    "# Create the random grid\n",
    "random_grid = {'n_estimators': n_estimators,\n",
    "               'max_features': max_features,\n",
    "               'max_depth': max_depth,\n",
    "               'min_samples_split': min_samples_split,\n",
    "               'min_samples_leaf': min_samples_leaf,\n",
    "              'criterion':[\"squared_error\", \"absolute_error\", \"poisson\"]}\n",
    "print(random_grid)"
   ]
  },
  {
   "cell_type": "code",
   "execution_count": 25,
   "id": "8edea9b3",
   "metadata": {
    "execution": {
     "iopub.execute_input": "2022-08-06T07:32:28.400596Z",
     "iopub.status.busy": "2022-08-06T07:32:28.400076Z",
     "iopub.status.idle": "2022-08-06T07:38:06.945949Z",
     "shell.execute_reply": "2022-08-06T07:38:06.944301Z"
    },
    "papermill": {
     "duration": 338.583129,
     "end_time": "2022-08-06T07:38:06.965196",
     "exception": false,
     "start_time": "2022-08-06T07:32:28.382067",
     "status": "completed"
    },
    "tags": []
   },
   "outputs": [
    {
     "name": "stdout",
     "output_type": "stream",
     "text": [
      "Fitting 3 folds for each of 100 candidates, totalling 300 fits\n",
      "[CV] END criterion=absolute_error, max_depth=62, max_features=sqrt, min_samples_leaf=1, min_samples_split=2, n_estimators=1378; total time=   6.1s\n",
      "[CV] END criterion=poisson, max_depth=218, max_features=auto, min_samples_leaf=9, min_samples_split=20, n_estimators=642; total time=   1.6s\n",
      "[CV] END criterion=poisson, max_depth=218, max_features=auto, min_samples_leaf=9, min_samples_split=20, n_estimators=642; total time=   1.6s\n",
      "[CV] END criterion=poisson, max_depth=166, max_features=auto, min_samples_leaf=5, min_samples_split=10, n_estimators=2410; total time=   7.1s\n",
      "[CV] END criterion=absolute_error, max_depth=843, max_features=sqrt, min_samples_leaf=5, min_samples_split=2, n_estimators=2410; total time=   7.2s\n",
      "[CV] END criterion=poisson, max_depth=270, max_features=log2, min_samples_leaf=1, min_samples_split=15, n_estimators=1673; total time=   4.1s\n",
      "[CV] END criterion=squared_error, max_depth=374, max_features=log2, min_samples_leaf=9, min_samples_split=15, n_estimators=200; total time=   0.5s\n",
      "[CV] END criterion=squared_error, max_depth=374, max_features=log2, min_samples_leaf=9, min_samples_split=15, n_estimators=200; total time=   0.5s\n",
      "[CV] END criterion=squared_error, max_depth=374, max_features=log2, min_samples_leaf=9, min_samples_split=15, n_estimators=200; total time=   0.4s\n",
      "[CV] END criterion=poisson, max_depth=114, max_features=auto, min_samples_leaf=1, min_samples_split=2, n_estimators=2852; total time=  13.0s\n",
      "[CV] END criterion=squared_error, max_depth=374, max_features=log2, min_samples_leaf=1, min_samples_split=20, n_estimators=1673; total time=   4.0s\n",
      "[CV] END criterion=poisson, max_depth=1000, max_features=auto, min_samples_leaf=1, min_samples_split=2, n_estimators=1673; total time=   7.4s\n",
      "[CV] END criterion=absolute_error, max_depth=374, max_features=log2, min_samples_leaf=3, min_samples_split=10, n_estimators=2263; total time=   7.1s\n",
      "[CV] END criterion=poisson, max_depth=374, max_features=log2, min_samples_leaf=9, min_samples_split=20, n_estimators=2557; total time=   5.7s\n",
      "[CV] END criterion=poisson, max_depth=531, max_features=log2, min_samples_leaf=15, min_samples_split=20, n_estimators=1821; total time=   3.9s\n",
      "[CV] END criterion=squared_error, max_depth=478, max_features=log2, min_samples_leaf=7, min_samples_split=5, n_estimators=789; total time=   1.7s\n",
      "[CV] END criterion=squared_error, max_depth=218, max_features=auto, min_samples_leaf=15, min_samples_split=5, n_estimators=2852; total time=   6.4s\n",
      "[CV] END criterion=absolute_error, max_depth=62, max_features=sqrt, min_samples_leaf=3, min_samples_split=5, n_estimators=2705; total time=   8.7s\n",
      "[CV] END criterion=poisson, max_depth=218, max_features=log2, min_samples_leaf=15, min_samples_split=20, n_estimators=1526; total time=   3.7s\n",
      "[CV] END criterion=squared_error, max_depth=166, max_features=sqrt, min_samples_leaf=5, min_samples_split=5, n_estimators=1673; total time=   3.7s\n",
      "[CV] END criterion=absolute_error, max_depth=1000, max_features=sqrt, min_samples_leaf=15, min_samples_split=5, n_estimators=642; total time=   1.7s\n",
      "[CV] END criterion=absolute_error, max_depth=1000, max_features=sqrt, min_samples_leaf=15, min_samples_split=5, n_estimators=642; total time=   1.7s\n",
      "[CV] END criterion=poisson, max_depth=322, max_features=sqrt, min_samples_leaf=9, min_samples_split=5, n_estimators=200; total time=   0.4s\n",
      "[CV] END criterion=squared_error, max_depth=843, max_features=log2, min_samples_leaf=15, min_samples_split=20, n_estimators=2557; total time=   5.2s\n",
      "[CV] END criterion=squared_error, max_depth=791, max_features=auto, min_samples_leaf=1, min_samples_split=5, n_estimators=3000; total time=   7.9s\n",
      "[CV] END criterion=squared_error, max_depth=1000, max_features=log2, min_samples_leaf=15, min_samples_split=20, n_estimators=347; total time=   0.7s\n",
      "[CV] END criterion=squared_error, max_depth=1000, max_features=log2, min_samples_leaf=15, min_samples_split=20, n_estimators=347; total time=   0.7s\n",
      "[CV] END criterion=squared_error, max_depth=166, max_features=log2, min_samples_leaf=7, min_samples_split=2, n_estimators=347; total time=   0.7s\n",
      "[CV] END criterion=absolute_error, max_depth=531, max_features=sqrt, min_samples_leaf=7, min_samples_split=20, n_estimators=2410; total time=   6.9s\n",
      "[CV] END criterion=poisson, max_depth=687, max_features=sqrt, min_samples_leaf=7, min_samples_split=2, n_estimators=936; total time=   2.1s\n",
      "[CV] END criterion=poisson, max_depth=687, max_features=sqrt, min_samples_leaf=7, min_samples_split=2, n_estimators=936; total time=   2.1s\n",
      "[CV] END criterion=poisson, max_depth=687, max_features=sqrt, min_samples_leaf=7, min_samples_split=2, n_estimators=936; total time=   2.1s\n",
      "[CV] END criterion=absolute_error, max_depth=218, max_features=log2, min_samples_leaf=1, min_samples_split=15, n_estimators=642; total time=   2.1s\n",
      "[CV] END criterion=poisson, max_depth=114, max_features=auto, min_samples_leaf=9, min_samples_split=20, n_estimators=2115; total time=   5.6s\n",
      "[CV] END criterion=poisson, max_depth=374, max_features=sqrt, min_samples_leaf=9, min_samples_split=20, n_estimators=1231; total time=   2.8s\n",
      "[CV] END criterion=squared_error, max_depth=583, max_features=log2, min_samples_leaf=5, min_samples_split=10, n_estimators=642; total time=   1.3s\n",
      "[CV] END criterion=absolute_error, max_depth=478, max_features=auto, min_samples_leaf=7, min_samples_split=15, n_estimators=200; total time=   0.9s\n",
      "[CV] END criterion=absolute_error, max_depth=374, max_features=auto, min_samples_leaf=15, min_samples_split=10, n_estimators=2263; total time=   8.8s\n",
      "[CV] END criterion=poisson, max_depth=895, max_features=auto, min_samples_leaf=9, min_samples_split=2, n_estimators=2705; total time=   7.1s\n",
      "[CV] END criterion=squared_error, max_depth=1000, max_features=sqrt, min_samples_leaf=9, min_samples_split=20, n_estimators=2263; total time=   4.8s\n",
      "[CV] END criterion=absolute_error, max_depth=739, max_features=auto, min_samples_leaf=1, min_samples_split=10, n_estimators=200; total time=   1.2s\n",
      "[CV] END criterion=absolute_error, max_depth=739, max_features=auto, min_samples_leaf=1, min_samples_split=10, n_estimators=200; total time=   1.3s\n",
      "[CV] END criterion=absolute_error, max_depth=739, max_features=log2, min_samples_leaf=9, min_samples_split=5, n_estimators=2115; total time=   6.0s\n",
      "[CV] END criterion=absolute_error, max_depth=947, max_features=auto, min_samples_leaf=3, min_samples_split=5, n_estimators=1378; total time=   7.6s\n",
      "[CV] END criterion=squared_error, max_depth=322, max_features=sqrt, min_samples_leaf=3, min_samples_split=15, n_estimators=1231; total time=   2.6s\n",
      "[CV] END criterion=squared_error, max_depth=947, max_features=auto, min_samples_leaf=1, min_samples_split=5, n_estimators=642; total time=   1.7s\n",
      "[CV] END criterion=squared_error, max_depth=10, max_features=sqrt, min_samples_leaf=5, min_samples_split=2, n_estimators=1084; total time=   2.4s\n",
      "[CV] END criterion=squared_error, max_depth=10, max_features=sqrt, min_samples_leaf=5, min_samples_split=2, n_estimators=1084; total time=   2.3s\n",
      "[CV] END criterion=squared_error, max_depth=270, max_features=log2, min_samples_leaf=5, min_samples_split=2, n_estimators=1968; total time=   4.3s\n",
      "[CV] END criterion=squared_error, max_depth=531, max_features=sqrt, min_samples_leaf=1, min_samples_split=5, n_estimators=789; total time=   2.3s\n",
      "[CV] END criterion=squared_error, max_depth=531, max_features=sqrt, min_samples_leaf=1, min_samples_split=5, n_estimators=789; total time=   1.8s\n",
      "[CV] END criterion=absolute_error, max_depth=478, max_features=log2, min_samples_leaf=5, min_samples_split=20, n_estimators=936; total time=   2.8s\n",
      "[CV] END criterion=absolute_error, max_depth=478, max_features=log2, min_samples_leaf=5, min_samples_split=20, n_estimators=936; total time=   2.7s\n",
      "[CV] END criterion=absolute_error, max_depth=478, max_features=log2, min_samples_leaf=5, min_samples_split=20, n_estimators=936; total time=   2.8s\n",
      "[CV] END criterion=poisson, max_depth=62, max_features=log2, min_samples_leaf=5, min_samples_split=15, n_estimators=2705; total time=   6.5s\n",
      "[CV] END criterion=absolute_error, max_depth=114, max_features=log2, min_samples_leaf=3, min_samples_split=15, n_estimators=2705; total time=   8.6s\n",
      "[CV] END criterion=absolute_error, max_depth=1000, max_features=log2, min_samples_leaf=7, min_samples_split=10, n_estimators=1378; total time=   4.1s[CV] END criterion=absolute_error, max_depth=62, max_features=sqrt, min_samples_leaf=1, min_samples_split=2, n_estimators=1378; total time=   5.7s\n",
      "[CV] END criterion=absolute_error, max_depth=583, max_features=auto, min_samples_leaf=5, min_samples_split=20, n_estimators=1378; total time=   6.3s\n",
      "[CV] END criterion=poisson, max_depth=166, max_features=auto, min_samples_leaf=5, min_samples_split=10, n_estimators=2410; total time=   7.2s\n",
      "[CV] END criterion=poisson, max_depth=270, max_features=sqrt, min_samples_leaf=5, min_samples_split=10, n_estimators=200; total time=   0.5s\n",
      "[CV] END criterion=poisson, max_depth=270, max_features=sqrt, min_samples_leaf=5, min_samples_split=10, n_estimators=200; total time=   0.5s\n",
      "[CV] END criterion=absolute_error, max_depth=791, max_features=auto, min_samples_leaf=7, min_samples_split=15, n_estimators=1673; total time=   7.7s\n",
      "[CV] END criterion=poisson, max_depth=270, max_features=log2, min_samples_leaf=1, min_samples_split=15, n_estimators=1673; total time=   4.2s\n",
      "[CV] END criterion=squared_error, max_depth=583, max_features=sqrt, min_samples_leaf=3, min_samples_split=5, n_estimators=2115; total time=   4.5s\n",
      "[CV] END criterion=squared_error, max_depth=583, max_features=sqrt, min_samples_leaf=3, min_samples_split=5, n_estimators=2115; total time=   4.5s\n",
      "[CV] END criterion=squared_error, max_depth=583, max_features=sqrt, min_samples_leaf=3, min_samples_split=5, n_estimators=2115; total time=   4.9s\n",
      "[CV] END criterion=poisson, max_depth=1000, max_features=auto, min_samples_leaf=1, min_samples_split=2, n_estimators=1673; total time=   7.6s\n",
      "[CV] END criterion=absolute_error, max_depth=374, max_features=log2, min_samples_leaf=3, min_samples_split=10, n_estimators=2263; total time=   7.2s\n",
      "[CV] END criterion=poisson, max_depth=374, max_features=log2, min_samples_leaf=9, min_samples_split=20, n_estimators=2557; total time=   5.7s\n",
      "[CV] END criterion=poisson, max_depth=531, max_features=log2, min_samples_leaf=15, min_samples_split=20, n_estimators=1821; total time=   3.9s\n",
      "[CV] END criterion=squared_error, max_depth=478, max_features=log2, min_samples_leaf=7, min_samples_split=5, n_estimators=789; total time=   1.7s\n",
      "[CV] END criterion=squared_error, max_depth=218, max_features=auto, min_samples_leaf=15, min_samples_split=5, n_estimators=2852; total time=   6.4s\n",
      "[CV] END criterion=absolute_error, max_depth=166, max_features=sqrt, min_samples_leaf=9, min_samples_split=20, n_estimators=1821; total time=   5.2s\n",
      "[CV] END criterion=poisson, max_depth=218, max_features=log2, min_samples_leaf=15, min_samples_split=20, n_estimators=1526; total time=   3.2s\n",
      "[CV] END criterion=poisson, max_depth=218, max_features=log2, min_samples_leaf=15, min_samples_split=20, n_estimators=1526; total time=   3.4s\n",
      "[CV] END criterion=squared_error, max_depth=166, max_features=sqrt, min_samples_leaf=5, min_samples_split=5, n_estimators=1673; total time=   3.6s\n",
      "[CV] END criterion=poisson, max_depth=322, max_features=log2, min_samples_leaf=7, min_samples_split=10, n_estimators=2263; total time=   5.0s\n",
      "[CV] END criterion=squared_error, max_depth=791, max_features=auto, min_samples_leaf=1, min_samples_split=5, n_estimators=3000; total time=   7.8s\n",
      "[CV] END criterion=squared_error, max_depth=583, max_features=log2, min_samples_leaf=7, min_samples_split=15, n_estimators=2705; total time=   5.7s\n",
      "[CV] END criterion=squared_error, max_depth=166, max_features=log2, min_samples_leaf=7, min_samples_split=2, n_estimators=347; total time=   0.7s\n",
      "[CV] END criterion=absolute_error, max_depth=531, max_features=sqrt, min_samples_leaf=7, min_samples_split=20, n_estimators=2410; total time=   6.9s\n",
      "[CV] END criterion=poisson, max_depth=166, max_features=auto, min_samples_leaf=7, min_samples_split=10, n_estimators=2410; total time=   6.9s\n",
      "[CV] END criterion=absolute_error, max_depth=218, max_features=log2, min_samples_leaf=1, min_samples_split=15, n_estimators=642; total time=   2.1s\n",
      "[CV] END criterion=poisson, max_depth=635, max_features=auto, min_samples_leaf=5, min_samples_split=20, n_estimators=1526; total time=   4.6s\n",
      "[CV] END criterion=poisson, max_depth=374, max_features=sqrt, min_samples_leaf=9, min_samples_split=20, n_estimators=1231; total time=   2.7s\n",
      "[CV] END criterion=poisson, max_depth=374, max_features=sqrt, min_samples_leaf=9, min_samples_split=20, n_estimators=1231; total time=   2.7s\n",
      "[CV] END criterion=absolute_error, max_depth=478, max_features=auto, min_samples_leaf=7, min_samples_split=15, n_estimators=200; total time=   0.9s\n",
      "[CV] END criterion=absolute_error, max_depth=374, max_features=auto, min_samples_leaf=15, min_samples_split=10, n_estimators=2263; total time=   9.4s\n",
      "[CV] END criterion=squared_error, max_depth=1000, max_features=sqrt, min_samples_leaf=9, min_samples_split=20, n_estimators=2263; total time=   4.7s\n",
      "[CV] END criterion=squared_error, max_depth=1000, max_features=sqrt, min_samples_leaf=9, min_samples_split=20, n_estimators=2263; total time=   4.7s\n",
      "[CV] END criterion=squared_error, max_depth=322, max_features=log2, min_samples_leaf=15, min_samples_split=15, n_estimators=1821; total time=   3.8s\n",
      "[CV] END criterion=squared_error, max_depth=687, max_features=auto, min_samples_leaf=7, min_samples_split=20, n_estimators=1673; total time=   3.8s\n",
      "[CV] END criterion=absolute_error, max_depth=739, max_features=log2, min_samples_leaf=9, min_samples_split=5, n_estimators=2115; total time=   6.1s\n",
      "[CV] END criterion=squared_error, max_depth=322, max_features=sqrt, min_samples_leaf=3, min_samples_split=15, n_estimators=1231; total time=   2.5s\n",
      "[CV] END criterion=squared_error, max_depth=322, max_features=sqrt, min_samples_leaf=3, min_samples_split=15, n_estimators=1231; total time=   2.5s\n",
      "[CV] END criterion=squared_error, max_depth=947, max_features=auto, min_samples_leaf=1, min_samples_split=5, n_estimators=642; total time=   1.6s\n",
      "[CV] END criterion=poisson, max_depth=843, max_features=log2, min_samples_leaf=5, min_samples_split=10, n_estimators=2115; total time=   4.9s\n",
      "[CV] END criterion=squared_error, max_depth=10, max_features=sqrt, min_samples_leaf=5, min_samples_split=2, n_estimators=1084; total time=   2.4s\n",
      "[CV] END criterion=poisson, max_depth=1000, max_features=auto, min_samples_leaf=15, min_samples_split=15, n_estimators=1673; total time=   4.2s\n",
      "[CV] END criterion=squared_error, max_depth=531, max_features=sqrt, min_samples_leaf=1, min_samples_split=5, n_estimators=789; total time=   1.8s\n",
      "[CV] END criterion=squared_error, max_depth=687, max_features=auto, min_samples_leaf=1, min_samples_split=20, n_estimators=200; total time=   0.5s\n",
      "[CV] END criterion=squared_error, max_depth=687, max_features=auto, min_samples_leaf=1, min_samples_split=20, n_estimators=200; total time=   0.5s\n",
      "[CV] END criterion=poisson, max_depth=947, max_features=sqrt, min_samples_leaf=7, min_samples_split=15, n_estimators=2852; total time=   6.5s\n",
      "[CV] END criterion=squared_error, max_depth=10, max_features=log2, min_samples_leaf=15, min_samples_split=5, n_estimators=2852; total time=   6.1s\n",
      "[CV] END criterion=poisson, max_depth=62, max_features=log2, min_samples_leaf=5, min_samples_split=15, n_estimators=2705; total time=   6.3s\n",
      "[CV] END criterion=poisson, max_depth=947, max_features=sqrt, min_samples_leaf=15, min_samples_split=5, n_estimators=936; total time=   2.0s\n",
      "[CV] END criterion=poisson, max_depth=947, max_features=sqrt, min_samples_leaf=15, min_samples_split=5, n_estimators=936; total time=   2.0s\n",
      "[CV] END criterion=absolute_error, max_depth=1000, max_features=log2, min_samples_leaf=7, min_samples_split=10, n_estimators=1378; total time=   4.1s\n",
      "[CV] END criterion=poisson, max_depth=739, max_features=sqrt, min_samples_leaf=9, min_samples_split=5, n_estimators=1084; total time=   2.5s\n",
      "[CV] END criterion=squared_error, max_depth=10, max_features=auto, min_samples_leaf=9, min_samples_split=20, n_estimators=1378; total time=   3.2s\n",
      "[CV] END criterion=squared_error, max_depth=895, max_features=auto, min_samples_leaf=15, min_samples_split=20, n_estimators=2410; total time=   5.3s\n",
      "[CV] END criterion=squared_error, max_depth=895, max_features=auto, min_samples_leaf=1, min_samples_split=15, n_estimators=2410; total time=   6.2s\n",
      "[CV] END criterion=absolute_error, max_depth=322, max_features=sqrt, min_samples_leaf=15, min_samples_split=10, n_estimators=1673; total time=   4.6s[CV] END criterion=absolute_error, max_depth=62, max_features=sqrt, min_samples_leaf=1, min_samples_split=2, n_estimators=1378; total time=   6.0s\n",
      "[CV] END criterion=absolute_error, max_depth=583, max_features=auto, min_samples_leaf=5, min_samples_split=20, n_estimators=1378; total time=   6.3s\n",
      "[CV] END criterion=absolute_error, max_depth=843, max_features=sqrt, min_samples_leaf=5, min_samples_split=2, n_estimators=2410; total time=   7.3s\n",
      "[CV] END criterion=poisson, max_depth=270, max_features=sqrt, min_samples_leaf=5, min_samples_split=10, n_estimators=200; total time=   0.5s\n",
      "[CV] END criterion=absolute_error, max_depth=791, max_features=auto, min_samples_leaf=7, min_samples_split=15, n_estimators=1673; total time=   7.5s\n",
      "[CV] END criterion=poisson, max_depth=270, max_features=log2, min_samples_leaf=1, min_samples_split=15, n_estimators=1673; total time=   4.3s\n",
      "[CV] END criterion=poisson, max_depth=114, max_features=auto, min_samples_leaf=1, min_samples_split=2, n_estimators=2852; total time=  12.5s\n",
      "[CV] END criterion=squared_error, max_depth=374, max_features=log2, min_samples_leaf=1, min_samples_split=20, n_estimators=1673; total time=   3.8s\n",
      "[CV] END criterion=absolute_error, max_depth=1000, max_features=sqrt, min_samples_leaf=7, min_samples_split=20, n_estimators=494; total time=   1.5s\n",
      "[CV] END criterion=absolute_error, max_depth=1000, max_features=sqrt, min_samples_leaf=7, min_samples_split=20, n_estimators=494; total time=   1.4s\n",
      "[CV] END criterion=absolute_error, max_depth=1000, max_features=sqrt, min_samples_leaf=7, min_samples_split=20, n_estimators=494; total time=   1.4s\n",
      "[CV] END criterion=absolute_error, max_depth=374, max_features=log2, min_samples_leaf=3, min_samples_split=10, n_estimators=2263; total time=   7.0s\n",
      "[CV] END criterion=poisson, max_depth=166, max_features=log2, min_samples_leaf=5, min_samples_split=5, n_estimators=2115; total time=   4.9s\n",
      "[CV] END criterion=poisson, max_depth=374, max_features=log2, min_samples_leaf=9, min_samples_split=20, n_estimators=2557; total time=   5.6s\n",
      "[CV] END criterion=absolute_error, max_depth=635, max_features=log2, min_samples_leaf=9, min_samples_split=10, n_estimators=642; total time=   1.9s\n",
      "[CV] END criterion=squared_error, max_depth=478, max_features=log2, min_samples_leaf=7, min_samples_split=5, n_estimators=789; total time=   1.6s\n",
      "[CV] END criterion=absolute_error, max_depth=166, max_features=sqrt, min_samples_leaf=9, min_samples_split=20, n_estimators=1821; total time=   5.1s\n",
      "[CV] END criterion=absolute_error, max_depth=62, max_features=sqrt, min_samples_leaf=3, min_samples_split=5, n_estimators=2705; total time=   9.0s\n",
      "[CV] END criterion=squared_error, max_depth=166, max_features=sqrt, min_samples_leaf=5, min_samples_split=5, n_estimators=1673; total time=   3.9s\n",
      "[CV] END criterion=poisson, max_depth=322, max_features=log2, min_samples_leaf=7, min_samples_split=10, n_estimators=2263; total time=   5.2s\n",
      "[CV] END criterion=absolute_error, max_depth=1000, max_features=sqrt, min_samples_leaf=15, min_samples_split=5, n_estimators=642; total time=   1.7s\n",
      "[CV] END criterion=squared_error, max_depth=843, max_features=log2, min_samples_leaf=15, min_samples_split=20, n_estimators=2557; total time=   5.4s\n",
      "[CV] END criterion=squared_error, max_depth=791, max_features=auto, min_samples_leaf=1, min_samples_split=5, n_estimators=3000; total time=   8.0s\n",
      "[CV] END criterion=squared_error, max_depth=1000, max_features=log2, min_samples_leaf=15, min_samples_split=20, n_estimators=347; total time=   0.7s\n",
      "[CV] END criterion=squared_error, max_depth=166, max_features=log2, min_samples_leaf=7, min_samples_split=2, n_estimators=347; total time=   0.7s\n",
      "[CV] END criterion=absolute_error, max_depth=531, max_features=sqrt, min_samples_leaf=7, min_samples_split=20, n_estimators=2410; total time=   7.0s\n",
      "[CV] END criterion=poisson, max_depth=166, max_features=auto, min_samples_leaf=7, min_samples_split=10, n_estimators=2410; total time=   6.8s\n",
      "[CV] END criterion=absolute_error, max_depth=218, max_features=log2, min_samples_leaf=1, min_samples_split=15, n_estimators=642; total time=   2.1s\n",
      "[CV] END criterion=poisson, max_depth=635, max_features=auto, min_samples_leaf=5, min_samples_split=20, n_estimators=1526; total time=   4.6s\n",
      "[CV] END criterion=poisson, max_depth=114, max_features=auto, min_samples_leaf=9, min_samples_split=20, n_estimators=2115; total time=   5.5s\n",
      "[CV] END criterion=absolute_error, max_depth=478, max_features=auto, min_samples_leaf=7, min_samples_split=15, n_estimators=200; total time=   0.9s\n",
      "[CV] END criterion=absolute_error, max_depth=843, max_features=log2, min_samples_leaf=9, min_samples_split=5, n_estimators=936; total time=   2.7s\n",
      "[CV] END criterion=absolute_error, max_depth=843, max_features=log2, min_samples_leaf=9, min_samples_split=5, n_estimators=936; total time=   3.2s\n",
      "[CV] END criterion=absolute_error, max_depth=843, max_features=log2, min_samples_leaf=9, min_samples_split=5, n_estimators=936; total time=   2.7s\n",
      "[CV] END criterion=poisson, max_depth=895, max_features=auto, min_samples_leaf=9, min_samples_split=2, n_estimators=2705; total time=   7.1s\n",
      "[CV] END criterion=squared_error, max_depth=739, max_features=sqrt, min_samples_leaf=5, min_samples_split=2, n_estimators=642; total time=   1.4s\n",
      "[CV] END criterion=squared_error, max_depth=739, max_features=sqrt, min_samples_leaf=5, min_samples_split=2, n_estimators=642; total time=   1.4s\n",
      "[CV] END criterion=squared_error, max_depth=322, max_features=log2, min_samples_leaf=15, min_samples_split=15, n_estimators=1821; total time=   3.8s\n",
      "[CV] END criterion=squared_error, max_depth=687, max_features=auto, min_samples_leaf=7, min_samples_split=20, n_estimators=1673; total time=   3.8s\n",
      "[CV] END criterion=absolute_error, max_depth=739, max_features=log2, min_samples_leaf=9, min_samples_split=5, n_estimators=2115; total time=   6.1s\n",
      "[CV] END criterion=absolute_error, max_depth=947, max_features=auto, min_samples_leaf=3, min_samples_split=5, n_estimators=1378; total time=   7.6s\n",
      "[CV] END criterion=poisson, max_depth=843, max_features=log2, min_samples_leaf=5, min_samples_split=10, n_estimators=2115; total time=   4.9s\n",
      "[CV] END criterion=squared_error, max_depth=270, max_features=log2, min_samples_leaf=5, min_samples_split=2, n_estimators=1968; total time=   4.2s\n",
      "[CV] END criterion=poisson, max_depth=1000, max_features=auto, min_samples_leaf=15, min_samples_split=15, n_estimators=1673; total time=   4.5s\n",
      "[CV] END criterion=poisson, max_depth=947, max_features=sqrt, min_samples_leaf=7, min_samples_split=15, n_estimators=2852; total time=   6.5s\n",
      "[CV] END criterion=squared_error, max_depth=10, max_features=log2, min_samples_leaf=15, min_samples_split=5, n_estimators=2852; total time=   6.4s\n",
      "[CV] END criterion=absolute_error, max_depth=114, max_features=log2, min_samples_leaf=3, min_samples_split=15, n_estimators=2705; total time=   8.5s\n",
      "[CV] END criterion=poisson, max_depth=947, max_features=sqrt, min_samples_leaf=15, min_samples_split=5, n_estimators=936; total time=   2.0s\n",
      "[CV] END criterion=absolute_error, max_depth=1000, max_features=log2, min_samples_leaf=7, min_samples_split=10, n_estimators=1378; total time=   4.1s\n",
      "[CV] END criterion=poisson, max_depth=739, max_features=sqrt, min_samples_leaf=9, min_samples_split=5, n_estimators=1084; total time=   2.5s\n",
      "[CV] END criterion=squared_error, max_depth=583, max_features=auto, min_samples_leaf=1, min_samples_split=2, n_estimators=642; total time=   1.8s\n",
      "[CV] END criterion=squared_error, max_depth=583, max_features=auto, min_samples_leaf=1, min_samples_split=2, n_estimators=642; total time=   1.8s\n",
      "[CV] END criterion=squared_error, max_depth=895, max_features=auto, min_samples_leaf=1, min_samples_split=15, n_estimators=2410; total time=   5.7s\n",
      "[CV] END criterion=poisson, max_depth=583, max_features=sqrt, min_samples_leaf=9, min_samples_split=10, n_estimators=2115; total time=   4.9s\n",
      "[CV] END criterion=absolute_error, max_depth=322, max_features=sqrt, min_samples_leaf=15, min_samples_split=10, n_estimators=1673; total time=   4.5s\n",
      "[CV] END criterion=absolute_error, max_depth=322, max_features=log2, min_samples_leaf=3, min_samples_split=5, n_estimators=1378; total time=   4.5s\n",
      "[CV] END criterion=poisson, max_depth=843, max_features=log2, min_samples_leaf=9, min_samples_split=2, n_estimators=2115; total time=   5.1s[CV] END criterion=absolute_error, max_depth=583, max_features=auto, min_samples_leaf=5, min_samples_split=20, n_estimators=1378; total time=   6.9s\n",
      "[CV] END criterion=poisson, max_depth=218, max_features=auto, min_samples_leaf=9, min_samples_split=20, n_estimators=642; total time=   1.6s\n",
      "[CV] END criterion=poisson, max_depth=166, max_features=auto, min_samples_leaf=5, min_samples_split=10, n_estimators=2410; total time=   7.1s\n",
      "[CV] END criterion=absolute_error, max_depth=843, max_features=sqrt, min_samples_leaf=5, min_samples_split=2, n_estimators=2410; total time=   7.3s\n",
      "[CV] END criterion=absolute_error, max_depth=791, max_features=auto, min_samples_leaf=7, min_samples_split=15, n_estimators=1673; total time=   7.7s\n",
      "[CV] END criterion=poisson, max_depth=114, max_features=auto, min_samples_leaf=1, min_samples_split=2, n_estimators=2852; total time=  12.7s\n",
      "[CV] END criterion=squared_error, max_depth=374, max_features=log2, min_samples_leaf=1, min_samples_split=20, n_estimators=1673; total time=   3.8s\n",
      "[CV] END criterion=poisson, max_depth=1000, max_features=auto, min_samples_leaf=1, min_samples_split=2, n_estimators=1673; total time=   7.5s\n",
      "[CV] END criterion=poisson, max_depth=166, max_features=log2, min_samples_leaf=5, min_samples_split=5, n_estimators=2115; total time=   4.7s\n",
      "[CV] END criterion=poisson, max_depth=166, max_features=log2, min_samples_leaf=5, min_samples_split=5, n_estimators=2115; total time=   5.0s\n",
      "[CV] END criterion=poisson, max_depth=531, max_features=log2, min_samples_leaf=15, min_samples_split=20, n_estimators=1821; total time=   3.8s\n",
      "[CV] END criterion=absolute_error, max_depth=635, max_features=log2, min_samples_leaf=9, min_samples_split=10, n_estimators=642; total time=   1.8s\n",
      "[CV] END criterion=absolute_error, max_depth=635, max_features=log2, min_samples_leaf=9, min_samples_split=10, n_estimators=642; total time=   1.9s\n",
      "[CV] END criterion=squared_error, max_depth=218, max_features=auto, min_samples_leaf=15, min_samples_split=5, n_estimators=2852; total time=   6.1s\n",
      "[CV] END criterion=absolute_error, max_depth=166, max_features=sqrt, min_samples_leaf=9, min_samples_split=20, n_estimators=1821; total time=   5.3s\n",
      "[CV] END criterion=absolute_error, max_depth=62, max_features=sqrt, min_samples_leaf=3, min_samples_split=5, n_estimators=2705; total time=   9.3s\n",
      "[CV] END criterion=poisson, max_depth=322, max_features=log2, min_samples_leaf=7, min_samples_split=10, n_estimators=2263; total time=   5.1s\n",
      "[CV] END criterion=poisson, max_depth=322, max_features=sqrt, min_samples_leaf=9, min_samples_split=5, n_estimators=200; total time=   0.4s\n",
      "[CV] END criterion=poisson, max_depth=322, max_features=sqrt, min_samples_leaf=9, min_samples_split=5, n_estimators=200; total time=   0.4s\n",
      "[CV] END criterion=squared_error, max_depth=843, max_features=log2, min_samples_leaf=15, min_samples_split=20, n_estimators=2557; total time=   5.4s\n",
      "[CV] END criterion=squared_error, max_depth=583, max_features=log2, min_samples_leaf=7, min_samples_split=15, n_estimators=2705; total time=   5.8s\n",
      "[CV] END criterion=squared_error, max_depth=583, max_features=log2, min_samples_leaf=7, min_samples_split=15, n_estimators=2705; total time=   5.8s\n",
      "[CV] END criterion=squared_error, max_depth=322, max_features=auto, min_samples_leaf=1, min_samples_split=10, n_estimators=642; total time=   1.6s\n",
      "[CV] END criterion=squared_error, max_depth=322, max_features=auto, min_samples_leaf=1, min_samples_split=10, n_estimators=642; total time=   1.5s\n",
      "[CV] END criterion=squared_error, max_depth=322, max_features=auto, min_samples_leaf=1, min_samples_split=10, n_estimators=642; total time=   1.5s\n",
      "[CV] END criterion=poisson, max_depth=166, max_features=auto, min_samples_leaf=7, min_samples_split=10, n_estimators=2410; total time=   6.8s\n",
      "[CV] END criterion=poisson, max_depth=635, max_features=auto, min_samples_leaf=5, min_samples_split=20, n_estimators=1526; total time=   4.5s\n",
      "[CV] END criterion=poisson, max_depth=114, max_features=auto, min_samples_leaf=9, min_samples_split=20, n_estimators=2115; total time=   5.6s\n",
      "[CV] END criterion=squared_error, max_depth=583, max_features=log2, min_samples_leaf=5, min_samples_split=10, n_estimators=642; total time=   1.4s\n",
      "[CV] END criterion=squared_error, max_depth=583, max_features=log2, min_samples_leaf=5, min_samples_split=10, n_estimators=642; total time=   1.4s\n",
      "[CV] END criterion=absolute_error, max_depth=374, max_features=auto, min_samples_leaf=15, min_samples_split=10, n_estimators=2263; total time=   9.2s\n",
      "[CV] END criterion=poisson, max_depth=895, max_features=auto, min_samples_leaf=9, min_samples_split=2, n_estimators=2705; total time=   7.1s\n",
      "[CV] END criterion=squared_error, max_depth=739, max_features=sqrt, min_samples_leaf=5, min_samples_split=2, n_estimators=642; total time=   1.4s\n",
      "[CV] END criterion=squared_error, max_depth=322, max_features=log2, min_samples_leaf=15, min_samples_split=15, n_estimators=1821; total time=   3.8s\n",
      "[CV] END criterion=absolute_error, max_depth=739, max_features=auto, min_samples_leaf=1, min_samples_split=10, n_estimators=200; total time=   1.3s\n",
      "[CV] END criterion=squared_error, max_depth=687, max_features=auto, min_samples_leaf=7, min_samples_split=20, n_estimators=1673; total time=   3.8s\n",
      "[CV] END criterion=squared_error, max_depth=583, max_features=auto, min_samples_leaf=15, min_samples_split=20, n_estimators=494; total time=   1.1s\n",
      "[CV] END criterion=squared_error, max_depth=583, max_features=auto, min_samples_leaf=15, min_samples_split=20, n_estimators=494; total time=   1.1s\n",
      "[CV] END criterion=squared_error, max_depth=583, max_features=auto, min_samples_leaf=15, min_samples_split=20, n_estimators=494; total time=   1.1s\n",
      "[CV] END criterion=absolute_error, max_depth=947, max_features=auto, min_samples_leaf=3, min_samples_split=5, n_estimators=1378; total time=   7.8s\n",
      "[CV] END criterion=squared_error, max_depth=947, max_features=auto, min_samples_leaf=1, min_samples_split=5, n_estimators=642; total time=   1.7s\n",
      "[CV] END criterion=poisson, max_depth=843, max_features=log2, min_samples_leaf=5, min_samples_split=10, n_estimators=2115; total time=   4.9s\n",
      "[CV] END criterion=squared_error, max_depth=270, max_features=log2, min_samples_leaf=5, min_samples_split=2, n_estimators=1968; total time=   4.3s\n",
      "[CV] END criterion=poisson, max_depth=1000, max_features=auto, min_samples_leaf=15, min_samples_split=15, n_estimators=1673; total time=   4.4s\n",
      "[CV] END criterion=squared_error, max_depth=687, max_features=auto, min_samples_leaf=1, min_samples_split=20, n_estimators=200; total time=   0.5s\n",
      "[CV] END criterion=poisson, max_depth=947, max_features=sqrt, min_samples_leaf=7, min_samples_split=15, n_estimators=2852; total time=   6.3s\n",
      "[CV] END criterion=squared_error, max_depth=10, max_features=log2, min_samples_leaf=15, min_samples_split=5, n_estimators=2852; total time=   6.2s\n",
      "[CV] END criterion=poisson, max_depth=62, max_features=log2, min_samples_leaf=5, min_samples_split=15, n_estimators=2705; total time=   6.4s\n",
      "[CV] END criterion=absolute_error, max_depth=114, max_features=log2, min_samples_leaf=3, min_samples_split=15, n_estimators=2705; total time=   8.4s\n",
      "[CV] END criterion=poisson, max_depth=739, max_features=sqrt, min_samples_leaf=9, min_samples_split=5, n_estimators=1084; total time=   2.4s\n",
      "[CV] END criterion=squared_error, max_depth=10, max_features=auto, min_samples_leaf=9, min_samples_split=20, n_estimators=1378; total time=   3.2s\n",
      "[CV] END criterion=squared_error, max_depth=895, max_features=auto, min_samples_leaf=15, min_samples_split=20, n_estimators=2410; total time=   5.4s\n",
      "[CV] END criterion=poisson, max_depth=583, max_features=sqrt, min_samples_leaf=9, min_samples_split=10, n_estimators=2115; total time=   5.2s\n",
      "[CV] END criterion=poisson, max_depth=583, max_features=sqrt, min_samples_leaf=9, min_samples_split=10, n_estimators=2115; total time=   4.6s\n",
      "[CV] END criterion=absolute_error, max_depth=322, max_features=log2, min_samples_leaf=3, min_samples_split=5, n_estimators=1378; total time=   4.5s\n",
      "[CV] END criterion=poisson, max_depth=843, max_features=log2, min_samples_leaf=9, min_samples_split=2, n_estimators=2115; total time=   4.8s\n",
      "[CV] END criterion=squared_error, max_depth=843, max_features=log2, min_samples_leaf=3, min_samples_split=10, n_estimators=2557; total time=   5.4s"
     ]
    },
    {
     "data": {
      "text/plain": [
       "RandomizedSearchCV(cv=3, estimator=RandomForestRegressor(), n_iter=100,\n",
       "                   n_jobs=-1,\n",
       "                   param_distributions={'criterion': ['squared_error',\n",
       "                                                      'absolute_error',\n",
       "                                                      'poisson'],\n",
       "                                        'max_depth': [10, 62, 114, 166, 218,\n",
       "                                                      270, 322, 374, 426, 478,\n",
       "                                                      531, 583, 635, 687, 739,\n",
       "                                                      791, 843, 895, 947,\n",
       "                                                      1000],\n",
       "                                        'max_features': ['auto', 'sqrt',\n",
       "                                                         'log2'],\n",
       "                                        'min_samples_leaf': [1, 3, 5, 7, 9, 15],\n",
       "                                        'min_samples_split': [2, 5, 10, 15, 20],\n",
       "                                        'n_estimators': [200, 347, 494, 642,\n",
       "                                                         789, 936, 1084, 1231,\n",
       "                                                         1378, 1526, 1673, 1821,\n",
       "                                                         1968, 2115, 2263, 2410,\n",
       "                                                         2557, 2705, 2852,\n",
       "                                                         3000]},\n",
       "                   random_state=100, verbose=2)"
      ]
     },
     "execution_count": 25,
     "metadata": {},
     "output_type": "execute_result"
    }
   ],
   "source": [
    "rf=RandomForestRegressor()\n",
    "rf_randomcv=RandomizedSearchCV(estimator=rf,param_distributions=random_grid,n_iter=100,cv=3,verbose=2,\n",
    "                               random_state=100,n_jobs=-1)\n",
    "rf_randomcv.fit(X_train,y_train)"
   ]
  },
  {
   "cell_type": "code",
   "execution_count": 26,
   "id": "bd8265ef",
   "metadata": {
    "execution": {
     "iopub.execute_input": "2022-08-06T07:38:07.000762Z",
     "iopub.status.busy": "2022-08-06T07:38:07.000301Z",
     "iopub.status.idle": "2022-08-06T07:38:07.004716Z",
     "shell.execute_reply": "2022-08-06T07:38:07.003968Z"
    },
    "papermill": {
     "duration": 0.024803,
     "end_time": "2022-08-06T07:38:07.006580",
     "exception": false,
     "start_time": "2022-08-06T07:38:06.981777",
     "status": "completed"
    },
    "tags": []
   },
   "outputs": [],
   "source": [
    "best_random_grid=rf_randomcv.best_estimator_"
   ]
  },
  {
   "cell_type": "code",
   "execution_count": 27,
   "id": "777176ca",
   "metadata": {
    "execution": {
     "iopub.execute_input": "2022-08-06T07:38:07.041677Z",
     "iopub.status.busy": "2022-08-06T07:38:07.040992Z",
     "iopub.status.idle": "2022-08-06T07:38:07.048028Z",
     "shell.execute_reply": "2022-08-06T07:38:07.046968Z"
    },
    "papermill": {
     "duration": 0.027182,
     "end_time": "2022-08-06T07:38:07.050264",
     "exception": false,
     "start_time": "2022-08-06T07:38:07.023082",
     "status": "completed"
    },
    "tags": []
   },
   "outputs": [
    {
     "data": {
      "text/plain": [
       "RandomForestRegressor(criterion='absolute_error', max_depth=62,\n",
       "                      max_features='sqrt', n_estimators=1378)"
      ]
     },
     "execution_count": 27,
     "metadata": {},
     "output_type": "execute_result"
    }
   ],
   "source": [
    "best_random_grid"
   ]
  },
  {
   "cell_type": "code",
   "execution_count": 28,
   "id": "3bc2de07",
   "metadata": {
    "execution": {
     "iopub.execute_input": "2022-08-06T07:38:07.085780Z",
     "iopub.status.busy": "2022-08-06T07:38:07.085041Z",
     "iopub.status.idle": "2022-08-06T07:38:07.235084Z",
     "shell.execute_reply": "2022-08-06T07:38:07.233959Z"
    },
    "papermill": {
     "duration": 0.170712,
     "end_time": "2022-08-06T07:38:07.237787",
     "exception": false,
     "start_time": "2022-08-06T07:38:07.067075",
     "status": "completed"
    },
    "tags": []
   },
   "outputs": [],
   "source": [
    "y_pred=best_random_grid.predict(X_test)"
   ]
  },
  {
   "cell_type": "code",
   "execution_count": 29,
   "id": "8b8a3a86",
   "metadata": {
    "execution": {
     "iopub.execute_input": "2022-08-06T07:38:07.273300Z",
     "iopub.status.busy": "2022-08-06T07:38:07.272648Z",
     "iopub.status.idle": "2022-08-06T07:38:07.279681Z",
     "shell.execute_reply": "2022-08-06T07:38:07.278387Z"
    },
    "papermill": {
     "duration": 0.027401,
     "end_time": "2022-08-06T07:38:07.281975",
     "exception": false,
     "start_time": "2022-08-06T07:38:07.254574",
     "status": "completed"
    },
    "tags": []
   },
   "outputs": [
    {
     "data": {
      "text/plain": [
       "0.8289172234558222"
      ]
     },
     "execution_count": 29,
     "metadata": {},
     "output_type": "execute_result"
    }
   ],
   "source": [
    "r2_score(y_test, y_pred)"
   ]
  },
  {
   "cell_type": "code",
   "execution_count": 30,
   "id": "61fd0730",
   "metadata": {
    "execution": {
     "iopub.execute_input": "2022-08-06T07:38:07.317933Z",
     "iopub.status.busy": "2022-08-06T07:38:07.317493Z",
     "iopub.status.idle": "2022-08-06T07:38:07.527331Z",
     "shell.execute_reply": "2022-08-06T07:38:07.526511Z"
    },
    "papermill": {
     "duration": 0.230545,
     "end_time": "2022-08-06T07:38:07.529689",
     "exception": false,
     "start_time": "2022-08-06T07:38:07.299144",
     "status": "completed"
    },
    "tags": []
   },
   "outputs": [
    {
     "data": {
      "text/plain": [
       "[<matplotlib.lines.Line2D at 0x7faa31c06f50>]"
      ]
     },
     "execution_count": 30,
     "metadata": {},
     "output_type": "execute_result"
    },
    {
     "data": {
      "image/png": "[encoded data removed]",
      "text/plain": [
       "<Figure size 432x288 with 1 Axes>"
      ]
     },
     "metadata": {
      "needs_background": "light"
     },
     "output_type": "display_data"
    }
   ],
   "source": [
    "plt.scatter(y_test,y_pred)\n",
    "\n",
    "m, b = np.polyfit(y_test, y_pred, 1)\n",
    "\n",
    "plt.plot(y_test, m*y_test+b, color = 'red')"
   ]
  },
  {
   "cell_type": "code",
   "execution_count": 31,
   "id": "c28e8688",
   "metadata": {
    "execution": {
     "iopub.execute_input": "2022-08-06T07:38:07.565528Z",
     "iopub.status.busy": "2022-08-06T07:38:07.565103Z",
     "iopub.status.idle": "2022-08-06T07:38:07.572171Z",
     "shell.execute_reply": "2022-08-06T07:38:07.571037Z"
    },
    "papermill": {
     "duration": 0.027999,
     "end_time": "2022-08-06T07:38:07.574477",
     "exception": false,
     "start_time": "2022-08-06T07:38:07.546478",
     "status": "completed"
    },
    "tags": []
   },
   "outputs": [
    {
     "data": {
      "text/plain": [
       "{'n_estimators': 1378,\n",
       " 'min_samples_split': 2,\n",
       " 'min_samples_leaf': 1,\n",
       " 'max_features': 'sqrt',\n",
       " 'max_depth': 62,\n",
       " 'criterion': 'absolute_error'}"
      ]
     },
     "execution_count": 31,
     "metadata": {},
     "output_type": "execute_result"
    }
   ],
   "source": [
    "rf_randomcv.best_params_"
   ]
  },
  {
   "cell_type": "code",
   "execution_count": 32,
   "id": "4b4f0b68",
   "metadata": {
    "execution": {
     "iopub.execute_input": "2022-08-06T07:38:07.611023Z",
     "iopub.status.busy": "2022-08-06T07:38:07.610245Z",
     "iopub.status.idle": "2022-08-06T07:38:07.621355Z",
     "shell.execute_reply": "2022-08-06T07:38:07.619554Z"
    },
    "papermill": {
     "duration": 0.032606,
     "end_time": "2022-08-06T07:38:07.624183",
     "exception": false,
     "start_time": "2022-08-06T07:38:07.591577",
     "status": "completed"
    },
    "tags": []
   },
   "outputs": [
    {
     "name": "stdout",
     "output_type": "stream",
     "text": [
      "{'criterion': ['absolute_error'], 'max_depth': [62], 'max_features': ['sqrt'], 'min_samples_leaf': [1, 3, 5], 'min_samples_split': [6, 3, 2, 4, 5], 'n_estimators': [1178, 1278, 1378, 1478, 1578, 1778, 1978, 2178]}\n"
     ]
    }
   ],
   "source": [
    "from sklearn.model_selection import GridSearchCV\n",
    "\n",
    "param_grid = {\n",
    "    'criterion': [rf_randomcv.best_params_['criterion']],\n",
    "    'max_depth': [rf_randomcv.best_params_['max_depth']],\n",
    "    'max_features': [rf_randomcv.best_params_['max_features']],\n",
    "    'min_samples_leaf': [rf_randomcv.best_params_['min_samples_leaf'], \n",
    "                         rf_randomcv.best_params_['min_samples_leaf']+2, \n",
    "                         rf_randomcv.best_params_['min_samples_leaf'] + 4],\n",
    "    'min_samples_split': [rf_randomcv.best_params_['min_samples_split'] +4,\n",
    "                          rf_randomcv.best_params_['min_samples_split'] +1,\n",
    "                          rf_randomcv.best_params_['min_samples_split'], \n",
    "                          rf_randomcv.best_params_['min_samples_split'] +2,\n",
    "                          rf_randomcv.best_params_['min_samples_split'] + 3],\n",
    "    'n_estimators': [rf_randomcv.best_params_['n_estimators'] - 200, rf_randomcv.best_params_['n_estimators'] - 100, \n",
    "                     rf_randomcv.best_params_['n_estimators'], \n",
    "                     rf_randomcv.best_params_['n_estimators'] + 100, rf_randomcv.best_params_['n_estimators'] + 200,\n",
    "    rf_randomcv.best_params_['n_estimators'] + 400,rf_randomcv.best_params_['n_estimators'] + 600, rf_randomcv.best_params_['n_estimators'] + 800]\n",
    "}\n",
    "\n",
    "print(param_grid)"
   ]
  },
  {
   "cell_type": "code",
   "execution_count": 33,
   "id": "fa1a30cb",
   "metadata": {
    "execution": {
     "iopub.execute_input": "2022-08-06T07:38:07.663819Z",
     "iopub.status.busy": "2022-08-06T07:38:07.663263Z",
     "iopub.status.idle": "2022-08-06T08:10:36.502209Z",
     "shell.execute_reply": "2022-08-06T08:10:36.501110Z"
    },
    "papermill": {
     "duration": 1948.882939,
     "end_time": "2022-08-06T08:10:36.525633",
     "exception": false,
     "start_time": "2022-08-06T07:38:07.642694",
     "status": "completed"
    },
    "tags": []
   },
   "outputs": [
    {
     "name": "stdout",
     "output_type": "stream",
     "text": [
      "Fitting 10 folds for each of 120 candidates, totalling 1200 fits\n",
      "\n",
      "[CV] END criterion=squared_error, max_depth=10, max_features=auto, min_samples_leaf=9, min_samples_split=20, n_estimators=1378; total time=   3.1s\n",
      "[CV] END criterion=squared_error, max_depth=583, max_features=auto, min_samples_leaf=1, min_samples_split=2, n_estimators=642; total time=   1.8s\n",
      "[CV] END criterion=squared_error, max_depth=895, max_features=auto, min_samples_leaf=15, min_samples_split=20, n_estimators=2410; total time=   5.4s\n",
      "[CV] END criterion=squared_error, max_depth=895, max_features=auto, min_samples_leaf=1, min_samples_split=15, n_estimators=2410; total time=   6.2s\n",
      "[CV] END criterion=absolute_error, max_depth=322, max_features=sqrt, min_samples_leaf=15, min_samples_split=10, n_estimators=1673; total time=   4.6s\n",
      "[CV] END criterion=poisson, max_depth=843, max_features=log2, min_samples_leaf=9, min_samples_split=2, n_estimators=2115; total time=   4.6s\n",
      "[CV] END criterion=absolute_error, max_depth=1000, max_features=sqrt, min_samples_leaf=1, min_samples_split=10, n_estimators=347; total time=   1.3s\n",
      "[CV] END criterion=squared_error, max_depth=843, max_features=log2, min_samples_leaf=3, min_samples_split=10, n_estimators=2557; total time=   5.6s\n",
      "[CV] END criterion=poisson, max_depth=114, max_features=auto, min_samples_leaf=15, min_samples_split=5, n_estimators=2852; total time=   6.8s\n",
      "[CV] END criterion=absolute_error, max_depth=10, max_features=sqrt, min_samples_leaf=7, min_samples_split=20, n_estimators=2410; total time=   6.9s\n",
      "[CV] END criterion=squared_error, max_depth=10, max_features=log2, min_samples_leaf=9, min_samples_split=15, n_estimators=1231; total time=   2.7s\n",
      "[CV] END criterion=absolute_error, max_depth=635, max_features=auto, min_samples_leaf=3, min_samples_split=5, n_estimators=2852; total time=  15.8s\n",
      "[CV] END criterion=absolute_error, max_depth=270, max_features=log2, min_samples_leaf=1, min_samples_split=20, n_estimators=2410; total time=   8.0s\n",
      "[CV] END criterion=squared_error, max_depth=947, max_features=auto, min_samples_leaf=7, min_samples_split=2, n_estimators=200; total time=   0.5s\n",
      "[CV] END criterion=squared_error, max_depth=947, max_features=auto, min_samples_leaf=7, min_samples_split=2, n_estimators=200; total time=   0.4s\n",
      "[CV] END criterion=absolute_error, max_depth=426, max_features=log2, min_samples_leaf=9, min_samples_split=15, n_estimators=2115; total time=   6.0s\n",
      "[CV] END criterion=absolute_error, max_depth=270, max_features=log2, min_samples_leaf=1, min_samples_split=10, n_estimators=2557; total time=   8.6s\n",
      "[CV] END criterion=poisson, max_depth=791, max_features=sqrt, min_samples_leaf=15, min_samples_split=2, n_estimators=347; total time=   0.7s\n",
      "[CV] END criterion=poisson, max_depth=791, max_features=sqrt, min_samples_leaf=15, min_samples_split=2, n_estimators=347; total time=   0.7s\n",
      "[CV] END criterion=poisson, max_depth=791, max_features=sqrt, min_samples_leaf=15, min_samples_split=2, n_estimators=347; total time=   0.8s\n",
      "[CV] END criterion=poisson, max_depth=270, max_features=log2, min_samples_leaf=15, min_samples_split=10, n_estimators=3000; total time=   6.5s\n",
      "[CV] END criterion=squared_error, max_depth=166, max_features=sqrt, min_samples_leaf=3, min_samples_split=20, n_estimators=494; total time=   1.0s\n",
      "[CV] END criterion=poisson, max_depth=843, max_features=sqrt, min_samples_leaf=3, min_samples_split=20, n_estimators=1673; total time=   3.9s\n",
      "[CV] END criterion=squared_error, max_depth=114, max_features=log2, min_samples_leaf=9, min_samples_split=20, n_estimators=1673; total time=   3.6s\n",
      "[CV] END criterion=squared_error, max_depth=166, max_features=sqrt, min_samples_leaf=5, min_samples_split=5, n_estimators=3000; total time=   5.3s\n",
      "[CV] END criterion=absolute_error, max_depth=62, max_features=sqrt, min_samples_leaf=1, min_samples_split=6, n_estimators=1178; total time=   5.1s\n",
      "[CV] END criterion=absolute_error, max_depth=62, max_features=sqrt, min_samples_leaf=1, min_samples_split=6, n_estimators=1178; total time=   5.2s\n",
      "[CV] END criterion=absolute_error, max_depth=62, max_features=sqrt, min_samples_leaf=1, min_samples_split=6, n_estimators=1278; total time=   5.5s\n",
      "[CV] END criterion=absolute_error, max_depth=62, max_features=sqrt, min_samples_leaf=1, min_samples_split=6, n_estimators=1278; total time=   5.6s\n",
      "[CV] END criterion=absolute_error, max_depth=62, max_features=sqrt, min_samples_leaf=1, min_samples_split=6, n_estimators=1278; total time=   5.5s\n",
      "[CV] END criterion=absolute_error, max_depth=62, max_features=sqrt, min_samples_leaf=1, min_samples_split=6, n_estimators=1378; total time=   6.0s\n",
      "[CV] END criterion=absolute_error, max_depth=62, max_features=sqrt, min_samples_leaf=1, min_samples_split=6, n_estimators=1378; total time=   6.4s\n",
      "[CV] END criterion=absolute_error, max_depth=62, max_features=sqrt, min_samples_leaf=1, min_samples_split=6, n_estimators=1478; total time=   6.5s\n",
      "[CV] END criterion=absolute_error, max_depth=62, max_features=sqrt, min_samples_leaf=1, min_samples_split=6, n_estimators=1478; total time=   6.4s\n",
      "[CV] END criterion=absolute_error, max_depth=62, max_features=sqrt, min_samples_leaf=1, min_samples_split=6, n_estimators=1478; total time=   6.4s\n",
      "[CV] END criterion=absolute_error, max_depth=62, max_features=sqrt, min_samples_leaf=1, min_samples_split=6, n_estimators=1578; total time=   6.9s\n",
      "[CV] END criterion=absolute_error, max_depth=62, max_features=sqrt, min_samples_leaf=1, min_samples_split=6, n_estimators=1578; total time=   6.8s\n",
      "[CV] END criterion=absolute_error, max_depth=62, max_features=sqrt, min_samples_leaf=1, min_samples_split=6, n_estimators=1778; total time=   7.7s\n",
      "[CV] END criterion=absolute_error, max_depth=62, max_features=sqrt, min_samples_leaf=1, min_samples_split=6, n_estimators=1778; total time=   8.2s\n",
      "[CV] END criterion=absolute_error, max_depth=62, max_features=sqrt, min_samples_leaf=1, min_samples_split=6, n_estimators=1778; total time=   7.8s\n",
      "[CV] END criterion=absolute_error, max_depth=62, max_features=sqrt, min_samples_leaf=1, min_samples_split=6, n_estimators=1978; total time=   8.5s\n",
      "[CV] END criterion=absolute_error, max_depth=62, max_features=sqrt, min_samples_leaf=1, min_samples_split=6, n_estimators=1978; total time=   8.5s\n",
      "[CV] END criterion=absolute_error, max_depth=62, max_features=sqrt, min_samples_leaf=1, min_samples_split=6, n_estimators=2178; total time=   9.3s\n",
      "[CV] END criterion=absolute_error, max_depth=62, max_features=sqrt, min_samples_leaf=1, min_samples_split=6, n_estimators=2178; total time=   9.9s\n",
      "[CV] END criterion=absolute_error, max_depth=62, max_features=sqrt, min_samples_leaf=1, min_samples_split=6, n_estimators=2178; total time=   9.3s\n",
      "[CV] END criterion=absolute_error, max_depth=62, max_features=sqrt, min_samples_leaf=1, min_samples_split=3, n_estimators=1178; total time=   5.4s\n",
      "[CV] END criterion=absolute_error, max_depth=62, max_features=sqrt, min_samples_leaf=1, min_samples_split=3, n_estimators=1178; total time=   5.5s\n",
      "[CV] END criterion=absolute_error, max_depth=62, max_features=sqrt, min_samples_leaf=1, min_samples_split=3, n_estimators=1278; total time=   5.9s\n",
      "[CV] END criterion=absolute_error, max_depth=62, max_features=sqrt, min_samples_leaf=1, min_samples_split=3, n_estimators=1278; total time=   5.9s\n",
      "[CV] END criterion=absolute_error, max_depth=62, max_features=sqrt, min_samples_leaf=1, min_samples_split=3, n_estimators=1278; total time=   6.7s\n",
      "[CV] END criterion=absolute_error, max_depth=62, max_features=sqrt, min_samples_leaf=1, min_samples_split=3, n_estimators=1378; total time=   6.3s\n",
      "[CV] END criterion=absolute_error, max_depth=62, max_features=sqrt, min_samples_leaf=1, min_samples_split=3, n_estimators=1378; total time=   6.3s\n",
      "[CV] END criterion=absolute_error, max_depth=62, max_features=sqrt, min_samples_leaf=1, min_samples_split=3, n_estimators=1478; total time=   6.8s\n",
      "[CV] END criterion=absolute_error, max_depth=62, max_features=sqrt, min_samples_leaf=1, min_samples_split=3, n_estimators=1478; total time=   6.8s\n",
      "[CV] END criterion=absolute_error, max_depth=62, max_features=sqrt, min_samples_leaf=1, min_samples_split=3, n_estimators=1478; total time=   6.7s\n",
      "[CV] END criterion=absolute_error, max_depth=62, max_features=sqrt, min_samples_leaf=1, min_samples_split=3, n_estimators=1578; total time=   7.3s\n",
      "[CV] END criterion=absolute_error, max_depth=322, max_features=log2, min_samples_leaf=3, min_samples_split=5, n_estimators=1378; total time=   4.5s\n",
      "[CV] END criterion=absolute_error, max_depth=1000, max_features=sqrt, min_samples_leaf=1, min_samples_split=10, n_estimators=347; total time=   1.3s\n",
      "[CV] END criterion=absolute_error, max_depth=1000, max_features=sqrt, min_samples_leaf=1, min_samples_split=10, n_estimators=347; total time=   1.3s\n",
      "[CV] END criterion=squared_error, max_depth=843, max_features=log2, min_samples_leaf=3, min_samples_split=10, n_estimators=2557; total time=   5.7s\n",
      "[CV] END criterion=poisson, max_depth=114, max_features=auto, min_samples_leaf=15, min_samples_split=5, n_estimators=2852; total time=   6.9s\n",
      "[CV] END criterion=poisson, max_depth=322, max_features=log2, min_samples_leaf=15, min_samples_split=10, n_estimators=1673; total time=   3.6s\n",
      "[CV] END criterion=squared_error, max_depth=10, max_features=log2, min_samples_leaf=9, min_samples_split=15, n_estimators=1231; total time=   2.6s\n",
      "[CV] END criterion=squared_error, max_depth=739, max_features=sqrt, min_samples_leaf=1, min_samples_split=2, n_estimators=1968; total time=   4.7s\n",
      "[CV] END criterion=absolute_error, max_depth=635, max_features=auto, min_samples_leaf=3, min_samples_split=5, n_estimators=2852; total time=  15.7s\n",
      "[CV] END criterion=squared_error, max_depth=791, max_features=sqrt, min_samples_leaf=15, min_samples_split=10, n_estimators=1673; total time=   3.6s\n",
      "[CV] END criterion=absolute_error, max_depth=478, max_features=log2, min_samples_leaf=7, min_samples_split=10, n_estimators=642; total time=   1.9s\n",
      "[CV] END criterion=squared_error, max_depth=947, max_features=auto, min_samples_leaf=7, min_samples_split=2, n_estimators=200; total time=   0.5s\n",
      "[CV] END criterion=absolute_error, max_depth=426, max_features=log2, min_samples_leaf=9, min_samples_split=15, n_estimators=2115; total time=   6.1s\n",
      "[CV] END criterion=absolute_error, max_depth=270, max_features=log2, min_samples_leaf=1, min_samples_split=10, n_estimators=2557; total time=   8.7s\n",
      "[CV] END criterion=absolute_error, max_depth=322, max_features=auto, min_samples_leaf=1, min_samples_split=20, n_estimators=1821; total time=   9.8s\n",
      "[CV] END criterion=squared_error, max_depth=166, max_features=sqrt, min_samples_leaf=3, min_samples_split=20, n_estimators=494; total time=   1.1s\n",
      "[CV] END criterion=poisson, max_depth=843, max_features=sqrt, min_samples_leaf=3, min_samples_split=20, n_estimators=1673; total time=   4.0s\n",
      "[CV] END criterion=squared_error, max_depth=166, max_features=sqrt, min_samples_leaf=5, min_samples_split=5, n_estimators=3000; total time=   5.6s\n",
      "[CV] END criterion=absolute_error, max_depth=62, max_features=sqrt, min_samples_leaf=1, min_samples_split=6, n_estimators=1178; total time=   5.1s\n",
      "[CV] END criterion=absolute_error, max_depth=62, max_features=sqrt, min_samples_leaf=1, min_samples_split=6, n_estimators=1178; total time=   5.2s\n",
      "[CV] END criterion=absolute_error, max_depth=62, max_features=sqrt, min_samples_leaf=1, min_samples_split=6, n_estimators=1178; total time=   5.1s\n",
      "[CV] END criterion=absolute_error, max_depth=62, max_features=sqrt, min_samples_leaf=1, min_samples_split=6, n_estimators=1278; total time=   5.6s\n",
      "[CV] END criterion=absolute_error, max_depth=62, max_features=sqrt, min_samples_leaf=1, min_samples_split=6, n_estimators=1278; total time=   5.5s\n",
      "[CV] END criterion=absolute_error, max_depth=62, max_features=sqrt, min_samples_leaf=1, min_samples_split=6, n_estimators=1378; total time=   6.1s\n",
      "[CV] END criterion=absolute_error, max_depth=62, max_features=sqrt, min_samples_leaf=1, min_samples_split=6, n_estimators=1378; total time=   6.3s\n",
      "[CV] END criterion=absolute_error, max_depth=62, max_features=sqrt, min_samples_leaf=1, min_samples_split=6, n_estimators=1378; total time=   6.1s\n",
      "[CV] END criterion=absolute_error, max_depth=62, max_features=sqrt, min_samples_leaf=1, min_samples_split=6, n_estimators=1478; total time=   6.4s\n",
      "[CV] END criterion=absolute_error, max_depth=62, max_features=sqrt, min_samples_leaf=1, min_samples_split=6, n_estimators=1478; total time=   6.5s\n",
      "[CV] END criterion=absolute_error, max_depth=62, max_features=sqrt, min_samples_leaf=1, min_samples_split=6, n_estimators=1578; total time=   6.9s\n",
      "[CV] END criterion=absolute_error, max_depth=62, max_features=sqrt, min_samples_leaf=1, min_samples_split=6, n_estimators=1578; total time=   6.8s\n",
      "[CV] END criterion=absolute_error, max_depth=62, max_features=sqrt, min_samples_leaf=1, min_samples_split=6, n_estimators=1578; total time=   6.8s\n",
      "[CV] END criterion=absolute_error, max_depth=62, max_features=sqrt, min_samples_leaf=1, min_samples_split=6, n_estimators=1778; total time=   8.2s\n",
      "[CV] END criterion=absolute_error, max_depth=62, max_features=sqrt, min_samples_leaf=1, min_samples_split=6, n_estimators=1778; total time=   7.9s\n",
      "[CV] END criterion=absolute_error, max_depth=62, max_features=sqrt, min_samples_leaf=1, min_samples_split=6, n_estimators=1978; total time=   8.6s\n",
      "[CV] END criterion=absolute_error, max_depth=62, max_features=sqrt, min_samples_leaf=1, min_samples_split=6, n_estimators=1978; total time=   8.5s\n",
      "[CV] END criterion=absolute_error, max_depth=62, max_features=sqrt, min_samples_leaf=1, min_samples_split=6, n_estimators=1978; total time=   8.6s\n",
      "[CV] END criterion=absolute_error, max_depth=62, max_features=sqrt, min_samples_leaf=1, min_samples_split=6, n_estimators=2178; total time=   9.6s\n",
      "[CV] END criterion=absolute_error, max_depth=62, max_features=sqrt, min_samples_leaf=1, min_samples_split=6, n_estimators=2178; total time=   9.4s\n",
      "[CV] END criterion=absolute_error, max_depth=62, max_features=sqrt, min_samples_leaf=1, min_samples_split=3, n_estimators=1178; total time=   5.5s\n",
      "[CV] END criterion=absolute_error, max_depth=62, max_features=sqrt, min_samples_leaf=1, min_samples_split=3, n_estimators=1178; total time=   5.4s\n",
      "[CV] END criterion=absolute_error, max_depth=62, max_features=sqrt, min_samples_leaf=1, min_samples_split=3, n_estimators=1178; total time=   5.5s\n",
      "[CV] END criterion=absolute_error, max_depth=62, max_features=sqrt, min_samples_leaf=1, min_samples_split=3, n_estimators=1278; total time=   5.9s\n",
      "[CV] END criterion=absolute_error, max_depth=62, max_features=sqrt, min_samples_leaf=1, min_samples_split=3, n_estimators=1278; total time=   6.4s\n",
      "[CV] END criterion=absolute_error, max_depth=62, max_features=sqrt, min_samples_leaf=1, min_samples_split=3, n_estimators=1378; total time=   6.7s\n",
      "[CV] END criterion=absolute_error, max_depth=62, max_features=sqrt, min_samples_leaf=1, min_samples_split=3, n_estimators=1378; total time=   6.3s\n",
      "[CV] END criterion=absolute_error, max_depth=62, max_features=sqrt, min_samples_leaf=1, min_samples_split=3, n_estimators=1378; total time=   6.3s\n",
      "[CV] END criterion=absolute_error, max_depth=62, max_features=sqrt, min_samples_leaf=1, min_samples_split=3, n_estimators=1478; total time=   6.7s\n",
      "[CV] END criterion=absolute_error, max_depth=62, max_features=sqrt, min_samples_leaf=1, min_samples_split=3, n_estimators=1478; total time=   6.9s\n",
      "[CV] END criterion=absolute_error, max_depth=62, max_features=sqrt, min_samples_leaf=1, min_samples_split=3, n_estimators=1578; total time=   7.3s\n",
      "[CV] END criterion=absolute_error, max_depth=62, max_features=sqrt, min_samples_leaf=1, min_samples_split=3, n_estimators=1578; total time=   7.5s\n",
      "[CV] END criterion=absolute_error, max_depth=62, max_features=sqrt, min_samples_leaf=1, min_samples_split=3, n_estimators=1578; total time=   7.2s\n",
      "[CV] END criterion=absolute_error, max_depth=62, max_features=sqrt, min_samples_leaf=1, min_samples_split=3, n_estimators=1778; total time=   8.2s\n",
      "[CV] END criterion=absolute_error, max_depth=62, max_features=sqrt, min_samples_leaf=1, min_samples_split=3, n_estimators=1778; total time=   8.1s\n",
      "[CV] END criterion=absolute_error, max_depth=62, max_features=sqrt, min_samples_leaf=1, min_samples_split=3, n_estimators=1978; total time=   9.0s\n",
      "[CV] END criterion=absolute_error, max_depth=62, max_features=sqrt, min_samples_leaf=1, min_samples_split=3, n_estimators=1978; total time=   9.1s\n",
      "[CV] END criterion=absolute_error, max_depth=62, max_features=sqrt, min_samples_leaf=1, min_samples_split=3, n_estimators=1978; total time=  10.0s\n",
      "[CV] END criterion=absolute_error, max_depth=10, max_features=sqrt, min_samples_leaf=7, min_samples_split=20, n_estimators=2410; total time=   6.9s\n",
      "[CV] END criterion=poisson, max_depth=322, max_features=log2, min_samples_leaf=15, min_samples_split=10, n_estimators=1673; total time=   3.5s\n",
      "[CV] END criterion=squared_error, max_depth=10, max_features=log2, min_samples_leaf=9, min_samples_split=15, n_estimators=1231; total time=   2.7s\n",
      "[CV] END criterion=squared_error, max_depth=739, max_features=sqrt, min_samples_leaf=1, min_samples_split=2, n_estimators=1968; total time=   4.6s\n",
      "[CV] END criterion=absolute_error, max_depth=270, max_features=log2, min_samples_leaf=1, min_samples_split=20, n_estimators=2410; total time=   7.3s\n",
      "[CV] END criterion=absolute_error, max_depth=270, max_features=log2, min_samples_leaf=1, min_samples_split=20, n_estimators=2410; total time=   7.9s\n",
      "[CV] END criterion=squared_error, max_depth=791, max_features=sqrt, min_samples_leaf=15, min_samples_split=10, n_estimators=1673; total time=   3.6s\n",
      "[CV] END criterion=absolute_error, max_depth=478, max_features=log2, min_samples_leaf=7, min_samples_split=10, n_estimators=642; total time=   1.9s\n",
      "[CV] END criterion=absolute_error, max_depth=426, max_features=log2, min_samples_leaf=9, min_samples_split=15, n_estimators=2115; total time=   6.2s\n",
      "[CV] END criterion=poisson, max_depth=114, max_features=log2, min_samples_leaf=3, min_samples_split=20, n_estimators=200; total time=   0.5s\n",
      "[CV] END criterion=poisson, max_depth=114, max_features=log2, min_samples_leaf=3, min_samples_split=20, n_estimators=200; total time=   0.5s\n",
      "[CV] END criterion=poisson, max_depth=114, max_features=log2, min_samples_leaf=3, min_samples_split=20, n_estimators=200; total time=   0.5s\n",
      "[CV] END criterion=absolute_error, max_depth=322, max_features=auto, min_samples_leaf=1, min_samples_split=20, n_estimators=1821; total time=   9.3s\n",
      "[CV] END criterion=poisson, max_depth=270, max_features=log2, min_samples_leaf=15, min_samples_split=10, n_estimators=3000; total time=   6.6s\n",
      "[CV] END criterion=squared_error, max_depth=166, max_features=sqrt, min_samples_leaf=3, min_samples_split=20, n_estimators=494; total time=   1.0s\n",
      "[CV] END criterion=poisson, max_depth=843, max_features=sqrt, min_samples_leaf=3, min_samples_split=20, n_estimators=1673; total time=   3.9s\n",
      "[CV] END criterion=squared_error, max_depth=114, max_features=log2, min_samples_leaf=9, min_samples_split=20, n_estimators=1673; total time=   3.5s\n",
      "[CV] END criterion=absolute_error, max_depth=62, max_features=sqrt, min_samples_leaf=1, min_samples_split=6, n_estimators=1178; total time=   5.1s\n",
      "[CV] END criterion=absolute_error, max_depth=62, max_features=sqrt, min_samples_leaf=1, min_samples_split=6, n_estimators=1178; total time=   5.2s\n",
      "[CV] END criterion=absolute_error, max_depth=62, max_features=sqrt, min_samples_leaf=1, min_samples_split=6, n_estimators=1278; total time=   5.5s\n",
      "[CV] END criterion=absolute_error, max_depth=62, max_features=sqrt, min_samples_leaf=1, min_samples_split=6, n_estimators=1278; total time=   5.5s\n",
      "[CV] END criterion=absolute_error, max_depth=62, max_features=sqrt, min_samples_leaf=1, min_samples_split=6, n_estimators=1278; total time=   5.5s\n",
      "[CV] END criterion=absolute_error, max_depth=62, max_features=sqrt, min_samples_leaf=1, min_samples_split=6, n_estimators=1378; total time=   6.0s\n",
      "[CV] END criterion=absolute_error, max_depth=62, max_features=sqrt, min_samples_leaf=1, min_samples_split=6, n_estimators=1378; total time=   6.5s\n",
      "[CV] END criterion=absolute_error, max_depth=62, max_features=sqrt, min_samples_leaf=1, min_samples_split=6, n_estimators=1478; total time=   6.4s\n",
      "[CV] END criterion=absolute_error, max_depth=62, max_features=sqrt, min_samples_leaf=1, min_samples_split=6, n_estimators=1478; total time=   6.4s\n",
      "[CV] END criterion=absolute_error, max_depth=62, max_features=sqrt, min_samples_leaf=1, min_samples_split=6, n_estimators=1478; total time=   6.5s\n",
      "[CV] END criterion=absolute_error, max_depth=62, max_features=sqrt, min_samples_leaf=1, min_samples_split=6, n_estimators=1578; total time=   6.9s\n",
      "[CV] END criterion=absolute_error, max_depth=62, max_features=sqrt, min_samples_leaf=1, min_samples_split=6, n_estimators=1578; total time=   6.8s\n",
      "[CV] END criterion=absolute_error, max_depth=62, max_features=sqrt, min_samples_leaf=1, min_samples_split=6, n_estimators=1778; total time=   7.6s\n",
      "[CV] END criterion=absolute_error, max_depth=62, max_features=sqrt, min_samples_leaf=1, min_samples_split=6, n_estimators=1778; total time=   8.4s\n",
      "[CV] END criterion=absolute_error, max_depth=62, max_features=sqrt, min_samples_leaf=1, min_samples_split=6, n_estimators=1778; total time=   7.9s\n",
      "[CV] END criterion=absolute_error, max_depth=62, max_features=sqrt, min_samples_leaf=1, min_samples_split=6, n_estimators=1978; total time=   8.5s\n",
      "[CV] END criterion=absolute_error, max_depth=62, max_features=sqrt, min_samples_leaf=1, min_samples_split=6, n_estimators=1978; total time=   8.6s\n",
      "[CV] END criterion=absolute_error, max_depth=62, max_features=sqrt, min_samples_leaf=1, min_samples_split=6, n_estimators=2178; total time=   9.4s\n",
      "[CV] END criterion=absolute_error, max_depth=62, max_features=sqrt, min_samples_leaf=1, min_samples_split=6, n_estimators=2178; total time=   9.9s\n",
      "[CV] END criterion=absolute_error, max_depth=62, max_features=sqrt, min_samples_leaf=1, min_samples_split=6, n_estimators=2178; total time=   9.4s\n",
      "[CV] END criterion=absolute_error, max_depth=62, max_features=sqrt, min_samples_leaf=1, min_samples_split=3, n_estimators=1178; total time=   5.4s\n",
      "[CV] END criterion=absolute_error, max_depth=62, max_features=sqrt, min_samples_leaf=1, min_samples_split=3, n_estimators=1178; total time=   5.5s\n",
      "[CV] END criterion=absolute_error, max_depth=62, max_features=sqrt, min_samples_leaf=1, min_samples_split=3, n_estimators=1278; total time=   5.9s\n",
      "[CV] END criterion=absolute_error, max_depth=62, max_features=sqrt, min_samples_leaf=1, min_samples_split=3, n_estimators=1278; total time=   6.1s\n",
      "[CV] END criterion=absolute_error, max_depth=62, max_features=sqrt, min_samples_leaf=1, min_samples_split=3, n_estimators=1278; total time=   6.3s\n",
      "[CV] END criterion=absolute_error, max_depth=62, max_features=sqrt, min_samples_leaf=1, min_samples_split=3, n_estimators=1378; total time=   6.4s\n",
      "[CV] END criterion=absolute_error, max_depth=62, max_features=sqrt, min_samples_leaf=1, min_samples_split=3, n_estimators=1378; total time=   6.3s\n",
      "[CV] END criterion=absolute_error, max_depth=62, max_features=sqrt, min_samples_leaf=1, min_samples_split=3, n_estimators=1478; total time=   6.8s\n",
      "[CV] END criterion=absolute_error, max_depth=62, max_features=sqrt, min_samples_leaf=1, min_samples_split=3, n_estimators=1478; total time=   6.8s\n",
      "[CV] END criterion=absolute_error, max_depth=62, max_features=sqrt, min_samples_leaf=1, min_samples_split=3, n_estimators=1478; total time=   6.8s\n",
      "[CV] END criterion=absolute_error, max_depth=62, max_features=sqrt, min_samples_leaf=1, min_samples_split=3, n_estimators=1578; total time=   7.5s\n",
      "[CV] END criterion=absolute_error, max_depth=62, max_features=sqrt, min_samples_leaf=1, min_samples_split=3, n_estimators=1578; total time=   7.8s\n",
      "[CV] END criterion=absolute_error, max_depth=62, max_features=sqrt, min_samples_leaf=1, min_samples_split=3, n_estimators=1778; total time=   8.3s\n",
      "[CV] END criterion=absolute_error, max_depth=62, max_features=sqrt, min_samples_leaf=1, min_samples_split=3, n_estimators=1778; total time=   8.1s\n",
      "[CV] END criterion=absolute_error, max_depth=62, max_features=sqrt, min_samples_leaf=1, min_samples_split=3, n_estimators=1778; total time=   8.2s\n",
      "[CV] END criterion=absolute_error, max_depth=62, max_features=sqrt, min_samples_leaf=1, min_samples_split=3, n_estimators=1978; total time=   9.0s\n",
      "[CV] END criterion=absolute_error, max_depth=62, max_features=sqrt, min_samples_leaf=1, min_samples_split=3, n_estimators=1978; total time=   9.5s\n",
      "[CV] END criterion=absolute_error, max_depth=62, max_features=sqrt, min_samples_leaf=1, min_samples_split=3, n_estimators=2178; total time=  10.6s\n",
      "[CV] END criterion=absolute_error, max_depth=62, max_features=sqrt, min_samples_leaf=1, min_samples_split=3, n_estimators=2178; total time=  10.3s\n",
      "[CV] END criterion=poisson, max_depth=114, max_features=auto, min_samples_leaf=15, min_samples_split=5, n_estimators=2852; total time=   6.8s\n",
      "[CV] END criterion=absolute_error, max_depth=10, max_features=sqrt, min_samples_leaf=7, min_samples_split=20, n_estimators=2410; total time=   7.0s\n",
      "[CV] END criterion=poisson, max_depth=322, max_features=log2, min_samples_leaf=15, min_samples_split=10, n_estimators=1673; total time=   3.6s\n",
      "[CV] END criterion=squared_error, max_depth=739, max_features=sqrt, min_samples_leaf=1, min_samples_split=2, n_estimators=1968; total time=   4.6s\n",
      "[CV] END criterion=absolute_error, max_depth=635, max_features=auto, min_samples_leaf=3, min_samples_split=5, n_estimators=2852; total time=  16.2s\n",
      "[CV] END criterion=squared_error, max_depth=791, max_features=sqrt, min_samples_leaf=15, min_samples_split=10, n_estimators=1673; total time=   3.4s\n",
      "[CV] END criterion=absolute_error, max_depth=478, max_features=log2, min_samples_leaf=7, min_samples_split=10, n_estimators=642; total time=   1.9s\n",
      "[CV] END criterion=absolute_error, max_depth=270, max_features=log2, min_samples_leaf=1, min_samples_split=10, n_estimators=2557; total time=   8.7s\n",
      "[CV] END criterion=absolute_error, max_depth=322, max_features=auto, min_samples_leaf=1, min_samples_split=20, n_estimators=1821; total time=   9.5s\n",
      "[CV] END criterion=poisson, max_depth=270, max_features=log2, min_samples_leaf=15, min_samples_split=10, n_estimators=3000; total time=   6.8s\n",
      "[CV] END criterion=squared_error, max_depth=114, max_features=log2, min_samples_leaf=9, min_samples_split=20, n_estimators=1673; total time=   3.5s\n",
      "[CV] END criterion=squared_error, max_depth=166, max_features=sqrt, min_samples_leaf=5, min_samples_split=5, n_estimators=3000; total time=   6.3s\n",
      "[CV] END criterion=absolute_error, max_depth=62, max_features=sqrt, min_samples_leaf=1, min_samples_split=6, n_estimators=1178; total time=   5.1s\n",
      "[CV] END criterion=absolute_error, max_depth=62, max_features=sqrt, min_samples_leaf=1, min_samples_split=6, n_estimators=1178; total time=   5.1s\n",
      "[CV] END criterion=absolute_error, max_depth=62, max_features=sqrt, min_samples_leaf=1, min_samples_split=6, n_estimators=1178; total time=   5.1s\n",
      "[CV] END criterion=absolute_error, max_depth=62, max_features=sqrt, min_samples_leaf=1, min_samples_split=6, n_estimators=1278; total time=   5.5s\n",
      "[CV] END criterion=absolute_error, max_depth=62, max_features=sqrt, min_samples_leaf=1, min_samples_split=6, n_estimators=1278; total time=   5.6s\n",
      "[CV] END criterion=absolute_error, max_depth=62, max_features=sqrt, min_samples_leaf=1, min_samples_split=6, n_estimators=1378; total time=   6.1s\n",
      "[CV] END criterion=absolute_error, max_depth=62, max_features=sqrt, min_samples_leaf=1, min_samples_split=6, n_estimators=1378; total time=   6.5s\n",
      "[CV] END criterion=absolute_error, max_depth=62, max_features=sqrt, min_samples_leaf=1, min_samples_split=6, n_estimators=1378; total time=   6.0s\n",
      "[CV] END criterion=absolute_error, max_depth=62, max_features=sqrt, min_samples_leaf=1, min_samples_split=6, n_estimators=1478; total time=   6.4s\n",
      "[CV] END criterion=absolute_error, max_depth=62, max_features=sqrt, min_samples_leaf=1, min_samples_split=6, n_estimators=1478; total time=   6.5s\n",
      "[CV] END criterion=absolute_error, max_depth=62, max_features=sqrt, min_samples_leaf=1, min_samples_split=6, n_estimators=1578; total time=   6.9s\n",
      "[CV] END criterion=absolute_error, max_depth=62, max_features=sqrt, min_samples_leaf=1, min_samples_split=6, n_estimators=1578; total time=   6.8s\n",
      "[CV] END criterion=absolute_error, max_depth=62, max_features=sqrt, min_samples_leaf=1, min_samples_split=6, n_estimators=1578; total time=   6.9s\n",
      "[CV] END criterion=absolute_error, max_depth=62, max_features=sqrt, min_samples_leaf=1, min_samples_split=6, n_estimators=1778; total time=   8.2s\n",
      "[CV] END criterion=absolute_error, max_depth=62, max_features=sqrt, min_samples_leaf=1, min_samples_split=6, n_estimators=1778; total time=   7.8s\n",
      "[CV] END criterion=absolute_error, max_depth=62, max_features=sqrt, min_samples_leaf=1, min_samples_split=6, n_estimators=1978; total time=   8.5s\n",
      "[CV] END criterion=absolute_error, max_depth=62, max_features=sqrt, min_samples_leaf=1, min_samples_split=6, n_estimators=1978; total time=   8.5s\n",
      "[CV] END criterion=absolute_error, max_depth=62, max_features=sqrt, min_samples_leaf=1, min_samples_split=6, n_estimators=1978; total time=   8.5s\n",
      "[CV] END criterion=absolute_error, max_depth=62, max_features=sqrt, min_samples_leaf=1, min_samples_split=6, n_estimators=2178; total time=   9.9s\n",
      "[CV] END criterion=absolute_error, max_depth=62, max_features=sqrt, min_samples_leaf=1, min_samples_split=6, n_estimators=2178; total time=   9.3s\n",
      "[CV] END criterion=absolute_error, max_depth=62, max_features=sqrt, min_samples_leaf=1, min_samples_split=3, n_estimators=1178; total time=   5.4s\n",
      "[CV] END criterion=absolute_error, max_depth=62, max_features=sqrt, min_samples_leaf=1, min_samples_split=3, n_estimators=1178; total time=   5.4s\n",
      "[CV] END criterion=absolute_error, max_depth=62, max_features=sqrt, min_samples_leaf=1, min_samples_split=3, n_estimators=1178; total time=   5.5s\n",
      "[CV] END criterion=absolute_error, max_depth=62, max_features=sqrt, min_samples_leaf=1, min_samples_split=3, n_estimators=1278; total time=   5.8s\n",
      "[CV] END criterion=absolute_error, max_depth=62, max_features=sqrt, min_samples_leaf=1, min_samples_split=3, n_estimators=1278; total time=   6.4s\n",
      "[CV] END criterion=absolute_error, max_depth=62, max_features=sqrt, min_samples_leaf=1, min_samples_split=3, n_estimators=1378; total time=   6.5s\n",
      "[CV] END criterion=absolute_error, max_depth=62, max_features=sqrt, min_samples_leaf=1, min_samples_split=3, n_estimators=1378; total time=   6.4s\n",
      "[CV] END criterion=absolute_error, max_depth=62, max_features=sqrt, min_samples_leaf=1, min_samples_split=3, n_estimators=1378; total time=   6.4s\n",
      "[CV] END criterion=absolute_error, max_depth=62, max_features=sqrt, min_samples_leaf=1, min_samples_split=3, n_estimators=1478; total time=   6.7s\n",
      "[CV] END criterion=absolute_error, max_depth=62, max_features=sqrt, min_samples_leaf=1, min_samples_split=3, n_estimators=1478; total time=   6.8s\n",
      "[CV] END criterion=absolute_error, max_depth=62, max_features=sqrt, min_samples_leaf=1, min_samples_split=3, n_estimators=1578; total time=   7.3s\n",
      "[CV] END criterion=absolute_error, max_depth=62, max_features=sqrt, min_samples_leaf=1, min_samples_split=3, n_estimators=1578; total time=   7.6s\n",
      "[CV] END criterion=absolute_error, max_depth=62, max_features=sqrt, min_samples_leaf=1, min_samples_split=3, n_estimators=1578; total time=   7.2s\n",
      "[CV] END criterion=absolute_error, max_depth=62, max_features=sqrt, min_samples_leaf=1, min_samples_split=3, n_estimators=1778; total time=   8.1s\n",
      "[CV] END criterion=absolute_error, max_depth=62, max_features=sqrt, min_samples_leaf=1, min_samples_split=3, n_estimators=1778; total time=   8.1s\n",
      "[CV] END criterion=absolute_error, max_depth=62, max_features=sqrt, min_samples_leaf=1, min_samples_split=3, n_estimators=1978; total time=   9.0s\n",
      "[CV] END criterion=absolute_error, max_depth=62, max_features=sqrt, min_samples_leaf=1, min_samples_split=3, n_estimators=1978; total time=   9.1s\n",
      "[CV] END criterion=absolute_error, max_depth=62, max_features=sqrt, min_samples_leaf=1, min_samples_split=3, n_estimators=1978; total time=   9.6s\n",
      "[CV] END criterion=absolute_error, max_depth=62, max_features=sqrt, min_samples_leaf=1, min_samples_split=3, n_estimators=2178; total time=  10.1s\n",
      "[CV] END criterion=absolute_error, max_depth=62, max_features=sqrt, min_samples_leaf=1, min_samples_split=3, n_estimators=2178; total time=  10.1s\n",
      "[CV] END criterion=absolute_error, max_depth=62, max_features=sqrt, min_samples_leaf=1, min_samples_split=2, n_estimators=1178; total time=   5.6s\n",
      "[CV] END criterion=absolute_error, max_depth=62, max_features=sqrt, min_samples_leaf=1, min_samples_split=2, n_estimators=1178; total time=   5.6s\n",
      "[CV] END criterion=absolute_error, max_depth=62, max_features=sqrt, min_samples_leaf=1, min_samples_split=2, n_estimators=1178; total time=   5.6s\n",
      "[CV] END criterion=absolute_error, max_depth=62, max_features=sqrt, min_samples_leaf=1, min_samples_split=2, n_estimators=1278; total time=   6.5s\n",
      "[CV] END criterion=absolute_error, max_depth=62, max_features=sqrt, min_samples_leaf=1, min_samples_split=3, n_estimators=1578; total time=   7.9s\n",
      "[CV] END criterion=absolute_error, max_depth=62, max_features=sqrt, min_samples_leaf=1, min_samples_split=3, n_estimators=1778; total time=   8.4s\n",
      "[CV] END criterion=absolute_error, max_depth=62, max_features=sqrt, min_samples_leaf=1, min_samples_split=3, n_estimators=1778; total time=   8.1s\n",
      "[CV] END criterion=absolute_error, max_depth=62, max_features=sqrt, min_samples_leaf=1, min_samples_split=3, n_estimators=1778; total time=   8.1s\n",
      "[CV] END criterion=absolute_error, max_depth=62, max_features=sqrt, min_samples_leaf=1, min_samples_split=3, n_estimators=1978; total time=   9.0s\n",
      "[CV] END criterion=absolute_error, max_depth=62, max_features=sqrt, min_samples_leaf=1, min_samples_split=3, n_estimators=1978; total time=   9.6s\n",
      "[CV] END criterion=absolute_error, max_depth=62, max_features=sqrt, min_samples_leaf=1, min_samples_split=3, n_estimators=2178; total time=  10.4s\n",
      "[CV] END criterion=absolute_error, max_depth=62, max_features=sqrt, min_samples_leaf=1, min_samples_split=3, n_estimators=2178; total time=  10.3s\n",
      "[CV] END criterion=absolute_error, max_depth=62, max_features=sqrt, min_samples_leaf=1, min_samples_split=3, n_estimators=2178; total time=  10.3s\n",
      "[CV] END criterion=absolute_error, max_depth=62, max_features=sqrt, min_samples_leaf=1, min_samples_split=2, n_estimators=1178; total time=   5.7s\n",
      "[CV] END criterion=absolute_error, max_depth=62, max_features=sqrt, min_samples_leaf=1, min_samples_split=2, n_estimators=1178; total time=   5.6s\n",
      "[CV] END criterion=absolute_error, max_depth=62, max_features=sqrt, min_samples_leaf=1, min_samples_split=2, n_estimators=1278; total time=   6.6s\n",
      "[CV] END criterion=absolute_error, max_depth=62, max_features=sqrt, min_samples_leaf=1, min_samples_split=2, n_estimators=1278; total time=   6.1s\n",
      "[CV] END criterion=absolute_error, max_depth=62, max_features=sqrt, min_samples_leaf=1, min_samples_split=2, n_estimators=1378; total time=   6.5s\n",
      "[CV] END criterion=absolute_error, max_depth=62, max_features=sqrt, min_samples_leaf=1, min_samples_split=2, n_estimators=1378; total time=   6.5s\n",
      "[CV] END criterion=absolute_error, max_depth=62, max_features=sqrt, min_samples_leaf=1, min_samples_split=2, n_estimators=1378; total time=   6.5s\n",
      "[CV] END criterion=absolute_error, max_depth=62, max_features=sqrt, min_samples_leaf=1, min_samples_split=2, n_estimators=1478; total time=   6.9s\n",
      "[CV] END criterion=absolute_error, max_depth=62, max_features=sqrt, min_samples_leaf=1, min_samples_split=2, n_estimators=1478; total time=   7.4s\n",
      "[CV] END criterion=absolute_error, max_depth=62, max_features=sqrt, min_samples_leaf=1, min_samples_split=2, n_estimators=1578; total time=   7.7s\n",
      "[CV] END criterion=absolute_error, max_depth=62, max_features=sqrt, min_samples_leaf=1, min_samples_split=2, n_estimators=1578; total time=   7.4s\n",
      "[CV] END criterion=absolute_error, max_depth=62, max_features=sqrt, min_samples_leaf=1, min_samples_split=2, n_estimators=1578; total time=   7.4s\n",
      "[CV] END criterion=absolute_error, max_depth=62, max_features=sqrt, min_samples_leaf=1, min_samples_split=2, n_estimators=1778; total time=   8.3s\n",
      "[CV] END criterion=absolute_error, max_depth=62, max_features=sqrt, min_samples_leaf=1, min_samples_split=2, n_estimators=1778; total time=   8.4s\n",
      "[CV] END criterion=absolute_error, max_depth=62, max_features=sqrt, min_samples_leaf=1, min_samples_split=2, n_estimators=1978; total time=   9.8s\n",
      "[CV] END criterion=absolute_error, max_depth=62, max_features=sqrt, min_samples_leaf=1, min_samples_split=2, n_estimators=1978; total time=   9.3s\n",
      "[CV] END criterion=absolute_error, max_depth=62, max_features=sqrt, min_samples_leaf=1, min_samples_split=2, n_estimators=1978; total time=   9.3s\n",
      "[CV] END criterion=absolute_error, max_depth=62, max_features=sqrt, min_samples_leaf=1, min_samples_split=2, n_estimators=2178; total time=  10.2s\n",
      "[CV] END criterion=absolute_error, max_depth=62, max_features=sqrt, min_samples_leaf=1, min_samples_split=2, n_estimators=2178; total time=  11.0s\n",
      "[CV] END criterion=absolute_error, max_depth=62, max_features=sqrt, min_samples_leaf=1, min_samples_split=4, n_estimators=1178; total time=   5.4s\n",
      "[CV] END criterion=absolute_error, max_depth=62, max_features=sqrt, min_samples_leaf=1, min_samples_split=4, n_estimators=1178; total time=   5.4s\n",
      "[CV] END criterion=absolute_error, max_depth=62, max_features=sqrt, min_samples_leaf=1, min_samples_split=4, n_estimators=1178; total time=   5.3s\n",
      "[CV] END criterion=absolute_error, max_depth=62, max_features=sqrt, min_samples_leaf=1, min_samples_split=4, n_estimators=1278; total time=   5.8s\n",
      "[CV] END criterion=absolute_error, max_depth=62, max_features=sqrt, min_samples_leaf=1, min_samples_split=4, n_estimators=1278; total time=   5.9s\n",
      "[CV] END criterion=absolute_error, max_depth=62, max_features=sqrt, min_samples_leaf=1, min_samples_split=4, n_estimators=1278; total time=   5.9s\n",
      "[CV] END criterion=absolute_error, max_depth=62, max_features=sqrt, min_samples_leaf=1, min_samples_split=4, n_estimators=1378; total time=   6.3s\n",
      "[CV] END criterion=absolute_error, max_depth=62, max_features=sqrt, min_samples_leaf=1, min_samples_split=4, n_estimators=1378; total time=   6.4s\n",
      "[CV] END criterion=absolute_error, max_depth=62, max_features=sqrt, min_samples_leaf=1, min_samples_split=4, n_estimators=1478; total time=   6.8s\n",
      "[CV] END criterion=absolute_error, max_depth=62, max_features=sqrt, min_samples_leaf=1, min_samples_split=4, n_estimators=1478; total time=   6.7s\n",
      "[CV] END criterion=absolute_error, max_depth=62, max_features=sqrt, min_samples_leaf=1, min_samples_split=4, n_estimators=1478; total time=   6.9s\n",
      "[CV] END criterion=absolute_error, max_depth=62, max_features=sqrt, min_samples_leaf=1, min_samples_split=4, n_estimators=1578; total time=   7.2s\n",
      "[CV] END criterion=absolute_error, max_depth=62, max_features=sqrt, min_samples_leaf=1, min_samples_split=4, n_estimators=1578; total time=   7.3s\n",
      "[CV] END criterion=absolute_error, max_depth=62, max_features=sqrt, min_samples_leaf=1, min_samples_split=4, n_estimators=1778; total time=   8.4s\n",
      "[CV] END criterion=absolute_error, max_depth=62, max_features=sqrt, min_samples_leaf=1, min_samples_split=4, n_estimators=1778; total time=   7.9s\n",
      "[CV] END criterion=absolute_error, max_depth=62, max_features=sqrt, min_samples_leaf=1, min_samples_split=4, n_estimators=1778; total time=   7.9s\n",
      "[CV] END criterion=absolute_error, max_depth=62, max_features=sqrt, min_samples_leaf=1, min_samples_split=4, n_estimators=1978; total time=   8.8s\n",
      "[CV] END criterion=absolute_error, max_depth=62, max_features=sqrt, min_samples_leaf=1, min_samples_split=4, n_estimators=1978; total time=   8.9s\n",
      "[CV] END criterion=absolute_error, max_depth=62, max_features=sqrt, min_samples_leaf=1, min_samples_split=4, n_estimators=2178; total time=  10.4s\n",
      "[CV] END criterion=absolute_error, max_depth=62, max_features=sqrt, min_samples_leaf=1, min_samples_split=4, n_estimators=2178; total time=  10.1s\n",
      "[CV] END criterion=absolute_error, max_depth=62, max_features=sqrt, min_samples_leaf=1, min_samples_split=4, n_estimators=2178; total time=  10.0s\n",
      "[CV] END criterion=absolute_error, max_depth=62, max_features=sqrt, min_samples_leaf=1, min_samples_split=5, n_estimators=1178; total time=   5.7s\n",
      "[CV] END criterion=absolute_error, max_depth=62, max_features=sqrt, min_samples_leaf=1, min_samples_split=5, n_estimators=1178; total time=   5.3s\n",
      "[CV] END criterion=absolute_error, max_depth=62, max_features=sqrt, min_samples_leaf=1, min_samples_split=5, n_estimators=1278; total time=   5.5s\n",
      "[CV] END criterion=absolute_error, max_depth=62, max_features=sqrt, min_samples_leaf=1, min_samples_split=5, n_estimators=1278; total time=   5.7s\n",
      "[CV] END criterion=absolute_error, max_depth=62, max_features=sqrt, min_samples_leaf=1, min_samples_split=5, n_estimators=1378; total time=   6.0s\n",
      "[CV] END criterion=absolute_error, max_depth=62, max_features=sqrt, min_samples_leaf=1, min_samples_split=5, n_estimators=1378; total time=   6.0s\n",
      "[CV] END criterion=absolute_error, max_depth=62, max_features=sqrt, min_samples_leaf=1, min_samples_split=5, n_estimators=1378; total time=   6.5s\n",
      "[CV] END criterion=absolute_error, max_depth=62, max_features=sqrt, min_samples_leaf=1, min_samples_split=3, n_estimators=2178; total time=  10.2s\n",
      "[CV] END criterion=absolute_error, max_depth=62, max_features=sqrt, min_samples_leaf=1, min_samples_split=3, n_estimators=2178; total time=  10.0s\n",
      "[CV] END criterion=absolute_error, max_depth=62, max_features=sqrt, min_samples_leaf=1, min_samples_split=2, n_estimators=1178; total time=   5.5s\n",
      "[CV] END criterion=absolute_error, max_depth=62, max_features=sqrt, min_samples_leaf=1, min_samples_split=2, n_estimators=1178; total time=   5.6s\n",
      "[CV] END criterion=absolute_error, max_depth=62, max_features=sqrt, min_samples_leaf=1, min_samples_split=2, n_estimators=1178; total time=   5.5s\n",
      "[CV] END criterion=absolute_error, max_depth=62, max_features=sqrt, min_samples_leaf=1, min_samples_split=2, n_estimators=1278; total time=   6.6s\n",
      "[CV] END criterion=absolute_error, max_depth=62, max_features=sqrt, min_samples_leaf=1, min_samples_split=2, n_estimators=1278; total time=   6.1s\n",
      "[CV] END criterion=absolute_error, max_depth=62, max_features=sqrt, min_samples_leaf=1, min_samples_split=2, n_estimators=1278; total time=   6.0s\n",
      "[CV] END criterion=absolute_error, max_depth=62, max_features=sqrt, min_samples_leaf=1, min_samples_split=2, n_estimators=1378; total time=   6.5s\n",
      "[CV] END criterion=absolute_error, max_depth=62, max_features=sqrt, min_samples_leaf=1, min_samples_split=2, n_estimators=1378; total time=   6.5s\n",
      "[CV] END criterion=absolute_error, max_depth=62, max_features=sqrt, min_samples_leaf=1, min_samples_split=2, n_estimators=1478; total time=   7.0s\n",
      "[CV] END criterion=absolute_error, max_depth=62, max_features=sqrt, min_samples_leaf=1, min_samples_split=2, n_estimators=1478; total time=   7.3s\n",
      "[CV] END criterion=absolute_error, max_depth=62, max_features=sqrt, min_samples_leaf=1, min_samples_split=2, n_estimators=1478; total time=   7.0s\n",
      "[CV] END criterion=absolute_error, max_depth=62, max_features=sqrt, min_samples_leaf=1, min_samples_split=2, n_estimators=1578; total time=   7.5s\n",
      "[CV] END criterion=absolute_error, max_depth=62, max_features=sqrt, min_samples_leaf=1, min_samples_split=2, n_estimators=1578; total time=   7.5s\n",
      "[CV] END criterion=absolute_error, max_depth=62, max_features=sqrt, min_samples_leaf=1, min_samples_split=2, n_estimators=1778; total time=   8.4s\n",
      "[CV] END criterion=absolute_error, max_depth=62, max_features=sqrt, min_samples_leaf=1, min_samples_split=2, n_estimators=1778; total time=   8.4s\n",
      "[CV] END criterion=absolute_error, max_depth=62, max_features=sqrt, min_samples_leaf=1, min_samples_split=2, n_estimators=1778; total time=   8.6s\n",
      "[CV] END criterion=absolute_error, max_depth=62, max_features=sqrt, min_samples_leaf=1, min_samples_split=2, n_estimators=1978; total time=   9.6s\n",
      "[CV] END criterion=absolute_error, max_depth=62, max_features=sqrt, min_samples_leaf=1, min_samples_split=2, n_estimators=1978; total time=   9.3s\n",
      "[CV] END criterion=absolute_error, max_depth=62, max_features=sqrt, min_samples_leaf=1, min_samples_split=2, n_estimators=2178; total time=  10.3s\n",
      "[CV] END criterion=absolute_error, max_depth=62, max_features=sqrt, min_samples_leaf=1, min_samples_split=2, n_estimators=2178; total time=  10.7s\n",
      "[CV] END criterion=absolute_error, max_depth=62, max_features=sqrt, min_samples_leaf=1, min_samples_split=2, n_estimators=2178; total time=  10.5s\n",
      "[CV] END criterion=absolute_error, max_depth=62, max_features=sqrt, min_samples_leaf=1, min_samples_split=4, n_estimators=1178; total time=   5.4s\n",
      "[CV] END criterion=absolute_error, max_depth=62, max_features=sqrt, min_samples_leaf=1, min_samples_split=4, n_estimators=1178; total time=   5.3s\n",
      "[CV] END criterion=absolute_error, max_depth=62, max_features=sqrt, min_samples_leaf=1, min_samples_split=4, n_estimators=1278; total time=   5.8s\n",
      "[CV] END criterion=absolute_error, max_depth=62, max_features=sqrt, min_samples_leaf=1, min_samples_split=4, n_estimators=1278; total time=   6.2s\n",
      "[CV] END criterion=absolute_error, max_depth=62, max_features=sqrt, min_samples_leaf=1, min_samples_split=4, n_estimators=1378; total time=   6.3s\n",
      "[CV] END criterion=absolute_error, max_depth=62, max_features=sqrt, min_samples_leaf=1, min_samples_split=4, n_estimators=1378; total time=   6.4s\n",
      "[CV] END criterion=absolute_error, max_depth=62, max_features=sqrt, min_samples_leaf=1, min_samples_split=4, n_estimators=1378; total time=   6.2s\n",
      "[CV] END criterion=absolute_error, max_depth=62, max_features=sqrt, min_samples_leaf=1, min_samples_split=4, n_estimators=1478; total time=   6.6s\n",
      "[CV] END criterion=absolute_error, max_depth=62, max_features=sqrt, min_samples_leaf=1, min_samples_split=4, n_estimators=1478; total time=   6.6s\n",
      "[CV] END criterion=absolute_error, max_depth=62, max_features=sqrt, min_samples_leaf=1, min_samples_split=4, n_estimators=1578; total time=   7.6s\n",
      "[CV] END criterion=absolute_error, max_depth=62, max_features=sqrt, min_samples_leaf=1, min_samples_split=4, n_estimators=1578; total time=   7.2s\n",
      "[CV] END criterion=absolute_error, max_depth=62, max_features=sqrt, min_samples_leaf=1, min_samples_split=4, n_estimators=1578; total time=   7.5s\n",
      "[CV] END criterion=absolute_error, max_depth=62, max_features=sqrt, min_samples_leaf=1, min_samples_split=4, n_estimators=1778; total time=   8.0s\n",
      "[CV] END criterion=absolute_error, max_depth=62, max_features=sqrt, min_samples_leaf=1, min_samples_split=4, n_estimators=1778; total time=   8.1s\n",
      "[CV] END criterion=absolute_error, max_depth=62, max_features=sqrt, min_samples_leaf=1, min_samples_split=4, n_estimators=1978; total time=   8.9s\n",
      "[CV] END criterion=absolute_error, max_depth=62, max_features=sqrt, min_samples_leaf=1, min_samples_split=4, n_estimators=1978; total time=   8.9s\n",
      "[CV] END criterion=absolute_error, max_depth=62, max_features=sqrt, min_samples_leaf=1, min_samples_split=4, n_estimators=1978; total time=   9.4s\n",
      "[CV] END criterion=absolute_error, max_depth=62, max_features=sqrt, min_samples_leaf=1, min_samples_split=4, n_estimators=2178; total time=   9.8s\n",
      "[CV] END criterion=absolute_error, max_depth=62, max_features=sqrt, min_samples_leaf=1, min_samples_split=4, n_estimators=2178; total time=   9.8s\n",
      "[CV] END criterion=absolute_error, max_depth=62, max_features=sqrt, min_samples_leaf=1, min_samples_split=5, n_estimators=1178; total time=   5.2s\n",
      "[CV] END criterion=absolute_error, max_depth=62, max_features=sqrt, min_samples_leaf=1, min_samples_split=5, n_estimators=1178; total time=   5.2s\n",
      "[CV] END criterion=absolute_error, max_depth=62, max_features=sqrt, min_samples_leaf=1, min_samples_split=5, n_estimators=1178; total time=   5.7s\n",
      "[CV] END criterion=absolute_error, max_depth=62, max_features=sqrt, min_samples_leaf=1, min_samples_split=5, n_estimators=1278; total time=   5.6s\n",
      "[CV] END criterion=absolute_error, max_depth=62, max_features=sqrt, min_samples_leaf=1, min_samples_split=5, n_estimators=1278; total time=   5.7s\n",
      "[CV] END criterion=absolute_error, max_depth=62, max_features=sqrt, min_samples_leaf=1, min_samples_split=5, n_estimators=1278; total time=   5.6s\n",
      "[CV] END criterion=absolute_error, max_depth=62, max_features=sqrt, min_samples_leaf=1, min_samples_split=5, n_estimators=1378; total time=   6.0s\n",
      "[CV] END criterion=absolute_error, max_depth=62, max_features=sqrt, min_samples_leaf=1, min_samples_split=5, n_estimators=1378; total time=   6.4s\n",
      "[CV] END criterion=absolute_error, max_depth=62, max_features=sqrt, min_samples_leaf=1, min_samples_split=5, n_estimators=1478; total time=   6.5s\n",
      "[CV] END criterion=absolute_error, max_depth=62, max_features=sqrt, min_samples_leaf=1, min_samples_split=5, n_estimators=1478; total time=   6.4s\n",
      "[CV] END criterion=absolute_error, max_depth=62, max_features=sqrt, min_samples_leaf=1, min_samples_split=5, n_estimators=1478; total time=   6.5s\n",
      "[CV] END criterion=absolute_error, max_depth=62, max_features=sqrt, min_samples_leaf=1, min_samples_split=5, n_estimators=1578; total time=   6.9s\n",
      "[CV] END criterion=absolute_error, max_depth=62, max_features=sqrt, min_samples_leaf=1, min_samples_split=5, n_estimators=1578; total time=   6.8s\n",
      "[CV] END criterion=absolute_error, max_depth=62, max_features=sqrt, min_samples_leaf=1, min_samples_split=5, n_estimators=1778; total time=   8.2s\n",
      "[CV] END criterion=absolute_error, max_depth=62, max_features=sqrt, min_samples_leaf=1, min_samples_split=3, n_estimators=2178; total time=  10.2s\n",
      "[CV] END criterion=absolute_error, max_depth=62, max_features=sqrt, min_samples_leaf=1, min_samples_split=2, n_estimators=1178; total time=   5.7s\n",
      "[CV] END criterion=absolute_error, max_depth=62, max_features=sqrt, min_samples_leaf=1, min_samples_split=2, n_estimators=1178; total time=   5.7s\n",
      "[CV] END criterion=absolute_error, max_depth=62, max_features=sqrt, min_samples_leaf=1, min_samples_split=2, n_estimators=1278; total time=   6.5s\n",
      "[CV] END criterion=absolute_error, max_depth=62, max_features=sqrt, min_samples_leaf=1, min_samples_split=2, n_estimators=1278; total time=   6.1s\n",
      "[CV] END criterion=absolute_error, max_depth=62, max_features=sqrt, min_samples_leaf=1, min_samples_split=2, n_estimators=1378; total time=   6.5s\n",
      "[CV] END criterion=absolute_error, max_depth=62, max_features=sqrt, min_samples_leaf=1, min_samples_split=2, n_estimators=1378; total time=   6.5s\n",
      "[CV] END criterion=absolute_error, max_depth=62, max_features=sqrt, min_samples_leaf=1, min_samples_split=2, n_estimators=1378; total time=   6.6s\n",
      "[CV] END criterion=absolute_error, max_depth=62, max_features=sqrt, min_samples_leaf=1, min_samples_split=2, n_estimators=1478; total time=   7.0s\n",
      "[CV] END criterion=absolute_error, max_depth=62, max_features=sqrt, min_samples_leaf=1, min_samples_split=2, n_estimators=1478; total time=   7.7s\n",
      "[CV] END criterion=absolute_error, max_depth=62, max_features=sqrt, min_samples_leaf=1, min_samples_split=2, n_estimators=1578; total time=   7.6s\n",
      "[CV] END criterion=absolute_error, max_depth=62, max_features=sqrt, min_samples_leaf=1, min_samples_split=2, n_estimators=1578; total time=   7.5s\n",
      "[CV] END criterion=absolute_error, max_depth=62, max_features=sqrt, min_samples_leaf=1, min_samples_split=2, n_estimators=1578; total time=   7.5s\n",
      "[CV] END criterion=absolute_error, max_depth=62, max_features=sqrt, min_samples_leaf=1, min_samples_split=2, n_estimators=1778; total time=   8.4s\n",
      "[CV] END criterion=absolute_error, max_depth=62, max_features=sqrt, min_samples_leaf=1, min_samples_split=2, n_estimators=1778; total time=   8.4s\n",
      "[CV] END criterion=absolute_error, max_depth=62, max_features=sqrt, min_samples_leaf=1, min_samples_split=2, n_estimators=1978; total time=  10.0s\n",
      "[CV] END criterion=absolute_error, max_depth=62, max_features=sqrt, min_samples_leaf=1, min_samples_split=2, n_estimators=1978; total time=   9.3s\n",
      "[CV] END criterion=absolute_error, max_depth=62, max_features=sqrt, min_samples_leaf=1, min_samples_split=2, n_estimators=1978; total time=   9.3s\n",
      "[CV] END criterion=absolute_error, max_depth=62, max_features=sqrt, min_samples_leaf=1, min_samples_split=2, n_estimators=2178; total time=  10.3s\n",
      "[CV] END criterion=absolute_error, max_depth=62, max_features=sqrt, min_samples_leaf=1, min_samples_split=2, n_estimators=2178; total time=  11.1s\n",
      "[CV] END criterion=absolute_error, max_depth=62, max_features=sqrt, min_samples_leaf=1, min_samples_split=4, n_estimators=1178; total time=   5.2s\n",
      "[CV] END criterion=absolute_error, max_depth=62, max_features=sqrt, min_samples_leaf=1, min_samples_split=4, n_estimators=1178; total time=   5.4s\n",
      "[CV] END criterion=absolute_error, max_depth=62, max_features=sqrt, min_samples_leaf=1, min_samples_split=4, n_estimators=1178; total time=   5.3s\n",
      "[CV] END criterion=absolute_error, max_depth=62, max_features=sqrt, min_samples_leaf=1, min_samples_split=4, n_estimators=1278; total time=   5.8s\n",
      "[CV] END criterion=absolute_error, max_depth=62, max_features=sqrt, min_samples_leaf=1, min_samples_split=4, n_estimators=1278; total time=   6.2s\n",
      "[CV] END criterion=absolute_error, max_depth=62, max_features=sqrt, min_samples_leaf=1, min_samples_split=4, n_estimators=1278; total time=   6.0s\n",
      "[CV] END criterion=absolute_error, max_depth=62, max_features=sqrt, min_samples_leaf=1, min_samples_split=4, n_estimators=1378; total time=   6.4s\n",
      "[CV] END criterion=absolute_error, max_depth=62, max_features=sqrt, min_samples_leaf=1, min_samples_split=4, n_estimators=1378; total time=   6.3s\n",
      "[CV] END criterion=absolute_error, max_depth=62, max_features=sqrt, min_samples_leaf=1, min_samples_split=4, n_estimators=1478; total time=   6.8s\n",
      "[CV] END criterion=absolute_error, max_depth=62, max_features=sqrt, min_samples_leaf=1, min_samples_split=4, n_estimators=1478; total time=   6.7s\n",
      "[CV] END criterion=absolute_error, max_depth=62, max_features=sqrt, min_samples_leaf=1, min_samples_split=4, n_estimators=1478; total time=   6.9s\n",
      "[CV] END criterion=absolute_error, max_depth=62, max_features=sqrt, min_samples_leaf=1, min_samples_split=4, n_estimators=1578; total time=   7.3s\n",
      "[CV] END criterion=absolute_error, max_depth=62, max_features=sqrt, min_samples_leaf=1, min_samples_split=4, n_estimators=1578; total time=   7.5s\n",
      "[CV] END criterion=absolute_error, max_depth=62, max_features=sqrt, min_samples_leaf=1, min_samples_split=4, n_estimators=1778; total time=   8.1s\n",
      "[CV] END criterion=absolute_error, max_depth=62, max_features=sqrt, min_samples_leaf=1, min_samples_split=4, n_estimators=1778; total time=   8.0s\n",
      "[CV] END criterion=absolute_error, max_depth=62, max_features=sqrt, min_samples_leaf=1, min_samples_split=4, n_estimators=1778; total time=   8.1s\n",
      "[CV] END criterion=absolute_error, max_depth=62, max_features=sqrt, min_samples_leaf=1, min_samples_split=4, n_estimators=1978; total time=   9.0s\n",
      "[CV] END criterion=absolute_error, max_depth=62, max_features=sqrt, min_samples_leaf=1, min_samples_split=4, n_estimators=1978; total time=   9.0s\n",
      "[CV] END criterion=absolute_error, max_depth=62, max_features=sqrt, min_samples_leaf=1, min_samples_split=4, n_estimators=2178; total time=  10.4s\n",
      "[CV] END criterion=absolute_error, max_depth=62, max_features=sqrt, min_samples_leaf=1, min_samples_split=4, n_estimators=2178; total time=  10.0s\n",
      "[CV] END criterion=absolute_error, max_depth=62, max_features=sqrt, min_samples_leaf=1, min_samples_split=4, n_estimators=2178; total time=  10.1s\n",
      "[CV] END criterion=absolute_error, max_depth=62, max_features=sqrt, min_samples_leaf=1, min_samples_split=5, n_estimators=1178; total time=   5.5s\n",
      "[CV] END criterion=absolute_error, max_depth=62, max_features=sqrt, min_samples_leaf=1, min_samples_split=5, n_estimators=1178; total time=   5.2s\n",
      "[CV] END criterion=absolute_error, max_depth=62, max_features=sqrt, min_samples_leaf=1, min_samples_split=5, n_estimators=1278; total time=   5.6s\n",
      "[CV] END criterion=absolute_error, max_depth=62, max_features=sqrt, min_samples_leaf=1, min_samples_split=5, n_estimators=1278; total time=   5.6s\n",
      "[CV] END criterion=absolute_error, max_depth=62, max_features=sqrt, min_samples_leaf=1, min_samples_split=5, n_estimators=1378; total time=   6.1s\n",
      "[CV] END criterion=absolute_error, max_depth=62, max_features=sqrt, min_samples_leaf=1, min_samples_split=5, n_estimators=1378; total time=   6.0s\n",
      "[CV] END criterion=absolute_error, max_depth=62, max_features=sqrt, min_samples_leaf=1, min_samples_split=5, n_estimators=1378; total time=   6.4s\n",
      "[CV] END criterion=absolute_error, max_depth=62, max_features=sqrt, min_samples_leaf=1, min_samples_split=5, n_estimators=1478; total time=   6.5s\n",
      "[CV] END criterion=absolute_error, max_depth=62, max_features=sqrt, min_samples_leaf=1, min_samples_split=5, n_estimators=1478; total time=   6.6s\n",
      "[CV] END criterion=absolute_error, max_depth=62, max_features=sqrt, min_samples_leaf=1, min_samples_split=5, n_estimators=1578; total time=   7.0s\n",
      "[CV] END criterion=absolute_error, max_depth=62, max_features=sqrt, min_samples_leaf=1, min_samples_split=5, n_estimators=1578; total time=   7.0s\n",
      "[CV] END criterion=absolute_error, max_depth=62, max_features=sqrt, min_samples_leaf=1, min_samples_split=5, n_estimators=1578; total time=   7.7s\n",
      "[CV] END criterion=absolute_error, max_depth=62, max_features=sqrt, min_samples_leaf=1, min_samples_split=5, n_estimators=1778; total time=   8.0s\n",
      "[CV] END criterion=absolute_error, max_depth=62, max_features=sqrt, min_samples_leaf=1, min_samples_split=5, n_estimators=1778; total time=   7.8s\n",
      "[CV] END criterion=absolute_error, max_depth=62, max_features=sqrt, min_samples_leaf=1, min_samples_split=5, n_estimators=1978; total time=   8.7s\n",
      "[CV] END criterion=absolute_error, max_depth=62, max_features=sqrt, min_samples_leaf=1, min_samples_split=2, n_estimators=1278; total time=   6.1s\n",
      "[CV] END criterion=absolute_error, max_depth=62, max_features=sqrt, min_samples_leaf=1, min_samples_split=2, n_estimators=1278; total time=   6.1s\n",
      "[CV] END criterion=absolute_error, max_depth=62, max_features=sqrt, min_samples_leaf=1, min_samples_split=2, n_estimators=1378; total time=   6.6s\n",
      "[CV] END criterion=absolute_error, max_depth=62, max_features=sqrt, min_samples_leaf=1, min_samples_split=2, n_estimators=1378; total time=   6.6s\n",
      "[CV] END criterion=absolute_error, max_depth=62, max_features=sqrt, min_samples_leaf=1, min_samples_split=2, n_estimators=1478; total time=   7.0s\n",
      "[CV] END criterion=absolute_error, max_depth=62, max_features=sqrt, min_samples_leaf=1, min_samples_split=2, n_estimators=1478; total time=   7.6s\n",
      "[CV] END criterion=absolute_error, max_depth=62, max_features=sqrt, min_samples_leaf=1, min_samples_split=2, n_estimators=1478; total time=   7.5s\n",
      "[CV] END criterion=absolute_error, max_depth=62, max_features=sqrt, min_samples_leaf=1, min_samples_split=2, n_estimators=1578; total time=   7.5s\n",
      "[CV] END criterion=absolute_error, max_depth=62, max_features=sqrt, min_samples_leaf=1, min_samples_split=2, n_estimators=1578; total time=   7.4s\n",
      "[CV] END criterion=absolute_error, max_depth=62, max_features=sqrt, min_samples_leaf=1, min_samples_split=2, n_estimators=1778; total time=   8.4s\n",
      "[CV] END criterion=absolute_error, max_depth=62, max_features=sqrt, min_samples_leaf=1, min_samples_split=2, n_estimators=1778; total time=   8.4s\n",
      "[CV] END criterion=absolute_error, max_depth=62, max_features=sqrt, min_samples_leaf=1, min_samples_split=2, n_estimators=1778; total time=   8.6s\n",
      "[CV] END criterion=absolute_error, max_depth=62, max_features=sqrt, min_samples_leaf=1, min_samples_split=2, n_estimators=1978; total time=   9.3s\n",
      "[CV] END criterion=absolute_error, max_depth=62, max_features=sqrt, min_samples_leaf=1, min_samples_split=2, n_estimators=1978; total time=   9.3s\n",
      "[CV] END criterion=absolute_error, max_depth=62, max_features=sqrt, min_samples_leaf=1, min_samples_split=2, n_estimators=2178; total time=  10.3s\n",
      "[CV] END criterion=absolute_error, max_depth=62, max_features=sqrt, min_samples_leaf=1, min_samples_split=2, n_estimators=2178; total time=  10.6s\n",
      "[CV] END criterion=absolute_error, max_depth=62, max_features=sqrt, min_samples_leaf=1, min_samples_split=2, n_estimators=2178; total time=  10.5s\n",
      "[CV] END criterion=absolute_error, max_depth=62, max_features=sqrt, min_samples_leaf=1, min_samples_split=4, n_estimators=1178; total time=   5.4s\n",
      "[CV] END criterion=absolute_error, max_depth=62, max_features=sqrt, min_samples_leaf=1, min_samples_split=4, n_estimators=1178; total time=   5.3s\n",
      "[CV] END criterion=absolute_error, max_depth=62, max_features=sqrt, min_samples_leaf=1, min_samples_split=4, n_estimators=1278; total time=   5.9s\n",
      "[CV] END criterion=absolute_error, max_depth=62, max_features=sqrt, min_samples_leaf=1, min_samples_split=4, n_estimators=1278; total time=   6.3s\n",
      "[CV] END criterion=absolute_error, max_depth=62, max_features=sqrt, min_samples_leaf=1, min_samples_split=4, n_estimators=1378; total time=   6.3s\n",
      "[CV] END criterion=absolute_error, max_depth=62, max_features=sqrt, min_samples_leaf=1, min_samples_split=4, n_estimators=1378; total time=   6.3s\n",
      "[CV] END criterion=absolute_error, max_depth=62, max_features=sqrt, min_samples_leaf=1, min_samples_split=4, n_estimators=1378; total time=   6.2s\n",
      "[CV] END criterion=absolute_error, max_depth=62, max_features=sqrt, min_samples_leaf=1, min_samples_split=4, n_estimators=1478; total time=   6.7s\n",
      "[CV] END criterion=absolute_error, max_depth=62, max_features=sqrt, min_samples_leaf=1, min_samples_split=4, n_estimators=1478; total time=   6.6s\n",
      "[CV] END criterion=absolute_error, max_depth=62, max_features=sqrt, min_samples_leaf=1, min_samples_split=4, n_estimators=1578; total time=   7.4s\n",
      "[CV] END criterion=absolute_error, max_depth=62, max_features=sqrt, min_samples_leaf=1, min_samples_split=4, n_estimators=1578; total time=   7.1s\n",
      "[CV] END criterion=absolute_error, max_depth=62, max_features=sqrt, min_samples_leaf=1, min_samples_split=4, n_estimators=1578; total time=   7.3s\n",
      "[CV] END criterion=absolute_error, max_depth=62, max_features=sqrt, min_samples_leaf=1, min_samples_split=4, n_estimators=1778; total time=   7.8s\n",
      "[CV] END criterion=absolute_error, max_depth=62, max_features=sqrt, min_samples_leaf=1, min_samples_split=4, n_estimators=1778; total time=   8.0s\n",
      "[CV] END criterion=absolute_error, max_depth=62, max_features=sqrt, min_samples_leaf=1, min_samples_split=4, n_estimators=1978; total time=   8.9s\n",
      "[CV] END criterion=absolute_error, max_depth=62, max_features=sqrt, min_samples_leaf=1, min_samples_split=4, n_estimators=1978; total time=   8.9s\n",
      "[CV] END criterion=absolute_error, max_depth=62, max_features=sqrt, min_samples_leaf=1, min_samples_split=4, n_estimators=1978; total time=   9.0s\n",
      "[CV] END criterion=absolute_error, max_depth=62, max_features=sqrt, min_samples_leaf=1, min_samples_split=4, n_estimators=2178; total time=   9.8s\n",
      "[CV] END criterion=absolute_error, max_depth=62, max_features=sqrt, min_samples_leaf=1, min_samples_split=4, n_estimators=2178; total time=   9.8s\n",
      "[CV] END criterion=absolute_error, max_depth=62, max_features=sqrt, min_samples_leaf=1, min_samples_split=5, n_estimators=1178; total time=   5.2s\n",
      "[CV] END criterion=absolute_error, max_depth=62, max_features=sqrt, min_samples_leaf=1, min_samples_split=5, n_estimators=1178; total time=   5.2s\n",
      "[CV] END criterion=absolute_error, max_depth=62, max_features=sqrt, min_samples_leaf=1, min_samples_split=5, n_estimators=1178; total time=   5.4s\n",
      "[CV] END criterion=absolute_error, max_depth=62, max_features=sqrt, min_samples_leaf=1, min_samples_split=5, n_estimators=1278; total time=   5.6s\n",
      "[CV] END criterion=absolute_error, max_depth=62, max_features=sqrt, min_samples_leaf=1, min_samples_split=5, n_estimators=1278; total time=   5.6s\n",
      "[CV] END criterion=absolute_error, max_depth=62, max_features=sqrt, min_samples_leaf=1, min_samples_split=5, n_estimators=1278; total time=   5.6s\n",
      "[CV] END criterion=absolute_error, max_depth=62, max_features=sqrt, min_samples_leaf=1, min_samples_split=5, n_estimators=1378; total time=   6.0s\n",
      "[CV] END criterion=absolute_error, max_depth=62, max_features=sqrt, min_samples_leaf=1, min_samples_split=5, n_estimators=1378; total time=   6.1s\n",
      "[CV] END criterion=absolute_error, max_depth=62, max_features=sqrt, min_samples_leaf=1, min_samples_split=5, n_estimators=1478; total time=   7.1s\n",
      "[CV] END criterion=absolute_error, max_depth=62, max_features=sqrt, min_samples_leaf=1, min_samples_split=5, n_estimators=1478; total time=   6.4s\n",
      "[CV] END criterion=absolute_error, max_depth=62, max_features=sqrt, min_samples_leaf=1, min_samples_split=5, n_estimators=1478; total time=   6.4s\n",
      "[CV] END criterion=absolute_error, max_depth=62, max_features=sqrt, min_samples_leaf=1, min_samples_split=5, n_estimators=1578; total time=   6.9s\n",
      "[CV] END criterion=absolute_error, max_depth=62, max_features=sqrt, min_samples_leaf=1, min_samples_split=5, n_estimators=1578; total time=   6.8s\n",
      "[CV] END criterion=absolute_error, max_depth=62, max_features=sqrt, min_samples_leaf=1, min_samples_split=5, n_estimators=1778; total time=   8.2s\n",
      "[CV] END criterion=absolute_error, max_depth=62, max_features=sqrt, min_samples_leaf=1, min_samples_split=5, n_estimators=1778; total time=   7.9s\n",
      "[CV] END criterion=absolute_error, max_depth=62, max_features=sqrt, min_samples_leaf=1, min_samples_split=5, n_estimators=1778; total time=   7.7s\n",
      "[CV] END criterion=absolute_error, max_depth=62, max_features=sqrt, min_samples_leaf=1, min_samples_split=5, n_estimators=1978; total time=   8.7s\n",
      "[CV] END criterion=absolute_error, max_depth=62, max_features=sqrt, min_samples_leaf=1, min_samples_split=5, n_estimators=1978; total time=   8.7s\n",
      "[CV] END criterion=absolute_error, max_depth=62, max_features=sqrt, min_samples_leaf=1, min_samples_split=5, n_estimators=2178; total time=  10.2s\n",
      "[CV] END criterion=absolute_error, max_depth=62, max_features=sqrt, min_samples_leaf=1, min_samples_split=5, n_estimators=2178; total time=   9.6s\n",
      "[CV] END criterion=absolute_error, max_depth=62, max_features=sqrt, min_samples_leaf=1, min_samples_split=5, n_estimators=1478; total time=   6.6s\n",
      "[CV] END criterion=absolute_error, max_depth=62, max_features=sqrt, min_samples_leaf=1, min_samples_split=5, n_estimators=1478; total time=   6.6s\n",
      "[CV] END criterion=absolute_error, max_depth=62, max_features=sqrt, min_samples_leaf=1, min_samples_split=5, n_estimators=1578; total time=   7.0s\n",
      "[CV] END criterion=absolute_error, max_depth=62, max_features=sqrt, min_samples_leaf=1, min_samples_split=5, n_estimators=1578; total time=   7.0s\n",
      "[CV] END criterion=absolute_error, max_depth=62, max_features=sqrt, min_samples_leaf=1, min_samples_split=5, n_estimators=1578; total time=   7.1s\n",
      "[CV] END criterion=absolute_error, max_depth=62, max_features=sqrt, min_samples_leaf=1, min_samples_split=5, n_estimators=1778; total time=   7.9s\n",
      "[CV] END criterion=absolute_error, max_depth=62, max_features=sqrt, min_samples_leaf=1, min_samples_split=5, n_estimators=1778; total time=   7.9s\n",
      "[CV] END criterion=absolute_error, max_depth=62, max_features=sqrt, min_samples_leaf=1, min_samples_split=5, n_estimators=1978; total time=   8.7s\n",
      "[CV] END criterion=absolute_error, max_depth=62, max_features=sqrt, min_samples_leaf=1, min_samples_split=5, n_estimators=1978; total time=   8.6s\n",
      "[CV] END criterion=absolute_error, max_depth=62, max_features=sqrt, min_samples_leaf=1, min_samples_split=5, n_estimators=1978; total time=   8.6s\n",
      "[CV] END criterion=absolute_error, max_depth=62, max_features=sqrt, min_samples_leaf=1, min_samples_split=5, n_estimators=2178; total time=  10.2s\n",
      "[CV] END criterion=absolute_error, max_depth=62, max_features=sqrt, min_samples_leaf=1, min_samples_split=5, n_estimators=2178; total time=   9.4s\n",
      "[CV] END criterion=absolute_error, max_depth=62, max_features=sqrt, min_samples_leaf=3, min_samples_split=6, n_estimators=1178; total time=   4.5s\n",
      "[CV] END criterion=absolute_error, max_depth=62, max_features=sqrt, min_samples_leaf=3, min_samples_split=6, n_estimators=1178; total time=   4.5s\n",
      "[CV] END criterion=absolute_error, max_depth=62, max_features=sqrt, min_samples_leaf=3, min_samples_split=6, n_estimators=1178; total time=   4.5s\n",
      "[CV] END criterion=absolute_error, max_depth=62, max_features=sqrt, min_samples_leaf=3, min_samples_split=6, n_estimators=1278; total time=   5.0s\n",
      "[CV] END criterion=absolute_error, max_depth=62, max_features=sqrt, min_samples_leaf=3, min_samples_split=6, n_estimators=1278; total time=   4.9s\n",
      "[CV] END criterion=absolute_error, max_depth=62, max_features=sqrt, min_samples_leaf=3, min_samples_split=6, n_estimators=1278; total time=   5.4s\n",
      "[CV] END criterion=absolute_error, max_depth=62, max_features=sqrt, min_samples_leaf=3, min_samples_split=6, n_estimators=1378; total time=   5.2s\n",
      "[CV] END criterion=absolute_error, max_depth=62, max_features=sqrt, min_samples_leaf=3, min_samples_split=6, n_estimators=1378; total time=   5.4s\n",
      "[CV] END criterion=absolute_error, max_depth=62, max_features=sqrt, min_samples_leaf=3, min_samples_split=6, n_estimators=1478; total time=   5.6s\n",
      "[CV] END criterion=absolute_error, max_depth=62, max_features=sqrt, min_samples_leaf=3, min_samples_split=6, n_estimators=1478; total time=   5.7s\n",
      "[CV] END criterion=absolute_error, max_depth=62, max_features=sqrt, min_samples_leaf=3, min_samples_split=6, n_estimators=1478; total time=   5.7s\n",
      "[CV] END criterion=absolute_error, max_depth=62, max_features=sqrt, min_samples_leaf=3, min_samples_split=6, n_estimators=1578; total time=   6.0s\n",
      "[CV] END criterion=absolute_error, max_depth=62, max_features=sqrt, min_samples_leaf=3, min_samples_split=6, n_estimators=1578; total time=   6.0s\n",
      "[CV] END criterion=absolute_error, max_depth=62, max_features=sqrt, min_samples_leaf=3, min_samples_split=6, n_estimators=1778; total time=   6.9s\n",
      "[CV] END criterion=absolute_error, max_depth=62, max_features=sqrt, min_samples_leaf=3, min_samples_split=6, n_estimators=1778; total time=   7.4s\n",
      "[CV] END criterion=absolute_error, max_depth=62, max_features=sqrt, min_samples_leaf=3, min_samples_split=6, n_estimators=1778; total time=   6.8s\n",
      "[CV] END criterion=absolute_error, max_depth=62, max_features=sqrt, min_samples_leaf=3, min_samples_split=6, n_estimators=1978; total time=   7.6s\n",
      "[CV] END criterion=absolute_error, max_depth=62, max_features=sqrt, min_samples_leaf=3, min_samples_split=6, n_estimators=1978; total time=   7.6s\n",
      "[CV] END criterion=absolute_error, max_depth=62, max_features=sqrt, min_samples_leaf=3, min_samples_split=6, n_estimators=2178; total time=   8.2s\n",
      "[CV] END criterion=absolute_error, max_depth=62, max_features=sqrt, min_samples_leaf=3, min_samples_split=6, n_estimators=2178; total time=   8.4s\n",
      "[CV] END criterion=absolute_error, max_depth=62, max_features=sqrt, min_samples_leaf=3, min_samples_split=6, n_estimators=2178; total time=   8.7s\n",
      "[CV] END criterion=absolute_error, max_depth=62, max_features=sqrt, min_samples_leaf=3, min_samples_split=3, n_estimators=1178; total time=   4.5s\n",
      "[CV] END criterion=absolute_error, max_depth=62, max_features=sqrt, min_samples_leaf=3, min_samples_split=3, n_estimators=1178; total time=   4.6s\n",
      "[CV] END criterion=absolute_error, max_depth=62, max_features=sqrt, min_samples_leaf=3, min_samples_split=3, n_estimators=1278; total time=   4.9s\n",
      "[CV] END criterion=absolute_error, max_depth=62, max_features=sqrt, min_samples_leaf=3, min_samples_split=3, n_estimators=1278; total time=   5.0s\n",
      "[CV] END criterion=absolute_error, max_depth=62, max_features=sqrt, min_samples_leaf=3, min_samples_split=3, n_estimators=1278; total time=   4.9s\n",
      "[CV] END criterion=absolute_error, max_depth=62, max_features=sqrt, min_samples_leaf=3, min_samples_split=3, n_estimators=1378; total time=   5.4s\n",
      "[CV] END criterion=absolute_error, max_depth=62, max_features=sqrt, min_samples_leaf=3, min_samples_split=3, n_estimators=1378; total time=   5.4s\n",
      "[CV] END criterion=absolute_error, max_depth=62, max_features=sqrt, min_samples_leaf=3, min_samples_split=3, n_estimators=1478; total time=   5.8s\n",
      "[CV] END criterion=absolute_error, max_depth=62, max_features=sqrt, min_samples_leaf=3, min_samples_split=3, n_estimators=1478; total time=   5.8s\n",
      "[CV] END criterion=absolute_error, max_depth=62, max_features=sqrt, min_samples_leaf=3, min_samples_split=3, n_estimators=1478; total time=   5.8s\n",
      "[CV] END criterion=absolute_error, max_depth=62, max_features=sqrt, min_samples_leaf=3, min_samples_split=3, n_estimators=1578; total time=   6.1s\n",
      "[CV] END criterion=absolute_error, max_depth=62, max_features=sqrt, min_samples_leaf=3, min_samples_split=3, n_estimators=1578; total time=   6.2s\n",
      "[CV] END criterion=absolute_error, max_depth=62, max_features=sqrt, min_samples_leaf=3, min_samples_split=3, n_estimators=1778; total time=   6.9s\n",
      "[CV] END criterion=absolute_error, max_depth=62, max_features=sqrt, min_samples_leaf=3, min_samples_split=3, n_estimators=1778; total time=   7.0s\n",
      "[CV] END criterion=absolute_error, max_depth=62, max_features=sqrt, min_samples_leaf=3, min_samples_split=3, n_estimators=1778; total time=   7.4s\n",
      "[CV] END criterion=absolute_error, max_depth=62, max_features=sqrt, min_samples_leaf=3, min_samples_split=3, n_estimators=1978; total time=   7.8s\n",
      "[CV] END criterion=absolute_error, max_depth=62, max_features=sqrt, min_samples_leaf=3, min_samples_split=3, n_estimators=1978; total time=   7.6s\n",
      "[CV] END criterion=absolute_error, max_depth=62, max_features=sqrt, min_samples_leaf=3, min_samples_split=3, n_estimators=2178; total time=   8.3s\n",
      "[CV] END criterion=absolute_error, max_depth=62, max_features=sqrt, min_samples_leaf=3, min_samples_split=3, n_estimators=2178; total time=   8.4s\n",
      "[CV] END criterion=absolute_error, max_depth=62, max_features=sqrt, min_samples_leaf=3, min_samples_split=3, n_estimators=2178; total time=   8.5s\n",
      "[CV] END criterion=absolute_error, max_depth=62, max_features=sqrt, min_samples_leaf=3, min_samples_split=2, n_estimators=1178; total time=   4.6s\n",
      "[CV] END criterion=absolute_error, max_depth=62, max_features=sqrt, min_samples_leaf=3, min_samples_split=2, n_estimators=1178; total time=   4.6s\n",
      "[CV] END criterion=absolute_error, max_depth=62, max_features=sqrt, min_samples_leaf=3, min_samples_split=2, n_estimators=1278; total time=   5.0s\n",
      "[CV] END criterion=absolute_error, max_depth=62, max_features=sqrt, min_samples_leaf=1, min_samples_split=5, n_estimators=1778; total time=   7.8s\n",
      "[CV] END criterion=absolute_error, max_depth=62, max_features=sqrt, min_samples_leaf=1, min_samples_split=5, n_estimators=1778; total time=   7.8s\n",
      "[CV] END criterion=absolute_error, max_depth=62, max_features=sqrt, min_samples_leaf=1, min_samples_split=5, n_estimators=1978; total time=   8.7s\n",
      "[CV] END criterion=absolute_error, max_depth=62, max_features=sqrt, min_samples_leaf=1, min_samples_split=5, n_estimators=1978; total time=   8.6s\n",
      "[CV] END criterion=absolute_error, max_depth=62, max_features=sqrt, min_samples_leaf=1, min_samples_split=5, n_estimators=2178; total time=  10.1s\n",
      "[CV] END criterion=absolute_error, max_depth=62, max_features=sqrt, min_samples_leaf=1, min_samples_split=5, n_estimators=2178; total time=   9.6s\n",
      "[CV] END criterion=absolute_error, max_depth=62, max_features=sqrt, min_samples_leaf=1, min_samples_split=5, n_estimators=2178; total time=   9.5s\n",
      "[CV] END criterion=absolute_error, max_depth=62, max_features=sqrt, min_samples_leaf=3, min_samples_split=6, n_estimators=1178; total time=   4.5s\n",
      "[CV] END criterion=absolute_error, max_depth=62, max_features=sqrt, min_samples_leaf=3, min_samples_split=6, n_estimators=1178; total time=   4.6s\n",
      "[CV] END criterion=absolute_error, max_depth=62, max_features=sqrt, min_samples_leaf=3, min_samples_split=6, n_estimators=1278; total time=   4.9s\n",
      "[CV] END criterion=absolute_error, max_depth=62, max_features=sqrt, min_samples_leaf=3, min_samples_split=6, n_estimators=1278; total time=   4.9s\n",
      "[CV] END criterion=absolute_error, max_depth=62, max_features=sqrt, min_samples_leaf=3, min_samples_split=6, n_estimators=1378; total time=   5.7s\n",
      "[CV] END criterion=absolute_error, max_depth=62, max_features=sqrt, min_samples_leaf=3, min_samples_split=6, n_estimators=1378; total time=   5.3s\n",
      "[CV] END criterion=absolute_error, max_depth=62, max_features=sqrt, min_samples_leaf=3, min_samples_split=6, n_estimators=1378; total time=   5.3s\n",
      "[CV] END criterion=absolute_error, max_depth=62, max_features=sqrt, min_samples_leaf=3, min_samples_split=6, n_estimators=1478; total time=   5.6s\n",
      "[CV] END criterion=absolute_error, max_depth=62, max_features=sqrt, min_samples_leaf=3, min_samples_split=6, n_estimators=1478; total time=   5.8s\n",
      "[CV] END criterion=absolute_error, max_depth=62, max_features=sqrt, min_samples_leaf=3, min_samples_split=6, n_estimators=1578; total time=   6.0s\n",
      "[CV] END criterion=absolute_error, max_depth=62, max_features=sqrt, min_samples_leaf=3, min_samples_split=6, n_estimators=1578; total time=   6.1s\n",
      "[CV] END criterion=absolute_error, max_depth=62, max_features=sqrt, min_samples_leaf=3, min_samples_split=6, n_estimators=1578; total time=   6.1s\n",
      "[CV] END criterion=absolute_error, max_depth=62, max_features=sqrt, min_samples_leaf=3, min_samples_split=6, n_estimators=1778; total time=   7.2s\n",
      "[CV] END criterion=absolute_error, max_depth=62, max_features=sqrt, min_samples_leaf=3, min_samples_split=6, n_estimators=1778; total time=   6.9s\n",
      "[CV] END criterion=absolute_error, max_depth=62, max_features=sqrt, min_samples_leaf=3, min_samples_split=6, n_estimators=1978; total time=   7.6s\n",
      "[CV] END criterion=absolute_error, max_depth=62, max_features=sqrt, min_samples_leaf=3, min_samples_split=6, n_estimators=1978; total time=   7.6s\n",
      "[CV] END criterion=absolute_error, max_depth=62, max_features=sqrt, min_samples_leaf=3, min_samples_split=6, n_estimators=1978; total time=   7.7s\n",
      "[CV] END criterion=absolute_error, max_depth=62, max_features=sqrt, min_samples_leaf=3, min_samples_split=6, n_estimators=2178; total time=   8.5s\n",
      "[CV] END criterion=absolute_error, max_depth=62, max_features=sqrt, min_samples_leaf=3, min_samples_split=6, n_estimators=2178; total time=   8.7s\n",
      "[CV] END criterion=absolute_error, max_depth=62, max_features=sqrt, min_samples_leaf=3, min_samples_split=3, n_estimators=1178; total time=   4.6s\n",
      "[CV] END criterion=absolute_error, max_depth=62, max_features=sqrt, min_samples_leaf=3, min_samples_split=3, n_estimators=1178; total time=   4.5s\n",
      "[CV] END criterion=absolute_error, max_depth=62, max_features=sqrt, min_samples_leaf=3, min_samples_split=3, n_estimators=1178; total time=   4.6s\n",
      "[CV] END criterion=absolute_error, max_depth=62, max_features=sqrt, min_samples_leaf=3, min_samples_split=3, n_estimators=1278; total time=   4.9s\n",
      "[CV] END criterion=absolute_error, max_depth=62, max_features=sqrt, min_samples_leaf=3, min_samples_split=3, n_estimators=1278; total time=   5.0s\n",
      "[CV] END criterion=absolute_error, max_depth=62, max_features=sqrt, min_samples_leaf=3, min_samples_split=3, n_estimators=1278; total time=   4.9s\n",
      "[CV] END criterion=absolute_error, max_depth=62, max_features=sqrt, min_samples_leaf=3, min_samples_split=3, n_estimators=1378; total time=   5.7s\n",
      "[CV] END criterion=absolute_error, max_depth=62, max_features=sqrt, min_samples_leaf=3, min_samples_split=3, n_estimators=1378; total time=   5.3s\n",
      "[CV] END criterion=absolute_error, max_depth=62, max_features=sqrt, min_samples_leaf=3, min_samples_split=3, n_estimators=1478; total time=   5.6s\n",
      "[CV] END criterion=absolute_error, max_depth=62, max_features=sqrt, min_samples_leaf=3, min_samples_split=3, n_estimators=1478; total time=   5.6s\n",
      "[CV] END criterion=absolute_error, max_depth=62, max_features=sqrt, min_samples_leaf=3, min_samples_split=3, n_estimators=1478; total time=   5.7s\n",
      "[CV] END criterion=absolute_error, max_depth=62, max_features=sqrt, min_samples_leaf=3, min_samples_split=3, n_estimators=1578; total time=   6.0s\n",
      "[CV] END criterion=absolute_error, max_depth=62, max_features=sqrt, min_samples_leaf=3, min_samples_split=3, n_estimators=1578; total time=   6.1s\n",
      "[CV] END criterion=absolute_error, max_depth=62, max_features=sqrt, min_samples_leaf=3, min_samples_split=3, n_estimators=1778; total time=   6.7s\n",
      "[CV] END criterion=absolute_error, max_depth=62, max_features=sqrt, min_samples_leaf=3, min_samples_split=3, n_estimators=1778; total time=   6.9s\n",
      "[CV] END criterion=absolute_error, max_depth=62, max_features=sqrt, min_samples_leaf=3, min_samples_split=3, n_estimators=1778; total time=   7.2s\n",
      "[CV] END criterion=absolute_error, max_depth=62, max_features=sqrt, min_samples_leaf=3, min_samples_split=3, n_estimators=1978; total time=   7.7s\n",
      "[CV] END criterion=absolute_error, max_depth=62, max_features=sqrt, min_samples_leaf=3, min_samples_split=3, n_estimators=1978; total time=   7.6s\n",
      "[CV] END criterion=absolute_error, max_depth=62, max_features=sqrt, min_samples_leaf=3, min_samples_split=3, n_estimators=2178; total time=   8.4s\n",
      "[CV] END criterion=absolute_error, max_depth=62, max_features=sqrt, min_samples_leaf=3, min_samples_split=3, n_estimators=2178; total time=   8.4s\n",
      "[CV] END criterion=absolute_error, max_depth=62, max_features=sqrt, min_samples_leaf=3, min_samples_split=3, n_estimators=2178; total time=   8.8s\n",
      "[CV] END criterion=absolute_error, max_depth=62, max_features=sqrt, min_samples_leaf=3, min_samples_split=2, n_estimators=1178; total time=   4.6s\n",
      "[CV] END criterion=absolute_error, max_depth=62, max_features=sqrt, min_samples_leaf=3, min_samples_split=2, n_estimators=1178; total time=   4.5s\n",
      "[CV] END criterion=absolute_error, max_depth=62, max_features=sqrt, min_samples_leaf=3, min_samples_split=2, n_estimators=1278; total time=   5.0s\n",
      "[CV] END criterion=absolute_error, max_depth=62, max_features=sqrt, min_samples_leaf=3, min_samples_split=2, n_estimators=1278; total time=   4.9s\n",
      "[CV] END criterion=absolute_error, max_depth=62, max_features=sqrt, min_samples_leaf=3, min_samples_split=2, n_estimators=1378; total time=   5.3s\n",
      "[CV] END criterion=absolute_error, max_depth=62, max_features=sqrt, min_samples_leaf=3, min_samples_split=2, n_estimators=1378; total time=   5.3s\n",
      "[CV] END criterion=absolute_error, max_depth=62, max_features=sqrt, min_samples_leaf=3, min_samples_split=2, n_estimators=1378; total time=   5.3s\n",
      "[CV] END criterion=absolute_error, max_depth=62, max_features=sqrt, min_samples_leaf=3, min_samples_split=2, n_estimators=1478; total time=   6.3s\n",
      "[CV] END criterion=absolute_error, max_depth=62, max_features=sqrt, min_samples_leaf=3, min_samples_split=2, n_estimators=1478; total time=   5.7s\n",
      "[CV] END criterion=absolute_error, max_depth=62, max_features=sqrt, min_samples_leaf=1, min_samples_split=5, n_estimators=1978; total time=   8.7s\n",
      "[CV] END criterion=absolute_error, max_depth=62, max_features=sqrt, min_samples_leaf=1, min_samples_split=5, n_estimators=1978; total time=   9.3s\n",
      "[CV] END criterion=absolute_error, max_depth=62, max_features=sqrt, min_samples_leaf=1, min_samples_split=5, n_estimators=2178; total time=   9.7s\n",
      "[CV] END criterion=absolute_error, max_depth=62, max_features=sqrt, min_samples_leaf=1, min_samples_split=5, n_estimators=2178; total time=   9.4s\n",
      "[CV] END criterion=absolute_error, max_depth=62, max_features=sqrt, min_samples_leaf=3, min_samples_split=6, n_estimators=1178; total time=   4.6s\n",
      "[CV] END criterion=absolute_error, max_depth=62, max_features=sqrt, min_samples_leaf=3, min_samples_split=6, n_estimators=1178; total time=   4.5s\n",
      "[CV] END criterion=absolute_error, max_depth=62, max_features=sqrt, min_samples_leaf=3, min_samples_split=6, n_estimators=1178; total time=   4.6s\n",
      "[CV] END criterion=absolute_error, max_depth=62, max_features=sqrt, min_samples_leaf=3, min_samples_split=6, n_estimators=1278; total time=   4.9s\n",
      "[CV] END criterion=absolute_error, max_depth=62, max_features=sqrt, min_samples_leaf=3, min_samples_split=6, n_estimators=1278; total time=   5.2s\n",
      "[CV] END criterion=absolute_error, max_depth=62, max_features=sqrt, min_samples_leaf=3, min_samples_split=6, n_estimators=1378; total time=   5.3s\n",
      "[CV] END criterion=absolute_error, max_depth=62, max_features=sqrt, min_samples_leaf=3, min_samples_split=6, n_estimators=1378; total time=   5.4s\n",
      "[CV] END criterion=absolute_error, max_depth=62, max_features=sqrt, min_samples_leaf=3, min_samples_split=6, n_estimators=1378; total time=   5.3s\n",
      "[CV] END criterion=absolute_error, max_depth=62, max_features=sqrt, min_samples_leaf=3, min_samples_split=6, n_estimators=1478; total time=   5.7s\n",
      "[CV] END criterion=absolute_error, max_depth=62, max_features=sqrt, min_samples_leaf=3, min_samples_split=6, n_estimators=1478; total time=   5.7s\n",
      "[CV] END criterion=absolute_error, max_depth=62, max_features=sqrt, min_samples_leaf=3, min_samples_split=6, n_estimators=1578; total time=   6.1s\n",
      "[CV] END criterion=absolute_error, max_depth=62, max_features=sqrt, min_samples_leaf=3, min_samples_split=6, n_estimators=1578; total time=   6.0s\n",
      "[CV] END criterion=absolute_error, max_depth=62, max_features=sqrt, min_samples_leaf=3, min_samples_split=6, n_estimators=1578; total time=   6.1s\n",
      "[CV] END criterion=absolute_error, max_depth=62, max_features=sqrt, min_samples_leaf=3, min_samples_split=6, n_estimators=1778; total time=   7.1s\n",
      "[CV] END criterion=absolute_error, max_depth=62, max_features=sqrt, min_samples_leaf=3, min_samples_split=6, n_estimators=1778; total time=   6.9s\n",
      "[CV] END criterion=absolute_error, max_depth=62, max_features=sqrt, min_samples_leaf=3, min_samples_split=6, n_estimators=1978; total time=   7.6s\n",
      "[CV] END criterion=absolute_error, max_depth=62, max_features=sqrt, min_samples_leaf=3, min_samples_split=6, n_estimators=1978; total time=   7.6s\n",
      "[CV] END criterion=absolute_error, max_depth=62, max_features=sqrt, min_samples_leaf=3, min_samples_split=6, n_estimators=1978; total time=   7.7s\n",
      "[CV] END criterion=absolute_error, max_depth=62, max_features=sqrt, min_samples_leaf=3, min_samples_split=6, n_estimators=2178; total time=   8.5s\n",
      "[CV] END criterion=absolute_error, max_depth=62, max_features=sqrt, min_samples_leaf=3, min_samples_split=6, n_estimators=2178; total time=   8.9s\n",
      "[CV] END criterion=absolute_error, max_depth=62, max_features=sqrt, min_samples_leaf=3, min_samples_split=3, n_estimators=1178; total time=   4.6s\n",
      "[CV] END criterion=absolute_error, max_depth=62, max_features=sqrt, min_samples_leaf=3, min_samples_split=3, n_estimators=1178; total time=   4.6s\n",
      "[CV] END criterion=absolute_error, max_depth=62, max_features=sqrt, min_samples_leaf=3, min_samples_split=3, n_estimators=1178; total time=   4.6s\n",
      "[CV] END criterion=absolute_error, max_depth=62, max_features=sqrt, min_samples_leaf=3, min_samples_split=3, n_estimators=1278; total time=   4.9s\n",
      "[CV] END criterion=absolute_error, max_depth=62, max_features=sqrt, min_samples_leaf=3, min_samples_split=3, n_estimators=1278; total time=   5.0s\n",
      "[CV] END criterion=absolute_error, max_depth=62, max_features=sqrt, min_samples_leaf=3, min_samples_split=3, n_estimators=1378; total time=   5.3s\n",
      "[CV] END criterion=absolute_error, max_depth=62, max_features=sqrt, min_samples_leaf=3, min_samples_split=3, n_estimators=1378; total time=   6.0s\n",
      "[CV] END criterion=absolute_error, max_depth=62, max_features=sqrt, min_samples_leaf=3, min_samples_split=3, n_estimators=1378; total time=   5.4s\n",
      "[CV] END criterion=absolute_error, max_depth=62, max_features=sqrt, min_samples_leaf=3, min_samples_split=3, n_estimators=1478; total time=   5.8s\n",
      "[CV] END criterion=absolute_error, max_depth=62, max_features=sqrt, min_samples_leaf=3, min_samples_split=3, n_estimators=1478; total time=   5.8s\n",
      "[CV] END criterion=absolute_error, max_depth=62, max_features=sqrt, min_samples_leaf=3, min_samples_split=3, n_estimators=1578; total time=   6.2s\n",
      "[CV] END criterion=absolute_error, max_depth=62, max_features=sqrt, min_samples_leaf=3, min_samples_split=3, n_estimators=1578; total time=   6.1s\n",
      "[CV] END criterion=absolute_error, max_depth=62, max_features=sqrt, min_samples_leaf=3, min_samples_split=3, n_estimators=1578; total time=   6.1s\n",
      "[CV] END criterion=absolute_error, max_depth=62, max_features=sqrt, min_samples_leaf=3, min_samples_split=3, n_estimators=1778; total time=   7.0s\n",
      "[CV] END criterion=absolute_error, max_depth=62, max_features=sqrt, min_samples_leaf=3, min_samples_split=3, n_estimators=1778; total time=   6.9s\n",
      "[CV] END criterion=absolute_error, max_depth=62, max_features=sqrt, min_samples_leaf=3, min_samples_split=3, n_estimators=1978; total time=   8.0s\n",
      "[CV] END criterion=absolute_error, max_depth=62, max_features=sqrt, min_samples_leaf=3, min_samples_split=3, n_estimators=1978; total time=   7.7s\n",
      "[CV] END criterion=absolute_error, max_depth=62, max_features=sqrt, min_samples_leaf=3, min_samples_split=3, n_estimators=1978; total time=   7.7s\n",
      "[CV] END criterion=absolute_error, max_depth=62, max_features=sqrt, min_samples_leaf=3, min_samples_split=3, n_estimators=2178; total time=   8.3s\n",
      "[CV] END criterion=absolute_error, max_depth=62, max_features=sqrt, min_samples_leaf=3, min_samples_split=3, n_estimators=2178; total time=   8.3s\n",
      "[CV] END criterion=absolute_error, max_depth=62, max_features=sqrt, min_samples_leaf=3, min_samples_split=2, n_estimators=1178; total time=   5.4s\n",
      "[CV] END criterion=absolute_error, max_depth=62, max_features=sqrt, min_samples_leaf=3, min_samples_split=2, n_estimators=1178; total time=   4.5s\n",
      "[CV] END criterion=absolute_error, max_depth=62, max_features=sqrt, min_samples_leaf=3, min_samples_split=2, n_estimators=1178; total time=   4.6s\n",
      "[CV] END criterion=absolute_error, max_depth=62, max_features=sqrt, min_samples_leaf=3, min_samples_split=2, n_estimators=1278; total time=   5.1s\n",
      "[CV] END criterion=absolute_error, max_depth=62, max_features=sqrt, min_samples_leaf=3, min_samples_split=2, n_estimators=1278; total time=   5.0s\n",
      "[CV] END criterion=absolute_error, max_depth=62, max_features=sqrt, min_samples_leaf=3, min_samples_split=2, n_estimators=1378; total time=   5.4s\n",
      "[CV] END criterion=absolute_error, max_depth=62, max_features=sqrt, min_samples_leaf=3, min_samples_split=2, n_estimators=1378; total time=   5.4s\n",
      "[CV] END criterion=absolute_error, max_depth=62, max_features=sqrt, min_samples_leaf=3, min_samples_split=2, n_estimators=1378; total time=   5.6s\n",
      "[CV] END criterion=absolute_error, max_depth=62, max_features=sqrt, min_samples_leaf=3, min_samples_split=2, n_estimators=1478; total time=   5.8s\n",
      "[CV] END criterion=absolute_error, max_depth=62, max_features=sqrt, min_samples_leaf=3, min_samples_split=2, n_estimators=1478; total time=   5.8s\n",
      "[CV] END criterion=absolute_error, max_depth=62, max_features=sqrt, min_samples_leaf=3, min_samples_split=2, n_estimators=1578; total time=   6.1s\n",
      "[CV] END criterion=absolute_error, max_depth=62, max_features=sqrt, min_samples_leaf=3, min_samples_split=2, n_estimators=1578; total time=   6.1s\n",
      "[CV] END criterion=absolute_error, max_depth=62, max_features=sqrt, min_samples_leaf=1, min_samples_split=5, n_estimators=2178; total time=   9.4s\n",
      "[CV] END criterion=absolute_error, max_depth=62, max_features=sqrt, min_samples_leaf=3, min_samples_split=6, n_estimators=1178; total time=   4.5s\n",
      "[CV] END criterion=absolute_error, max_depth=62, max_features=sqrt, min_samples_leaf=3, min_samples_split=6, n_estimators=1178; total time=   4.5s\n",
      "[CV] END criterion=absolute_error, max_depth=62, max_features=sqrt, min_samples_leaf=3, min_samples_split=6, n_estimators=1278; total time=   4.9s\n",
      "[CV] END criterion=absolute_error, max_depth=62, max_features=sqrt, min_samples_leaf=3, min_samples_split=6, n_estimators=1278; total time=   4.9s\n",
      "[CV] END criterion=absolute_error, max_depth=62, max_features=sqrt, min_samples_leaf=3, min_samples_split=6, n_estimators=1278; total time=   5.3s\n",
      "[CV] END criterion=absolute_error, max_depth=62, max_features=sqrt, min_samples_leaf=3, min_samples_split=6, n_estimators=1378; total time=   5.3s\n",
      "[CV] END criterion=absolute_error, max_depth=62, max_features=sqrt, min_samples_leaf=3, min_samples_split=6, n_estimators=1378; total time=   5.3s\n",
      "[CV] END criterion=absolute_error, max_depth=62, max_features=sqrt, min_samples_leaf=3, min_samples_split=6, n_estimators=1478; total time=   5.7s\n",
      "[CV] END criterion=absolute_error, max_depth=62, max_features=sqrt, min_samples_leaf=3, min_samples_split=6, n_estimators=1478; total time=   5.8s\n",
      "[CV] END criterion=absolute_error, max_depth=62, max_features=sqrt, min_samples_leaf=3, min_samples_split=6, n_estimators=1478; total time=   5.7s\n",
      "[CV] END criterion=absolute_error, max_depth=62, max_features=sqrt, min_samples_leaf=3, min_samples_split=6, n_estimators=1578; total time=   6.1s\n",
      "[CV] END criterion=absolute_error, max_depth=62, max_features=sqrt, min_samples_leaf=3, min_samples_split=6, n_estimators=1578; total time=   6.1s\n",
      "[CV] END criterion=absolute_error, max_depth=62, max_features=sqrt, min_samples_leaf=3, min_samples_split=6, n_estimators=1778; total time=   6.8s\n",
      "[CV] END criterion=absolute_error, max_depth=62, max_features=sqrt, min_samples_leaf=3, min_samples_split=6, n_estimators=1778; total time=   7.3s\n",
      "[CV] END criterion=absolute_error, max_depth=62, max_features=sqrt, min_samples_leaf=3, min_samples_split=6, n_estimators=1778; total time=   6.8s\n",
      "[CV] END criterion=absolute_error, max_depth=62, max_features=sqrt, min_samples_leaf=3, min_samples_split=6, n_estimators=1978; total time=   7.7s\n",
      "[CV] END criterion=absolute_error, max_depth=62, max_features=sqrt, min_samples_leaf=3, min_samples_split=6, n_estimators=1978; total time=   7.6s\n",
      "[CV] END criterion=absolute_error, max_depth=62, max_features=sqrt, min_samples_leaf=3, min_samples_split=6, n_estimators=2178; total time=   8.3s\n",
      "[CV] END criterion=absolute_error, max_depth=62, max_features=sqrt, min_samples_leaf=3, min_samples_split=6, n_estimators=2178; total time=   8.3s\n",
      "[CV] END criterion=absolute_error, max_depth=62, max_features=sqrt, min_samples_leaf=3, min_samples_split=6, n_estimators=2178; total time=   8.8s\n",
      "[CV] END criterion=absolute_error, max_depth=62, max_features=sqrt, min_samples_leaf=3, min_samples_split=3, n_estimators=1178; total time=   4.6s\n",
      "[CV] END criterion=absolute_error, max_depth=62, max_features=sqrt, min_samples_leaf=3, min_samples_split=3, n_estimators=1178; total time=   4.5s\n",
      "[CV] END criterion=absolute_error, max_depth=62, max_features=sqrt, min_samples_leaf=3, min_samples_split=3, n_estimators=1278; total time=   4.9s\n",
      "[CV] END criterion=absolute_error, max_depth=62, max_features=sqrt, min_samples_leaf=3, min_samples_split=3, n_estimators=1278; total time=   4.9s\n",
      "[CV] END criterion=absolute_error, max_depth=62, max_features=sqrt, min_samples_leaf=3, min_samples_split=3, n_estimators=1378; total time=   5.3s\n",
      "[CV] END criterion=absolute_error, max_depth=62, max_features=sqrt, min_samples_leaf=3, min_samples_split=3, n_estimators=1378; total time=   5.8s\n",
      "[CV] END criterion=absolute_error, max_depth=62, max_features=sqrt, min_samples_leaf=3, min_samples_split=3, n_estimators=1378; total time=   5.3s\n",
      "[CV] END criterion=absolute_error, max_depth=62, max_features=sqrt, min_samples_leaf=3, min_samples_split=3, n_estimators=1478; total time=   5.6s\n",
      "[CV] END criterion=absolute_error, max_depth=62, max_features=sqrt, min_samples_leaf=3, min_samples_split=3, n_estimators=1478; total time=   5.6s\n",
      "[CV] END criterion=absolute_error, max_depth=62, max_features=sqrt, min_samples_leaf=3, min_samples_split=3, n_estimators=1578; total time=   6.1s\n",
      "[CV] END criterion=absolute_error, max_depth=62, max_features=sqrt, min_samples_leaf=3, min_samples_split=3, n_estimators=1578; total time=   6.0s\n",
      "[CV] END criterion=absolute_error, max_depth=62, max_features=sqrt, min_samples_leaf=3, min_samples_split=3, n_estimators=1578; total time=   6.1s\n",
      "[CV] END criterion=absolute_error, max_depth=62, max_features=sqrt, min_samples_leaf=3, min_samples_split=3, n_estimators=1778; total time=   6.8s\n",
      "[CV] END criterion=absolute_error, max_depth=62, max_features=sqrt, min_samples_leaf=3, min_samples_split=3, n_estimators=1778; total time=   6.8s\n",
      "[CV] END criterion=absolute_error, max_depth=62, max_features=sqrt, min_samples_leaf=3, min_samples_split=3, n_estimators=1978; total time=   8.0s\n",
      "[CV] END criterion=absolute_error, max_depth=62, max_features=sqrt, min_samples_leaf=3, min_samples_split=3, n_estimators=1978; total time=   7.6s\n",
      "[CV] END criterion=absolute_error, max_depth=62, max_features=sqrt, min_samples_leaf=3, min_samples_split=3, n_estimators=1978; total time=   7.5s\n",
      "[CV] END criterion=absolute_error, max_depth=62, max_features=sqrt, min_samples_leaf=3, min_samples_split=3, n_estimators=2178; total time=   8.4s\n",
      "[CV] END criterion=absolute_error, max_depth=62, max_features=sqrt, min_samples_leaf=3, min_samples_split=3, n_estimators=2178; total time=   8.4s\n",
      "[CV] END criterion=absolute_error, max_depth=62, max_features=sqrt, min_samples_leaf=3, min_samples_split=2, n_estimators=1178; total time=   4.9s\n",
      "[CV] END criterion=absolute_error, max_depth=62, max_features=sqrt, min_samples_leaf=3, min_samples_split=2, n_estimators=1178; total time=   4.6s\n",
      "[CV] END criterion=absolute_error, max_depth=62, max_features=sqrt, min_samples_leaf=3, min_samples_split=2, n_estimators=1178; total time=   4.5s\n",
      "[CV] END criterion=absolute_error, max_depth=62, max_features=sqrt, min_samples_leaf=3, min_samples_split=2, n_estimators=1278; total time=   5.0s\n",
      "[CV] END criterion=absolute_error, max_depth=62, max_features=sqrt, min_samples_leaf=3, min_samples_split=2, n_estimators=1278; total time=   4.9s\n",
      "[CV] END criterion=absolute_error, max_depth=62, max_features=sqrt, min_samples_leaf=3, min_samples_split=2, n_estimators=1278; total time=   4.9s\n",
      "[CV] END criterion=absolute_error, max_depth=62, max_features=sqrt, min_samples_leaf=3, min_samples_split=2, n_estimators=1378; total time=   5.3s\n",
      "[CV] END criterion=absolute_error, max_depth=62, max_features=sqrt, min_samples_leaf=3, min_samples_split=2, n_estimators=1378; total time=   5.2s\n",
      "[CV] END criterion=absolute_error, max_depth=62, max_features=sqrt, min_samples_leaf=3, min_samples_split=2, n_estimators=1478; total time=   6.2s\n",
      "[CV] END criterion=absolute_error, max_depth=62, max_features=sqrt, min_samples_leaf=3, min_samples_split=2, n_estimators=1478; total time=   5.7s\n",
      "[CV] END criterion=absolute_error, max_depth=62, max_features=sqrt, min_samples_leaf=3, min_samples_split=2, n_estimators=1478; total time=   5.9s\n",
      "[CV] END criterion=absolute_error, max_depth=62, max_features=sqrt, min_samples_leaf=3, min_samples_split=2, n_estimators=1578; total time=   6.2s\n",
      "[CV] END criterion=absolute_error, max_depth=62, max_features=sqrt, min_samples_leaf=3, min_samples_split=2, n_estimators=1578; total time=   6.1s\n",
      "[CV] END criterion=absolute_error, max_depth=62, max_features=sqrt, min_samples_leaf=3, min_samples_split=2, n_estimators=1778; total time=   6.8s\n",
      "[CV] END criterion=absolute_error, max_depth=62, max_features=sqrt, min_samples_leaf=3, min_samples_split=2, n_estimators=1778; total time=   6.9s\n",
      "[CV] END criterion=absolute_error, max_depth=62, max_features=sqrt, min_samples_leaf=3, min_samples_split=2, n_estimators=1778; total time=   6.9s\n",
      "[CV] END criterion=absolute_error, max_depth=62, max_features=sqrt, min_samples_leaf=3, min_samples_split=2, n_estimators=1278; total time=   5.1s\n",
      "[CV] END criterion=absolute_error, max_depth=62, max_features=sqrt, min_samples_leaf=3, min_samples_split=2, n_estimators=1278; total time=   5.1s\n",
      "[CV] END criterion=absolute_error, max_depth=62, max_features=sqrt, min_samples_leaf=3, min_samples_split=2, n_estimators=1378; total time=   5.4s\n",
      "[CV] END criterion=absolute_error, max_depth=62, max_features=sqrt, min_samples_leaf=3, min_samples_split=2, n_estimators=1378; total time=   5.4s\n",
      "[CV] END criterion=absolute_error, max_depth=62, max_features=sqrt, min_samples_leaf=3, min_samples_split=2, n_estimators=1478; total time=   6.0s\n",
      "[CV] END criterion=absolute_error, max_depth=62, max_features=sqrt, min_samples_leaf=3, min_samples_split=2, n_estimators=1478; total time=   5.8s\n",
      "[CV] END criterion=absolute_error, max_depth=62, max_features=sqrt, min_samples_leaf=3, min_samples_split=2, n_estimators=1478; total time=   6.1s\n",
      "[CV] END criterion=absolute_error, max_depth=62, max_features=sqrt, min_samples_leaf=3, min_samples_split=2, n_estimators=1578; total time=   6.2s\n",
      "[CV] END criterion=absolute_error, max_depth=62, max_features=sqrt, min_samples_leaf=3, min_samples_split=2, n_estimators=1578; total time=   6.1s\n",
      "[CV] END criterion=absolute_error, max_depth=62, max_features=sqrt, min_samples_leaf=3, min_samples_split=2, n_estimators=1778; total time=   6.9s\n",
      "[CV] END criterion=absolute_error, max_depth=62, max_features=sqrt, min_samples_leaf=3, min_samples_split=2, n_estimators=1778; total time=   6.9s\n",
      "[CV] END criterion=absolute_error, max_depth=62, max_features=sqrt, min_samples_leaf=3, min_samples_split=2, n_estimators=1778; total time=   6.8s\n",
      "[CV] END criterion=absolute_error, max_depth=62, max_features=sqrt, min_samples_leaf=3, min_samples_split=2, n_estimators=1978; total time=   7.7s\n",
      "[CV] END criterion=absolute_error, max_depth=62, max_features=sqrt, min_samples_leaf=3, min_samples_split=2, n_estimators=1978; total time=   7.7s\n",
      "[CV] END criterion=absolute_error, max_depth=62, max_features=sqrt, min_samples_leaf=3, min_samples_split=2, n_estimators=2178; total time=   8.3s\n",
      "[CV] END criterion=absolute_error, max_depth=62, max_features=sqrt, min_samples_leaf=3, min_samples_split=2, n_estimators=2178; total time=   8.7s\n",
      "[CV] END criterion=absolute_error, max_depth=62, max_features=sqrt, min_samples_leaf=3, min_samples_split=2, n_estimators=2178; total time=   8.3s\n",
      "[CV] END criterion=absolute_error, max_depth=62, max_features=sqrt, min_samples_leaf=3, min_samples_split=4, n_estimators=1178; total time=   5.0s\n",
      "[CV] END criterion=absolute_error, max_depth=62, max_features=sqrt, min_samples_leaf=3, min_samples_split=4, n_estimators=1178; total time=   4.6s\n",
      "[CV] END criterion=absolute_error, max_depth=62, max_features=sqrt, min_samples_leaf=3, min_samples_split=4, n_estimators=1278; total time=   4.9s\n",
      "[CV] END criterion=absolute_error, max_depth=62, max_features=sqrt, min_samples_leaf=3, min_samples_split=4, n_estimators=1278; total time=   4.9s\n",
      "[CV] END criterion=absolute_error, max_depth=62, max_features=sqrt, min_samples_leaf=3, min_samples_split=4, n_estimators=1378; total time=   5.2s\n",
      "[CV] END criterion=absolute_error, max_depth=62, max_features=sqrt, min_samples_leaf=3, min_samples_split=4, n_estimators=1378; total time=   5.3s\n",
      "[CV] END criterion=absolute_error, max_depth=62, max_features=sqrt, min_samples_leaf=3, min_samples_split=4, n_estimators=1378; total time=   5.3s\n",
      "[CV] END criterion=absolute_error, max_depth=62, max_features=sqrt, min_samples_leaf=3, min_samples_split=4, n_estimators=1478; total time=   6.0s\n",
      "[CV] END criterion=absolute_error, max_depth=62, max_features=sqrt, min_samples_leaf=3, min_samples_split=4, n_estimators=1478; total time=   5.6s\n",
      "[CV] END criterion=absolute_error, max_depth=62, max_features=sqrt, min_samples_leaf=3, min_samples_split=4, n_estimators=1578; total time=   6.1s\n",
      "[CV] END criterion=absolute_error, max_depth=62, max_features=sqrt, min_samples_leaf=3, min_samples_split=4, n_estimators=1578; total time=   6.0s\n",
      "[CV] END criterion=absolute_error, max_depth=62, max_features=sqrt, min_samples_leaf=3, min_samples_split=4, n_estimators=1578; total time=   6.1s\n",
      "[CV] END criterion=absolute_error, max_depth=62, max_features=sqrt, min_samples_leaf=3, min_samples_split=4, n_estimators=1778; total time=   6.8s\n",
      "[CV] END criterion=absolute_error, max_depth=62, max_features=sqrt, min_samples_leaf=3, min_samples_split=4, n_estimators=1778; total time=   7.1s\n",
      "[CV] END criterion=absolute_error, max_depth=62, max_features=sqrt, min_samples_leaf=3, min_samples_split=4, n_estimators=1978; total time=   7.6s\n",
      "[CV] END criterion=absolute_error, max_depth=62, max_features=sqrt, min_samples_leaf=3, min_samples_split=4, n_estimators=1978; total time=   7.6s\n",
      "[CV] END criterion=absolute_error, max_depth=62, max_features=sqrt, min_samples_leaf=3, min_samples_split=4, n_estimators=1978; total time=   7.5s\n",
      "[CV] END criterion=absolute_error, max_depth=62, max_features=sqrt, min_samples_leaf=3, min_samples_split=4, n_estimators=2178; total time=   8.4s\n",
      "[CV] END criterion=absolute_error, max_depth=62, max_features=sqrt, min_samples_leaf=3, min_samples_split=4, n_estimators=2178; total time=   8.4s\n",
      "[CV] END criterion=absolute_error, max_depth=62, max_features=sqrt, min_samples_leaf=3, min_samples_split=5, n_estimators=1178; total time=   4.5s\n",
      "[CV] END criterion=absolute_error, max_depth=62, max_features=sqrt, min_samples_leaf=3, min_samples_split=5, n_estimators=1178; total time=   4.5s\n",
      "[CV] END criterion=absolute_error, max_depth=62, max_features=sqrt, min_samples_leaf=3, min_samples_split=5, n_estimators=1178; total time=   4.5s\n",
      "[CV] END criterion=absolute_error, max_depth=62, max_features=sqrt, min_samples_leaf=3, min_samples_split=5, n_estimators=1278; total time=   4.9s\n",
      "[CV] END criterion=absolute_error, max_depth=62, max_features=sqrt, min_samples_leaf=3, min_samples_split=5, n_estimators=1278; total time=   5.0s\n",
      "[CV] END criterion=absolute_error, max_depth=62, max_features=sqrt, min_samples_leaf=3, min_samples_split=5, n_estimators=1278; total time=   5.0s\n",
      "[CV] END criterion=absolute_error, max_depth=62, max_features=sqrt, min_samples_leaf=3, min_samples_split=5, n_estimators=1378; total time=   5.9s\n",
      "[CV] END criterion=absolute_error, max_depth=62, max_features=sqrt, min_samples_leaf=3, min_samples_split=5, n_estimators=1378; total time=   5.2s\n",
      "[CV] END criterion=absolute_error, max_depth=62, max_features=sqrt, min_samples_leaf=3, min_samples_split=5, n_estimators=1478; total time=   5.7s\n",
      "[CV] END criterion=absolute_error, max_depth=62, max_features=sqrt, min_samples_leaf=3, min_samples_split=5, n_estimators=1478; total time=   5.6s\n",
      "[CV] END criterion=absolute_error, max_depth=62, max_features=sqrt, min_samples_leaf=3, min_samples_split=5, n_estimators=1478; total time=   5.7s\n",
      "[CV] END criterion=absolute_error, max_depth=62, max_features=sqrt, min_samples_leaf=3, min_samples_split=5, n_estimators=1578; total time=   6.0s\n",
      "[CV] END criterion=absolute_error, max_depth=62, max_features=sqrt, min_samples_leaf=3, min_samples_split=5, n_estimators=1578; total time=   6.0s\n",
      "[CV] END criterion=absolute_error, max_depth=62, max_features=sqrt, min_samples_leaf=3, min_samples_split=5, n_estimators=1778; total time=   7.3s\n",
      "[CV] END criterion=absolute_error, max_depth=62, max_features=sqrt, min_samples_leaf=3, min_samples_split=5, n_estimators=1778; total time=   6.8s\n",
      "[CV] END criterion=absolute_error, max_depth=62, max_features=sqrt, min_samples_leaf=3, min_samples_split=5, n_estimators=1778; total time=   6.8s\n",
      "[CV] END criterion=absolute_error, max_depth=62, max_features=sqrt, min_samples_leaf=3, min_samples_split=5, n_estimators=1978; total time=   7.6s\n",
      "[CV] END criterion=absolute_error, max_depth=62, max_features=sqrt, min_samples_leaf=3, min_samples_split=5, n_estimators=1978; total time=   8.2s\n",
      "[CV] END criterion=absolute_error, max_depth=62, max_features=sqrt, min_samples_leaf=3, min_samples_split=5, n_estimators=2178; total time=   8.4s\n",
      "[CV] END criterion=absolute_error, max_depth=62, max_features=sqrt, min_samples_leaf=3, min_samples_split=5, n_estimators=2178; total time=   8.4s\n",
      "[CV] END criterion=absolute_error, max_depth=62, max_features=sqrt, min_samples_leaf=3, min_samples_split=2, n_estimators=1578; total time=   6.3s\n",
      "[CV] END criterion=absolute_error, max_depth=62, max_features=sqrt, min_samples_leaf=3, min_samples_split=2, n_estimators=1578; total time=   6.1s\n",
      "[CV] END criterion=absolute_error, max_depth=62, max_features=sqrt, min_samples_leaf=3, min_samples_split=2, n_estimators=1578; total time=   6.1s\n",
      "[CV] END criterion=absolute_error, max_depth=62, max_features=sqrt, min_samples_leaf=3, min_samples_split=2, n_estimators=1778; total time=   6.9s\n",
      "[CV] END criterion=absolute_error, max_depth=62, max_features=sqrt, min_samples_leaf=3, min_samples_split=2, n_estimators=1778; total time=   6.8s\n",
      "[CV] END criterion=absolute_error, max_depth=62, max_features=sqrt, min_samples_leaf=3, min_samples_split=2, n_estimators=1978; total time=   7.9s\n",
      "[CV] END criterion=absolute_error, max_depth=62, max_features=sqrt, min_samples_leaf=3, min_samples_split=2, n_estimators=1978; total time=   7.8s\n",
      "[CV] END criterion=absolute_error, max_depth=62, max_features=sqrt, min_samples_leaf=3, min_samples_split=2, n_estimators=1978; total time=   7.7s\n",
      "[CV] END criterion=absolute_error, max_depth=62, max_features=sqrt, min_samples_leaf=3, min_samples_split=2, n_estimators=2178; total time=   8.4s\n",
      "[CV] END criterion=absolute_error, max_depth=62, max_features=sqrt, min_samples_leaf=3, min_samples_split=2, n_estimators=2178; total time=   8.4s\n",
      "[CV] END criterion=absolute_error, max_depth=62, max_features=sqrt, min_samples_leaf=3, min_samples_split=4, n_estimators=1178; total time=   4.5s\n",
      "[CV] END criterion=absolute_error, max_depth=62, max_features=sqrt, min_samples_leaf=3, min_samples_split=4, n_estimators=1178; total time=   4.6s\n",
      "[CV] END criterion=absolute_error, max_depth=62, max_features=sqrt, min_samples_leaf=3, min_samples_split=4, n_estimators=1178; total time=   4.5s\n",
      "[CV] END criterion=absolute_error, max_depth=62, max_features=sqrt, min_samples_leaf=3, min_samples_split=4, n_estimators=1278; total time=   4.9s\n",
      "[CV] END criterion=absolute_error, max_depth=62, max_features=sqrt, min_samples_leaf=3, min_samples_split=4, n_estimators=1278; total time=   4.9s\n",
      "[CV] END criterion=absolute_error, max_depth=62, max_features=sqrt, min_samples_leaf=3, min_samples_split=4, n_estimators=1278; total time=   4.9s\n",
      "[CV] END criterion=absolute_error, max_depth=62, max_features=sqrt, min_samples_leaf=3, min_samples_split=4, n_estimators=1378; total time=   5.2s\n",
      "[CV] END criterion=absolute_error, max_depth=62, max_features=sqrt, min_samples_leaf=3, min_samples_split=4, n_estimators=1378; total time=   5.3s\n",
      "[CV] END criterion=absolute_error, max_depth=62, max_features=sqrt, min_samples_leaf=3, min_samples_split=4, n_estimators=1478; total time=   6.1s\n",
      "[CV] END criterion=absolute_error, max_depth=62, max_features=sqrt, min_samples_leaf=3, min_samples_split=4, n_estimators=1478; total time=   5.7s\n",
      "[CV] END criterion=absolute_error, max_depth=62, max_features=sqrt, min_samples_leaf=3, min_samples_split=4, n_estimators=1478; total time=   5.7s\n",
      "[CV] END criterion=absolute_error, max_depth=62, max_features=sqrt, min_samples_leaf=3, min_samples_split=4, n_estimators=1578; total time=   6.1s\n",
      "[CV] END criterion=absolute_error, max_depth=62, max_features=sqrt, min_samples_leaf=3, min_samples_split=4, n_estimators=1578; total time=   6.1s\n",
      "[CV] END criterion=absolute_error, max_depth=62, max_features=sqrt, min_samples_leaf=3, min_samples_split=4, n_estimators=1778; total time=   6.8s\n",
      "[CV] END criterion=absolute_error, max_depth=62, max_features=sqrt, min_samples_leaf=3, min_samples_split=4, n_estimators=1778; total time=   7.4s\n",
      "[CV] END criterion=absolute_error, max_depth=62, max_features=sqrt, min_samples_leaf=3, min_samples_split=4, n_estimators=1778; total time=   6.8s\n",
      "[CV] END criterion=absolute_error, max_depth=62, max_features=sqrt, min_samples_leaf=3, min_samples_split=4, n_estimators=1978; total time=   7.6s\n",
      "[CV] END criterion=absolute_error, max_depth=62, max_features=sqrt, min_samples_leaf=3, min_samples_split=4, n_estimators=1978; total time=   7.6s\n",
      "[CV] END criterion=absolute_error, max_depth=62, max_features=sqrt, min_samples_leaf=3, min_samples_split=4, n_estimators=2178; total time=   8.4s\n",
      "[CV] END criterion=absolute_error, max_depth=62, max_features=sqrt, min_samples_leaf=3, min_samples_split=4, n_estimators=2178; total time=   8.8s\n",
      "[CV] END criterion=absolute_error, max_depth=62, max_features=sqrt, min_samples_leaf=3, min_samples_split=4, n_estimators=2178; total time=   8.3s\n",
      "[CV] END criterion=absolute_error, max_depth=62, max_features=sqrt, min_samples_leaf=3, min_samples_split=5, n_estimators=1178; total time=   4.5s\n",
      "[CV] END criterion=absolute_error, max_depth=62, max_features=sqrt, min_samples_leaf=3, min_samples_split=5, n_estimators=1178; total time=   4.5s\n",
      "[CV] END criterion=absolute_error, max_depth=62, max_features=sqrt, min_samples_leaf=3, min_samples_split=5, n_estimators=1278; total time=   4.9s\n",
      "[CV] END criterion=absolute_error, max_depth=62, max_features=sqrt, min_samples_leaf=3, min_samples_split=5, n_estimators=1278; total time=   4.9s\n",
      "[CV] END criterion=absolute_error, max_depth=62, max_features=sqrt, min_samples_leaf=3, min_samples_split=5, n_estimators=1378; total time=   5.8s\n",
      "[CV] END criterion=absolute_error, max_depth=62, max_features=sqrt, min_samples_leaf=3, min_samples_split=5, n_estimators=1378; total time=   5.4s\n",
      "[CV] END criterion=absolute_error, max_depth=62, max_features=sqrt, min_samples_leaf=3, min_samples_split=5, n_estimators=1378; total time=   5.2s\n",
      "[CV] END criterion=absolute_error, max_depth=62, max_features=sqrt, min_samples_leaf=3, min_samples_split=5, n_estimators=1478; total time=   5.6s\n",
      "[CV] END criterion=absolute_error, max_depth=62, max_features=sqrt, min_samples_leaf=3, min_samples_split=5, n_estimators=1478; total time=   5.6s\n",
      "[CV] END criterion=absolute_error, max_depth=62, max_features=sqrt, min_samples_leaf=3, min_samples_split=5, n_estimators=1578; total time=   6.0s\n",
      "[CV] END criterion=absolute_error, max_depth=62, max_features=sqrt, min_samples_leaf=3, min_samples_split=5, n_estimators=1578; total time=   6.0s\n",
      "[CV] END criterion=absolute_error, max_depth=62, max_features=sqrt, min_samples_leaf=3, min_samples_split=5, n_estimators=1578; total time=   6.3s\n",
      "[CV] END criterion=absolute_error, max_depth=62, max_features=sqrt, min_samples_leaf=3, min_samples_split=5, n_estimators=1778; total time=   7.1s\n",
      "[CV] END criterion=absolute_error, max_depth=62, max_features=sqrt, min_samples_leaf=3, min_samples_split=5, n_estimators=1778; total time=   6.8s\n",
      "[CV] END criterion=absolute_error, max_depth=62, max_features=sqrt, min_samples_leaf=3, min_samples_split=5, n_estimators=1978; total time=   7.5s\n",
      "[CV] END criterion=absolute_error, max_depth=62, max_features=sqrt, min_samples_leaf=3, min_samples_split=5, n_estimators=1978; total time=   7.6s\n",
      "[CV] END criterion=absolute_error, max_depth=62, max_features=sqrt, min_samples_leaf=3, min_samples_split=5, n_estimators=1978; total time=   7.8s\n",
      "[CV] END criterion=absolute_error, max_depth=62, max_features=sqrt, min_samples_leaf=3, min_samples_split=5, n_estimators=2178; total time=   8.4s\n",
      "[CV] END criterion=absolute_error, max_depth=62, max_features=sqrt, min_samples_leaf=3, min_samples_split=5, n_estimators=2178; total time=   8.4s\n",
      "[CV] END criterion=absolute_error, max_depth=62, max_features=sqrt, min_samples_leaf=5, min_samples_split=6, n_estimators=1178; total time=   4.2s\n",
      "[CV] END criterion=absolute_error, max_depth=62, max_features=sqrt, min_samples_leaf=5, min_samples_split=6, n_estimators=1178; total time=   4.2s\n",
      "[CV] END criterion=absolute_error, max_depth=62, max_features=sqrt, min_samples_leaf=5, min_samples_split=6, n_estimators=1178; total time=   4.2s\n",
      "[CV] END criterion=absolute_error, max_depth=62, max_features=sqrt, min_samples_leaf=5, min_samples_split=6, n_estimators=1278; total time=   4.5s\n",
      "[CV] END criterion=absolute_error, max_depth=62, max_features=sqrt, min_samples_leaf=5, min_samples_split=6, n_estimators=1278; total time=   4.6s\n",
      "[CV] END criterion=absolute_error, max_depth=62, max_features=sqrt, min_samples_leaf=5, min_samples_split=6, n_estimators=1278; total time=   4.9s\n",
      "[CV] END criterion=absolute_error, max_depth=62, max_features=sqrt, min_samples_leaf=3, min_samples_split=2, n_estimators=1578; total time=   6.1s\n",
      "[CV] END criterion=absolute_error, max_depth=62, max_features=sqrt, min_samples_leaf=3, min_samples_split=2, n_estimators=1778; total time=   6.8s\n",
      "[CV] END criterion=absolute_error, max_depth=62, max_features=sqrt, min_samples_leaf=3, min_samples_split=2, n_estimators=1778; total time=   6.9s\n",
      "[CV] END criterion=absolute_error, max_depth=62, max_features=sqrt, min_samples_leaf=3, min_samples_split=2, n_estimators=1978; total time=   8.0s\n",
      "[CV] END criterion=absolute_error, max_depth=62, max_features=sqrt, min_samples_leaf=3, min_samples_split=2, n_estimators=1978; total time=   7.6s\n",
      "[CV] END criterion=absolute_error, max_depth=62, max_features=sqrt, min_samples_leaf=3, min_samples_split=2, n_estimators=1978; total time=   7.7s\n",
      "[CV] END criterion=absolute_error, max_depth=62, max_features=sqrt, min_samples_leaf=3, min_samples_split=2, n_estimators=2178; total time=   8.5s\n",
      "[CV] END criterion=absolute_error, max_depth=62, max_features=sqrt, min_samples_leaf=3, min_samples_split=2, n_estimators=2178; total time=   8.5s\n",
      "[CV] END criterion=absolute_error, max_depth=62, max_features=sqrt, min_samples_leaf=3, min_samples_split=4, n_estimators=1178; total time=   4.6s\n",
      "[CV] END criterion=absolute_error, max_depth=62, max_features=sqrt, min_samples_leaf=3, min_samples_split=4, n_estimators=1178; total time=   5.0s\n",
      "[CV] END criterion=absolute_error, max_depth=62, max_features=sqrt, min_samples_leaf=3, min_samples_split=4, n_estimators=1178; total time=   4.6s\n",
      "[CV] END criterion=absolute_error, max_depth=62, max_features=sqrt, min_samples_leaf=3, min_samples_split=4, n_estimators=1278; total time=   4.9s\n",
      "[CV] END criterion=absolute_error, max_depth=62, max_features=sqrt, min_samples_leaf=3, min_samples_split=4, n_estimators=1278; total time=   5.0s\n",
      "[CV] END criterion=absolute_error, max_depth=62, max_features=sqrt, min_samples_leaf=3, min_samples_split=4, n_estimators=1378; total time=   5.2s\n",
      "[CV] END criterion=absolute_error, max_depth=62, max_features=sqrt, min_samples_leaf=3, min_samples_split=4, n_estimators=1378; total time=   5.4s\n",
      "[CV] END criterion=absolute_error, max_depth=62, max_features=sqrt, min_samples_leaf=3, min_samples_split=4, n_estimators=1378; total time=   5.2s\n",
      "[CV] END criterion=absolute_error, max_depth=62, max_features=sqrt, min_samples_leaf=3, min_samples_split=4, n_estimators=1478; total time=   6.2s\n",
      "[CV] END criterion=absolute_error, max_depth=62, max_features=sqrt, min_samples_leaf=3, min_samples_split=4, n_estimators=1478; total time=   5.7s\n",
      "[CV] END criterion=absolute_error, max_depth=62, max_features=sqrt, min_samples_leaf=3, min_samples_split=4, n_estimators=1578; total time=   6.0s\n",
      "[CV] END criterion=absolute_error, max_depth=62, max_features=sqrt, min_samples_leaf=3, min_samples_split=4, n_estimators=1578; total time=   6.1s\n",
      "[CV] END criterion=absolute_error, max_depth=62, max_features=sqrt, min_samples_leaf=3, min_samples_split=4, n_estimators=1578; total time=   6.0s\n",
      "[CV] END criterion=absolute_error, max_depth=62, max_features=sqrt, min_samples_leaf=3, min_samples_split=4, n_estimators=1778; total time=   6.8s\n",
      "[CV] END criterion=absolute_error, max_depth=62, max_features=sqrt, min_samples_leaf=3, min_samples_split=4, n_estimators=1778; total time=   7.3s\n",
      "[CV] END criterion=absolute_error, max_depth=62, max_features=sqrt, min_samples_leaf=3, min_samples_split=4, n_estimators=1978; total time=   7.6s\n",
      "[CV] END criterion=absolute_error, max_depth=62, max_features=sqrt, min_samples_leaf=3, min_samples_split=4, n_estimators=1978; total time=   7.5s\n",
      "[CV] END criterion=absolute_error, max_depth=62, max_features=sqrt, min_samples_leaf=3, min_samples_split=4, n_estimators=1978; total time=   7.6s\n",
      "[CV] END criterion=absolute_error, max_depth=62, max_features=sqrt, min_samples_leaf=3, min_samples_split=4, n_estimators=2178; total time=   8.2s\n",
      "[CV] END criterion=absolute_error, max_depth=62, max_features=sqrt, min_samples_leaf=3, min_samples_split=4, n_estimators=2178; total time=   8.9s\n",
      "[CV] END criterion=absolute_error, max_depth=62, max_features=sqrt, min_samples_leaf=3, min_samples_split=5, n_estimators=1178; total time=   4.5s\n",
      "[CV] END criterion=absolute_error, max_depth=62, max_features=sqrt, min_samples_leaf=3, min_samples_split=5, n_estimators=1178; total time=   4.5s\n",
      "[CV] END criterion=absolute_error, max_depth=62, max_features=sqrt, min_samples_leaf=3, min_samples_split=5, n_estimators=1178; total time=   4.5s\n",
      "[CV] END criterion=absolute_error, max_depth=62, max_features=sqrt, min_samples_leaf=3, min_samples_split=5, n_estimators=1278; total time=   4.8s\n",
      "[CV] END criterion=absolute_error, max_depth=62, max_features=sqrt, min_samples_leaf=3, min_samples_split=5, n_estimators=1278; total time=   4.9s\n",
      "[CV] END criterion=absolute_error, max_depth=62, max_features=sqrt, min_samples_leaf=3, min_samples_split=5, n_estimators=1278; total time=   4.9s\n",
      "[CV] END criterion=absolute_error, max_depth=62, max_features=sqrt, min_samples_leaf=3, min_samples_split=5, n_estimators=1378; total time=   5.9s\n",
      "[CV] END criterion=absolute_error, max_depth=62, max_features=sqrt, min_samples_leaf=3, min_samples_split=5, n_estimators=1378; total time=   5.2s\n",
      "[CV] END criterion=absolute_error, max_depth=62, max_features=sqrt, min_samples_leaf=3, min_samples_split=5, n_estimators=1478; total time=   5.7s\n",
      "[CV] END criterion=absolute_error, max_depth=62, max_features=sqrt, min_samples_leaf=3, min_samples_split=5, n_estimators=1478; total time=   5.6s\n",
      "[CV] END criterion=absolute_error, max_depth=62, max_features=sqrt, min_samples_leaf=3, min_samples_split=5, n_estimators=1478; total time=   5.6s\n",
      "[CV] END criterion=absolute_error, max_depth=62, max_features=sqrt, min_samples_leaf=3, min_samples_split=5, n_estimators=1578; total time=   6.0s\n",
      "[CV] END criterion=absolute_error, max_depth=62, max_features=sqrt, min_samples_leaf=3, min_samples_split=5, n_estimators=1578; total time=   6.0s\n",
      "[CV] END criterion=absolute_error, max_depth=62, max_features=sqrt, min_samples_leaf=3, min_samples_split=5, n_estimators=1778; total time=   7.2s\n",
      "[CV] END criterion=absolute_error, max_depth=62, max_features=sqrt, min_samples_leaf=3, min_samples_split=5, n_estimators=1778; total time=   6.7s\n",
      "[CV] END criterion=absolute_error, max_depth=62, max_features=sqrt, min_samples_leaf=3, min_samples_split=5, n_estimators=1778; total time=   6.9s\n",
      "[CV] END criterion=absolute_error, max_depth=62, max_features=sqrt, min_samples_leaf=3, min_samples_split=5, n_estimators=1978; total time=   7.5s\n",
      "[CV] END criterion=absolute_error, max_depth=62, max_features=sqrt, min_samples_leaf=3, min_samples_split=5, n_estimators=1978; total time=   8.6s\n",
      "[CV] END criterion=absolute_error, max_depth=62, max_features=sqrt, min_samples_leaf=3, min_samples_split=5, n_estimators=2178; total time=   8.5s\n",
      "[CV] END criterion=absolute_error, max_depth=62, max_features=sqrt, min_samples_leaf=3, min_samples_split=5, n_estimators=2178; total time=   8.4s\n",
      "[CV] END criterion=absolute_error, max_depth=62, max_features=sqrt, min_samples_leaf=3, min_samples_split=5, n_estimators=2178; total time=   8.4s\n",
      "[CV] END criterion=absolute_error, max_depth=62, max_features=sqrt, min_samples_leaf=5, min_samples_split=6, n_estimators=1178; total time=   4.2s\n",
      "[CV] END criterion=absolute_error, max_depth=62, max_features=sqrt, min_samples_leaf=5, min_samples_split=6, n_estimators=1178; total time=   4.1s\n",
      "[CV] END criterion=absolute_error, max_depth=62, max_features=sqrt, min_samples_leaf=5, min_samples_split=6, n_estimators=1278; total time=   4.7s\n",
      "[CV] END criterion=absolute_error, max_depth=62, max_features=sqrt, min_samples_leaf=5, min_samples_split=6, n_estimators=1278; total time=   5.1s\n",
      "[CV] END criterion=absolute_error, max_depth=62, max_features=sqrt, min_samples_leaf=5, min_samples_split=6, n_estimators=1378; total time=   5.0s\n",
      "[CV] END criterion=absolute_error, max_depth=62, max_features=sqrt, min_samples_leaf=5, min_samples_split=6, n_estimators=1378; total time=   5.0s\n",
      "[CV] END criterion=absolute_error, max_depth=62, max_features=sqrt, min_samples_leaf=5, min_samples_split=6, n_estimators=1378; total time=   5.0s\n",
      "[CV] END criterion=absolute_error, max_depth=62, max_features=sqrt, min_samples_leaf=3, min_samples_split=2, n_estimators=1978; total time=   8.1s\n",
      "[CV] END criterion=absolute_error, max_depth=62, max_features=sqrt, min_samples_leaf=3, min_samples_split=2, n_estimators=1978; total time=   7.6s\n",
      "[CV] END criterion=absolute_error, max_depth=62, max_features=sqrt, min_samples_leaf=3, min_samples_split=2, n_estimators=2178; total time=   8.4s\n",
      "[CV] END criterion=absolute_error, max_depth=62, max_features=sqrt, min_samples_leaf=3, min_samples_split=2, n_estimators=2178; total time=   8.6s\n",
      "[CV] END criterion=absolute_error, max_depth=62, max_features=sqrt, min_samples_leaf=3, min_samples_split=2, n_estimators=2178; total time=   8.4s\n",
      "[CV] END criterion=absolute_error, max_depth=62, max_features=sqrt, min_samples_leaf=3, min_samples_split=4, n_estimators=1178; total time=   5.0s\n",
      "[CV] END criterion=absolute_error, max_depth=62, max_features=sqrt, min_samples_leaf=3, min_samples_split=4, n_estimators=1178; total time=   4.6s\n",
      "[CV] END criterion=absolute_error, max_depth=62, max_features=sqrt, min_samples_leaf=3, min_samples_split=4, n_estimators=1278; total time=   4.9s\n",
      "[CV] END criterion=absolute_error, max_depth=62, max_features=sqrt, min_samples_leaf=3, min_samples_split=4, n_estimators=1278; total time=   4.9s\n",
      "[CV] END criterion=absolute_error, max_depth=62, max_features=sqrt, min_samples_leaf=3, min_samples_split=4, n_estimators=1278; total time=   4.9s\n",
      "[CV] END criterion=absolute_error, max_depth=62, max_features=sqrt, min_samples_leaf=3, min_samples_split=4, n_estimators=1378; total time=   5.2s\n",
      "[CV] END criterion=absolute_error, max_depth=62, max_features=sqrt, min_samples_leaf=3, min_samples_split=4, n_estimators=1378; total time=   5.3s\n",
      "[CV] END criterion=absolute_error, max_depth=62, max_features=sqrt, min_samples_leaf=3, min_samples_split=4, n_estimators=1478; total time=   6.0s\n",
      "[CV] END criterion=absolute_error, max_depth=62, max_features=sqrt, min_samples_leaf=3, min_samples_split=4, n_estimators=1478; total time=   5.7s\n",
      "[CV] END criterion=absolute_error, max_depth=62, max_features=sqrt, min_samples_leaf=3, min_samples_split=4, n_estimators=1478; total time=   5.7s\n",
      "[CV] END criterion=absolute_error, max_depth=62, max_features=sqrt, min_samples_leaf=3, min_samples_split=4, n_estimators=1578; total time=   6.1s\n",
      "[CV] END criterion=absolute_error, max_depth=62, max_features=sqrt, min_samples_leaf=3, min_samples_split=4, n_estimators=1578; total time=   6.0s\n",
      "[CV] END criterion=absolute_error, max_depth=62, max_features=sqrt, min_samples_leaf=3, min_samples_split=4, n_estimators=1778; total time=   6.8s\n",
      "[CV] END criterion=absolute_error, max_depth=62, max_features=sqrt, min_samples_leaf=3, min_samples_split=4, n_estimators=1778; total time=   7.2s\n",
      "[CV] END criterion=absolute_error, max_depth=62, max_features=sqrt, min_samples_leaf=3, min_samples_split=4, n_estimators=1778; total time=   6.9s\n",
      "[CV] END criterion=absolute_error, max_depth=62, max_features=sqrt, min_samples_leaf=3, min_samples_split=4, n_estimators=1978; total time=   7.5s\n",
      "[CV] END criterion=absolute_error, max_depth=62, max_features=sqrt, min_samples_leaf=3, min_samples_split=4, n_estimators=1978; total time=   7.5s\n",
      "[CV] END criterion=absolute_error, max_depth=62, max_features=sqrt, min_samples_leaf=3, min_samples_split=4, n_estimators=2178; total time=   8.3s\n",
      "[CV] END criterion=absolute_error, max_depth=62, max_features=sqrt, min_samples_leaf=3, min_samples_split=4, n_estimators=2178; total time=   8.6s\n",
      "[CV] END criterion=absolute_error, max_depth=62, max_features=sqrt, min_samples_leaf=3, min_samples_split=4, n_estimators=2178; total time=   8.4s\n",
      "[CV] END criterion=absolute_error, max_depth=62, max_features=sqrt, min_samples_leaf=3, min_samples_split=5, n_estimators=1178; total time=   4.5s\n",
      "[CV] END criterion=absolute_error, max_depth=62, max_features=sqrt, min_samples_leaf=3, min_samples_split=5, n_estimators=1178; total time=   4.5s\n",
      "[CV] END criterion=absolute_error, max_depth=62, max_features=sqrt, min_samples_leaf=3, min_samples_split=5, n_estimators=1278; total time=   4.9s\n",
      "[CV] END criterion=absolute_error, max_depth=62, max_features=sqrt, min_samples_leaf=3, min_samples_split=5, n_estimators=1278; total time=   5.0s\n",
      "[CV] END criterion=absolute_error, max_depth=62, max_features=sqrt, min_samples_leaf=3, min_samples_split=5, n_estimators=1378; total time=   5.8s\n",
      "[CV] END criterion=absolute_error, max_depth=62, max_features=sqrt, min_samples_leaf=3, min_samples_split=5, n_estimators=1378; total time=   5.7s\n",
      "[CV] END criterion=absolute_error, max_depth=62, max_features=sqrt, min_samples_leaf=3, min_samples_split=5, n_estimators=1378; total time=   5.3s\n",
      "[CV] END criterion=absolute_error, max_depth=62, max_features=sqrt, min_samples_leaf=3, min_samples_split=5, n_estimators=1478; total time=   5.7s\n",
      "[CV] END criterion=absolute_error, max_depth=62, max_features=sqrt, min_samples_leaf=3, min_samples_split=5, n_estimators=1478; total time=   5.6s\n",
      "[CV] END criterion=absolute_error, max_depth=62, max_features=sqrt, min_samples_leaf=3, min_samples_split=5, n_estimators=1578; total time=   6.1s\n",
      "[CV] END criterion=absolute_error, max_depth=62, max_features=sqrt, min_samples_leaf=3, min_samples_split=5, n_estimators=1578; total time=   6.0s\n",
      "[CV] END criterion=absolute_error, max_depth=62, max_features=sqrt, min_samples_leaf=3, min_samples_split=5, n_estimators=1578; total time=   6.7s\n",
      "[CV] END criterion=absolute_error, max_depth=62, max_features=sqrt, min_samples_leaf=3, min_samples_split=5, n_estimators=1778; total time=   7.0s\n",
      "[CV] END criterion=absolute_error, max_depth=62, max_features=sqrt, min_samples_leaf=3, min_samples_split=5, n_estimators=1778; total time=   6.8s\n",
      "[CV] END criterion=absolute_error, max_depth=62, max_features=sqrt, min_samples_leaf=3, min_samples_split=5, n_estimators=1978; total time=   7.6s\n",
      "[CV] END criterion=absolute_error, max_depth=62, max_features=sqrt, min_samples_leaf=3, min_samples_split=5, n_estimators=1978; total time=   7.6s\n",
      "[CV] END criterion=absolute_error, max_depth=62, max_features=sqrt, min_samples_leaf=3, min_samples_split=5, n_estimators=1978; total time=   8.1s\n",
      "[CV] END criterion=absolute_error, max_depth=62, max_features=sqrt, min_samples_leaf=3, min_samples_split=5, n_estimators=2178; total time=   8.3s\n",
      "[CV] END criterion=absolute_error, max_depth=62, max_features=sqrt, min_samples_leaf=3, min_samples_split=5, n_estimators=2178; total time=   8.3s\n",
      "[CV] END criterion=absolute_error, max_depth=62, max_features=sqrt, min_samples_leaf=5, min_samples_split=6, n_estimators=1178; total time=   4.1s\n",
      "[CV] END criterion=absolute_error, max_depth=62, max_features=sqrt, min_samples_leaf=5, min_samples_split=6, n_estimators=1178; total time=   4.3s\n",
      "[CV] END criterion=absolute_error, max_depth=62, max_features=sqrt, min_samples_leaf=5, min_samples_split=6, n_estimators=1178; total time=   4.2s\n",
      "[CV] END criterion=absolute_error, max_depth=62, max_features=sqrt, min_samples_leaf=5, min_samples_split=6, n_estimators=1278; total time=   4.6s\n",
      "[CV] END criterion=absolute_error, max_depth=62, max_features=sqrt, min_samples_leaf=5, min_samples_split=6, n_estimators=1278; total time=   4.6s\n",
      "[CV] END criterion=absolute_error, max_depth=62, max_features=sqrt, min_samples_leaf=5, min_samples_split=6, n_estimators=1278; total time=   4.6s\n",
      "[CV] END criterion=absolute_error, max_depth=62, max_features=sqrt, min_samples_leaf=5, min_samples_split=6, n_estimators=1378; total time=   5.2s\n",
      "[CV] END criterion=absolute_error, max_depth=62, max_features=sqrt, min_samples_leaf=5, min_samples_split=6, n_estimators=1378; total time=   4.9s\n",
      "[CV] END criterion=absolute_error, max_depth=62, max_features=sqrt, min_samples_leaf=5, min_samples_split=6, n_estimators=1478; total time=   5.3s\n",
      "[CV] END criterion=absolute_error, max_depth=62, max_features=sqrt, min_samples_leaf=5, min_samples_split=6, n_estimators=1478; total time=   5.3s\n",
      "[CV] END criterion=absolute_error, max_depth=62, max_features=sqrt, min_samples_leaf=5, min_samples_split=6, n_estimators=1478; total time=   5.3s\n",
      "[CV] END criterion=absolute_error, max_depth=62, max_features=sqrt, min_samples_leaf=5, min_samples_split=6, n_estimators=1578; total time=   5.6s\n",
      "[CV] END criterion=absolute_error, max_depth=62, max_features=sqrt, min_samples_leaf=3, min_samples_split=5, n_estimators=2178; total time=   8.4s\n",
      "[CV] END criterion=absolute_error, max_depth=62, max_features=sqrt, min_samples_leaf=5, min_samples_split=6, n_estimators=1178; total time=   4.2s\n",
      "[CV] END criterion=absolute_error, max_depth=62, max_features=sqrt, min_samples_leaf=5, min_samples_split=6, n_estimators=1178; total time=   4.2s\n",
      "[CV] END criterion=absolute_error, max_depth=62, max_features=sqrt, min_samples_leaf=5, min_samples_split=6, n_estimators=1278; total time=   4.7s\n",
      "[CV] END criterion=absolute_error, max_depth=62, max_features=sqrt, min_samples_leaf=5, min_samples_split=6, n_estimators=1278; total time=   5.0s\n",
      "[CV] END criterion=absolute_error, max_depth=62, max_features=sqrt, min_samples_leaf=5, min_samples_split=6, n_estimators=1378; total time=   5.2s\n",
      "[CV] END criterion=absolute_error, max_depth=62, max_features=sqrt, min_samples_leaf=5, min_samples_split=6, n_estimators=1378; total time=   5.0s\n",
      "[CV] END criterion=absolute_error, max_depth=62, max_features=sqrt, min_samples_leaf=5, min_samples_split=6, n_estimators=1378; total time=   4.9s\n",
      "[CV] END criterion=absolute_error, max_depth=62, max_features=sqrt, min_samples_leaf=5, min_samples_split=6, n_estimators=1478; total time=   5.2s\n",
      "[CV] END criterion=absolute_error, max_depth=62, max_features=sqrt, min_samples_leaf=5, min_samples_split=6, n_estimators=1478; total time=   5.3s\n",
      "[CV] END criterion=absolute_error, max_depth=62, max_features=sqrt, min_samples_leaf=5, min_samples_split=6, n_estimators=1578; total time=   5.6s\n",
      "[CV] END criterion=absolute_error, max_depth=62, max_features=sqrt, min_samples_leaf=5, min_samples_split=6, n_estimators=1578; total time=   5.7s\n",
      "[CV] END criterion=absolute_error, max_depth=62, max_features=sqrt, min_samples_leaf=5, min_samples_split=6, n_estimators=1578; total time=   6.0s\n",
      "[CV] END criterion=absolute_error, max_depth=62, max_features=sqrt, min_samples_leaf=5, min_samples_split=6, n_estimators=1778; total time=   6.4s\n",
      "[CV] END criterion=absolute_error, max_depth=62, max_features=sqrt, min_samples_leaf=5, min_samples_split=6, n_estimators=1778; total time=   6.3s\n",
      "[CV] END criterion=absolute_error, max_depth=62, max_features=sqrt, min_samples_leaf=5, min_samples_split=6, n_estimators=1978; total time=   7.3s\n",
      "[CV] END criterion=absolute_error, max_depth=62, max_features=sqrt, min_samples_leaf=5, min_samples_split=6, n_estimators=1978; total time=   7.1s\n",
      "[CV] END criterion=absolute_error, max_depth=62, max_features=sqrt, min_samples_leaf=5, min_samples_split=6, n_estimators=1978; total time=   7.0s\n",
      "[CV] END criterion=absolute_error, max_depth=62, max_features=sqrt, min_samples_leaf=5, min_samples_split=6, n_estimators=2178; total time=   8.0s\n",
      "[CV] END criterion=absolute_error, max_depth=62, max_features=sqrt, min_samples_leaf=5, min_samples_split=6, n_estimators=2178; total time=   7.8s\n",
      "[CV] END criterion=absolute_error, max_depth=62, max_features=sqrt, min_samples_leaf=5, min_samples_split=3, n_estimators=1178; total time=   4.1s\n",
      "[CV] END criterion=absolute_error, max_depth=62, max_features=sqrt, min_samples_leaf=5, min_samples_split=3, n_estimators=1178; total time=   4.2s\n",
      "[CV] END criterion=absolute_error, max_depth=62, max_features=sqrt, min_samples_leaf=5, min_samples_split=3, n_estimators=1178; total time=   4.4s\n",
      "[CV] END criterion=absolute_error, max_depth=62, max_features=sqrt, min_samples_leaf=5, min_samples_split=3, n_estimators=1278; total time=   4.5s\n",
      "[CV] END criterion=absolute_error, max_depth=62, max_features=sqrt, min_samples_leaf=5, min_samples_split=3, n_estimators=1278; total time=   4.6s\n",
      "[CV] END criterion=absolute_error, max_depth=62, max_features=sqrt, min_samples_leaf=5, min_samples_split=3, n_estimators=1278; total time=   4.5s\n",
      "[CV] END criterion=absolute_error, max_depth=62, max_features=sqrt, min_samples_leaf=5, min_samples_split=3, n_estimators=1378; total time=   4.9s\n",
      "[CV] END criterion=absolute_error, max_depth=62, max_features=sqrt, min_samples_leaf=5, min_samples_split=3, n_estimators=1378; total time=   5.6s\n",
      "[CV] END criterion=absolute_error, max_depth=62, max_features=sqrt, min_samples_leaf=5, min_samples_split=3, n_estimators=1478; total time=   5.4s\n",
      "[CV] END criterion=absolute_error, max_depth=62, max_features=sqrt, min_samples_leaf=5, min_samples_split=3, n_estimators=1478; total time=   5.2s\n",
      "[CV] END criterion=absolute_error, max_depth=62, max_features=sqrt, min_samples_leaf=5, min_samples_split=3, n_estimators=1478; total time=   5.3s\n",
      "[CV] END criterion=absolute_error, max_depth=62, max_features=sqrt, min_samples_leaf=5, min_samples_split=3, n_estimators=1578; total time=   5.7s\n",
      "[CV] END criterion=absolute_error, max_depth=62, max_features=sqrt, min_samples_leaf=5, min_samples_split=3, n_estimators=1578; total time=   5.6s\n",
      "[CV] END criterion=absolute_error, max_depth=62, max_features=sqrt, min_samples_leaf=5, min_samples_split=3, n_estimators=1778; total time=   6.3s\n",
      "[CV] END criterion=absolute_error, max_depth=62, max_features=sqrt, min_samples_leaf=5, min_samples_split=3, n_estimators=1778; total time=   7.0s\n",
      "[CV] END criterion=absolute_error, max_depth=62, max_features=sqrt, min_samples_leaf=5, min_samples_split=3, n_estimators=1778; total time=   6.6s\n",
      "[CV] END criterion=absolute_error, max_depth=62, max_features=sqrt, min_samples_leaf=5, min_samples_split=3, n_estimators=1978; total time=   7.1s\n",
      "[CV] END criterion=absolute_error, max_depth=62, max_features=sqrt, min_samples_leaf=5, min_samples_split=3, n_estimators=1978; total time=   7.3s\n",
      "[CV] END criterion=absolute_error, max_depth=62, max_features=sqrt, min_samples_leaf=5, min_samples_split=3, n_estimators=2178; total time=   7.9s\n",
      "[CV] END criterion=absolute_error, max_depth=62, max_features=sqrt, min_samples_leaf=5, min_samples_split=3, n_estimators=2178; total time=   7.9s\n",
      "[CV] END criterion=absolute_error, max_depth=62, max_features=sqrt, min_samples_leaf=5, min_samples_split=3, n_estimators=2178; total time=   8.3s\n",
      "[CV] END criterion=absolute_error, max_depth=62, max_features=sqrt, min_samples_leaf=5, min_samples_split=2, n_estimators=1178; total time=   4.3s\n",
      "[CV] END criterion=absolute_error, max_depth=62, max_features=sqrt, min_samples_leaf=5, min_samples_split=2, n_estimators=1178; total time=   4.3s\n",
      "[CV] END criterion=absolute_error, max_depth=62, max_features=sqrt, min_samples_leaf=5, min_samples_split=2, n_estimators=1278; total time=   4.6s\n",
      "[CV] END criterion=absolute_error, max_depth=62, max_features=sqrt, min_samples_leaf=5, min_samples_split=2, n_estimators=1278; total time=   4.6s\n",
      "[CV] END criterion=absolute_error, max_depth=62, max_features=sqrt, min_samples_leaf=5, min_samples_split=2, n_estimators=1378; total time=   5.1s\n",
      "[CV] END criterion=absolute_error, max_depth=62, max_features=sqrt, min_samples_leaf=5, min_samples_split=2, n_estimators=1378; total time=   5.0s\n",
      "[CV] END criterion=absolute_error, max_depth=62, max_features=sqrt, min_samples_leaf=5, min_samples_split=2, n_estimators=1378; total time=   5.0s\n",
      "[CV] END criterion=absolute_error, max_depth=62, max_features=sqrt, min_samples_leaf=5, min_samples_split=2, n_estimators=1478; total time=   5.3s\n",
      "[CV] END criterion=absolute_error, max_depth=62, max_features=sqrt, min_samples_leaf=5, min_samples_split=2, n_estimators=1478; total time=   5.4s\n",
      "[CV] END criterion=absolute_error, max_depth=62, max_features=sqrt, min_samples_leaf=5, min_samples_split=2, n_estimators=1578; total time=   5.9s\n",
      "[CV] END criterion=absolute_error, max_depth=62, max_features=sqrt, min_samples_leaf=5, min_samples_split=2, n_estimators=1578; total time=   5.7s\n",
      "[CV] END criterion=absolute_error, max_depth=62, max_features=sqrt, min_samples_leaf=5, min_samples_split=2, n_estimators=1578; total time=   5.6s\n",
      "[CV] END criterion=absolute_error, max_depth=62, max_features=sqrt, min_samples_leaf=5, min_samples_split=2, n_estimators=1778; total time=   6.4s\n",
      "[CV] END criterion=absolute_error, max_depth=62, max_features=sqrt, min_samples_leaf=5, min_samples_split=2, n_estimators=1778; total time=   6.3s\n",
      "[CV] END criterion=absolute_error, max_depth=62, max_features=sqrt, min_samples_leaf=5, min_samples_split=2, n_estimators=1978; total time=   7.0s\n",
      "[CV] END criterion=absolute_error, max_depth=62, max_features=sqrt, min_samples_leaf=5, min_samples_split=6, n_estimators=1378; total time=   5.2s\n",
      "[CV] END criterion=absolute_error, max_depth=62, max_features=sqrt, min_samples_leaf=5, min_samples_split=6, n_estimators=1378; total time=   4.9s\n",
      "[CV] END criterion=absolute_error, max_depth=62, max_features=sqrt, min_samples_leaf=5, min_samples_split=6, n_estimators=1478; total time=   5.3s\n",
      "[CV] END criterion=absolute_error, max_depth=62, max_features=sqrt, min_samples_leaf=5, min_samples_split=6, n_estimators=1478; total time=   5.3s\n",
      "[CV] END criterion=absolute_error, max_depth=62, max_features=sqrt, min_samples_leaf=5, min_samples_split=6, n_estimators=1478; total time=   5.3s\n",
      "[CV] END criterion=absolute_error, max_depth=62, max_features=sqrt, min_samples_leaf=5, min_samples_split=6, n_estimators=1578; total time=   5.6s\n",
      "[CV] END criterion=absolute_error, max_depth=62, max_features=sqrt, min_samples_leaf=5, min_samples_split=6, n_estimators=1578; total time=   6.0s\n",
      "[CV] END criterion=absolute_error, max_depth=62, max_features=sqrt, min_samples_leaf=5, min_samples_split=6, n_estimators=1778; total time=   6.3s\n",
      "[CV] END criterion=absolute_error, max_depth=62, max_features=sqrt, min_samples_leaf=5, min_samples_split=6, n_estimators=1778; total time=   6.4s\n",
      "[CV] END criterion=absolute_error, max_depth=62, max_features=sqrt, min_samples_leaf=5, min_samples_split=6, n_estimators=1778; total time=   6.4s\n",
      "[CV] END criterion=absolute_error, max_depth=62, max_features=sqrt, min_samples_leaf=5, min_samples_split=6, n_estimators=1978; total time=   7.4s\n",
      "[CV] END criterion=absolute_error, max_depth=62, max_features=sqrt, min_samples_leaf=5, min_samples_split=6, n_estimators=1978; total time=   7.1s\n",
      "[CV] END criterion=absolute_error, max_depth=62, max_features=sqrt, min_samples_leaf=5, min_samples_split=6, n_estimators=2178; total time=   7.8s\n",
      "[CV] END criterion=absolute_error, max_depth=62, max_features=sqrt, min_samples_leaf=5, min_samples_split=6, n_estimators=2178; total time=   8.1s\n",
      "[CV] END criterion=absolute_error, max_depth=62, max_features=sqrt, min_samples_leaf=5, min_samples_split=6, n_estimators=2178; total time=   7.8s\n",
      "[CV] END criterion=absolute_error, max_depth=62, max_features=sqrt, min_samples_leaf=5, min_samples_split=3, n_estimators=1178; total time=   4.2s\n",
      "[CV] END criterion=absolute_error, max_depth=62, max_features=sqrt, min_samples_leaf=5, min_samples_split=3, n_estimators=1178; total time=   4.5s\n",
      "[CV] END criterion=absolute_error, max_depth=62, max_features=sqrt, min_samples_leaf=5, min_samples_split=3, n_estimators=1278; total time=   4.5s\n",
      "[CV] END criterion=absolute_error, max_depth=62, max_features=sqrt, min_samples_leaf=5, min_samples_split=3, n_estimators=1278; total time=   4.6s\n",
      "[CV] END criterion=absolute_error, max_depth=62, max_features=sqrt, min_samples_leaf=5, min_samples_split=3, n_estimators=1278; total time=   4.5s\n",
      "[CV] END criterion=absolute_error, max_depth=62, max_features=sqrt, min_samples_leaf=5, min_samples_split=3, n_estimators=1378; total time=   4.9s\n",
      "[CV] END criterion=absolute_error, max_depth=62, max_features=sqrt, min_samples_leaf=5, min_samples_split=3, n_estimators=1378; total time=   5.1s\n",
      "[CV] END criterion=absolute_error, max_depth=62, max_features=sqrt, min_samples_leaf=5, min_samples_split=3, n_estimators=1478; total time=   5.5s\n",
      "[CV] END criterion=absolute_error, max_depth=62, max_features=sqrt, min_samples_leaf=5, min_samples_split=3, n_estimators=1478; total time=   5.3s\n",
      "[CV] END criterion=absolute_error, max_depth=62, max_features=sqrt, min_samples_leaf=5, min_samples_split=3, n_estimators=1478; total time=   5.3s\n",
      "[CV] END criterion=absolute_error, max_depth=62, max_features=sqrt, min_samples_leaf=5, min_samples_split=3, n_estimators=1578; total time=   5.7s\n",
      "[CV] END criterion=absolute_error, max_depth=62, max_features=sqrt, min_samples_leaf=5, min_samples_split=3, n_estimators=1578; total time=   5.6s\n",
      "[CV] END criterion=absolute_error, max_depth=62, max_features=sqrt, min_samples_leaf=5, min_samples_split=3, n_estimators=1778; total time=   6.4s\n",
      "[CV] END criterion=absolute_error, max_depth=62, max_features=sqrt, min_samples_leaf=5, min_samples_split=3, n_estimators=1778; total time=   6.6s\n",
      "[CV] END criterion=absolute_error, max_depth=62, max_features=sqrt, min_samples_leaf=5, min_samples_split=3, n_estimators=1778; total time=   6.7s\n",
      "[CV] END criterion=absolute_error, max_depth=62, max_features=sqrt, min_samples_leaf=5, min_samples_split=3, n_estimators=1978; total time=   7.1s\n",
      "[CV] END criterion=absolute_error, max_depth=62, max_features=sqrt, min_samples_leaf=5, min_samples_split=3, n_estimators=1978; total time=   7.1s\n",
      "[CV] END criterion=absolute_error, max_depth=62, max_features=sqrt, min_samples_leaf=5, min_samples_split=3, n_estimators=2178; total time=   7.8s\n",
      "[CV] END criterion=absolute_error, max_depth=62, max_features=sqrt, min_samples_leaf=5, min_samples_split=3, n_estimators=2178; total time=   7.8s\n",
      "[CV] END criterion=absolute_error, max_depth=62, max_features=sqrt, min_samples_leaf=5, min_samples_split=3, n_estimators=2178; total time=   8.3s\n",
      "[CV] END criterion=absolute_error, max_depth=62, max_features=sqrt, min_samples_leaf=5, min_samples_split=2, n_estimators=1178; total time=   4.7s\n",
      "[CV] END criterion=absolute_error, max_depth=62, max_features=sqrt, min_samples_leaf=5, min_samples_split=2, n_estimators=1178; total time=   4.2s\n",
      "[CV] END criterion=absolute_error, max_depth=62, max_features=sqrt, min_samples_leaf=5, min_samples_split=2, n_estimators=1278; total time=   4.6s\n",
      "[CV] END criterion=absolute_error, max_depth=62, max_features=sqrt, min_samples_leaf=5, min_samples_split=2, n_estimators=1278; total time=   4.6s\n",
      "[CV] END criterion=absolute_error, max_depth=62, max_features=sqrt, min_samples_leaf=5, min_samples_split=2, n_estimators=1378; total time=   5.0s\n",
      "[CV] END criterion=absolute_error, max_depth=62, max_features=sqrt, min_samples_leaf=5, min_samples_split=2, n_estimators=1378; total time=   4.9s\n",
      "[CV] END criterion=absolute_error, max_depth=62, max_features=sqrt, min_samples_leaf=5, min_samples_split=2, n_estimators=1378; total time=   5.0s\n",
      "[CV] END criterion=absolute_error, max_depth=62, max_features=sqrt, min_samples_leaf=5, min_samples_split=2, n_estimators=1478; total time=   5.3s\n",
      "[CV] END criterion=absolute_error, max_depth=62, max_features=sqrt, min_samples_leaf=5, min_samples_split=2, n_estimators=1478; total time=   5.4s\n",
      "[CV] END criterion=absolute_error, max_depth=62, max_features=sqrt, min_samples_leaf=5, min_samples_split=2, n_estimators=1578; total time=   6.4s\n",
      "[CV] END criterion=absolute_error, max_depth=62, max_features=sqrt, min_samples_leaf=5, min_samples_split=2, n_estimators=1578; total time=   5.7s\n",
      "[CV] END criterion=absolute_error, max_depth=62, max_features=sqrt, min_samples_leaf=5, min_samples_split=2, n_estimators=1578; total time=   5.6s\n",
      "[CV] END criterion=absolute_error, max_depth=62, max_features=sqrt, min_samples_leaf=5, min_samples_split=2, n_estimators=1778; total time=   6.5s\n",
      "[CV] END criterion=absolute_error, max_depth=62, max_features=sqrt, min_samples_leaf=5, min_samples_split=2, n_estimators=1778; total time=   6.4s\n",
      "[CV] END criterion=absolute_error, max_depth=62, max_features=sqrt, min_samples_leaf=5, min_samples_split=2, n_estimators=1978; total time=   7.1s\n",
      "[CV] END criterion=absolute_error, max_depth=62, max_features=sqrt, min_samples_leaf=5, min_samples_split=2, n_estimators=1978; total time=   7.1s\n",
      "[CV] END criterion=absolute_error, max_depth=62, max_features=sqrt, min_samples_leaf=5, min_samples_split=2, n_estimators=1978; total time=   7.5s\n",
      "[CV] END criterion=absolute_error, max_depth=62, max_features=sqrt, min_samples_leaf=5, min_samples_split=2, n_estimators=2178; total time=   7.8s\n",
      "[CV] END criterion=absolute_error, max_depth=62, max_features=sqrt, min_samples_leaf=5, min_samples_split=2, n_estimators=2178; total time=   7.9s\n",
      "[CV] END criterion=absolute_error, max_depth=62, max_features=sqrt, min_samples_leaf=5, min_samples_split=4, n_estimators=1178; total time=   4.2s\n",
      "[CV] END criterion=absolute_error, max_depth=62, max_features=sqrt, min_samples_leaf=5, min_samples_split=4, n_estimators=1178; total time=   4.3s\n",
      "[CV] END criterion=absolute_error, max_depth=62, max_features=sqrt, min_samples_leaf=5, min_samples_split=6, n_estimators=1478; total time=   5.3s\n",
      "[CV] END criterion=absolute_error, max_depth=62, max_features=sqrt, min_samples_leaf=5, min_samples_split=6, n_estimators=1478; total time=   5.4s\n",
      "[CV] END criterion=absolute_error, max_depth=62, max_features=sqrt, min_samples_leaf=5, min_samples_split=6, n_estimators=1578; total time=   5.6s\n",
      "[CV] END criterion=absolute_error, max_depth=62, max_features=sqrt, min_samples_leaf=5, min_samples_split=6, n_estimators=1578; total time=   5.9s\n",
      "[CV] END criterion=absolute_error, max_depth=62, max_features=sqrt, min_samples_leaf=5, min_samples_split=6, n_estimators=1578; total time=   6.1s\n",
      "[CV] END criterion=absolute_error, max_depth=62, max_features=sqrt, min_samples_leaf=5, min_samples_split=6, n_estimators=1778; total time=   6.4s\n",
      "[CV] END criterion=absolute_error, max_depth=62, max_features=sqrt, min_samples_leaf=5, min_samples_split=6, n_estimators=1778; total time=   6.3s\n",
      "[CV] END criterion=absolute_error, max_depth=62, max_features=sqrt, min_samples_leaf=5, min_samples_split=6, n_estimators=1978; total time=   7.2s\n",
      "[CV] END criterion=absolute_error, max_depth=62, max_features=sqrt, min_samples_leaf=5, min_samples_split=6, n_estimators=1978; total time=   7.1s\n",
      "[CV] END criterion=absolute_error, max_depth=62, max_features=sqrt, min_samples_leaf=5, min_samples_split=6, n_estimators=1978; total time=   7.0s\n",
      "[CV] END criterion=absolute_error, max_depth=62, max_features=sqrt, min_samples_leaf=5, min_samples_split=6, n_estimators=2178; total time=   8.4s\n",
      "[CV] END criterion=absolute_error, max_depth=62, max_features=sqrt, min_samples_leaf=5, min_samples_split=6, n_estimators=2178; total time=   7.8s\n",
      "[CV] END criterion=absolute_error, max_depth=62, max_features=sqrt, min_samples_leaf=5, min_samples_split=3, n_estimators=1178; total time=   4.2s\n",
      "[CV] END criterion=absolute_error, max_depth=62, max_features=sqrt, min_samples_leaf=5, min_samples_split=3, n_estimators=1178; total time=   4.3s\n",
      "[CV] END criterion=absolute_error, max_depth=62, max_features=sqrt, min_samples_leaf=5, min_samples_split=3, n_estimators=1178; total time=   4.4s\n",
      "[CV] END criterion=absolute_error, max_depth=62, max_features=sqrt, min_samples_leaf=5, min_samples_split=3, n_estimators=1278; total time=   4.5s\n",
      "[CV] END criterion=absolute_error, max_depth=62, max_features=sqrt, min_samples_leaf=5, min_samples_split=3, n_estimators=1278; total time=   4.6s\n",
      "[CV] END criterion=absolute_error, max_depth=62, max_features=sqrt, min_samples_leaf=5, min_samples_split=3, n_estimators=1378; total time=   4.9s\n",
      "[CV] END criterion=absolute_error, max_depth=62, max_features=sqrt, min_samples_leaf=5, min_samples_split=3, n_estimators=1378; total time=   5.0s\n",
      "[CV] END criterion=absolute_error, max_depth=62, max_features=sqrt, min_samples_leaf=5, min_samples_split=3, n_estimators=1378; total time=   5.0s\n",
      "[CV] END criterion=absolute_error, max_depth=62, max_features=sqrt, min_samples_leaf=5, min_samples_split=3, n_estimators=1478; total time=   5.4s\n",
      "[CV] END criterion=absolute_error, max_depth=62, max_features=sqrt, min_samples_leaf=5, min_samples_split=3, n_estimators=1478; total time=   5.6s\n",
      "[CV] END criterion=absolute_error, max_depth=62, max_features=sqrt, min_samples_leaf=5, min_samples_split=3, n_estimators=1578; total time=   5.7s\n",
      "[CV] END criterion=absolute_error, max_depth=62, max_features=sqrt, min_samples_leaf=5, min_samples_split=3, n_estimators=1578; total time=   5.6s\n",
      "[CV] END criterion=absolute_error, max_depth=62, max_features=sqrt, min_samples_leaf=5, min_samples_split=3, n_estimators=1578; total time=   5.7s\n",
      "[CV] END criterion=absolute_error, max_depth=62, max_features=sqrt, min_samples_leaf=5, min_samples_split=3, n_estimators=1778; total time=   6.3s\n",
      "[CV] END criterion=absolute_error, max_depth=62, max_features=sqrt, min_samples_leaf=5, min_samples_split=3, n_estimators=1778; total time=   6.9s\n",
      "[CV] END criterion=absolute_error, max_depth=62, max_features=sqrt, min_samples_leaf=5, min_samples_split=3, n_estimators=1978; total time=   7.1s\n",
      "[CV] END criterion=absolute_error, max_depth=62, max_features=sqrt, min_samples_leaf=5, min_samples_split=3, n_estimators=1978; total time=   7.2s\n",
      "[CV] END criterion=absolute_error, max_depth=62, max_features=sqrt, min_samples_leaf=5, min_samples_split=3, n_estimators=1978; total time=   7.2s\n",
      "[CV] END criterion=absolute_error, max_depth=62, max_features=sqrt, min_samples_leaf=5, min_samples_split=3, n_estimators=2178; total time=   7.9s\n",
      "[CV] END criterion=absolute_error, max_depth=62, max_features=sqrt, min_samples_leaf=5, min_samples_split=3, n_estimators=2178; total time=   7.9s\n",
      "[CV] END criterion=absolute_error, max_depth=62, max_features=sqrt, min_samples_leaf=5, min_samples_split=2, n_estimators=1178; total time=   4.6s\n",
      "[CV] END criterion=absolute_error, max_depth=62, max_features=sqrt, min_samples_leaf=5, min_samples_split=2, n_estimators=1178; total time=   4.3s\n",
      "[CV] END criterion=absolute_error, max_depth=62, max_features=sqrt, min_samples_leaf=5, min_samples_split=2, n_estimators=1178; total time=   4.3s\n",
      "[CV] END criterion=absolute_error, max_depth=62, max_features=sqrt, min_samples_leaf=5, min_samples_split=2, n_estimators=1278; total time=   4.7s\n",
      "[CV] END criterion=absolute_error, max_depth=62, max_features=sqrt, min_samples_leaf=5, min_samples_split=2, n_estimators=1278; total time=   4.6s\n",
      "[CV] END criterion=absolute_error, max_depth=62, max_features=sqrt, min_samples_leaf=5, min_samples_split=2, n_estimators=1278; total time=   4.7s\n",
      "[CV] END criterion=absolute_error, max_depth=62, max_features=sqrt, min_samples_leaf=5, min_samples_split=2, n_estimators=1378; total time=   5.0s\n",
      "[CV] END criterion=absolute_error, max_depth=62, max_features=sqrt, min_samples_leaf=5, min_samples_split=2, n_estimators=1378; total time=   5.0s\n",
      "[CV] END criterion=absolute_error, max_depth=62, max_features=sqrt, min_samples_leaf=5, min_samples_split=2, n_estimators=1478; total time=   5.3s\n",
      "[CV] END criterion=absolute_error, max_depth=62, max_features=sqrt, min_samples_leaf=5, min_samples_split=2, n_estimators=1478; total time=   5.4s\n",
      "[CV] END criterion=absolute_error, max_depth=62, max_features=sqrt, min_samples_leaf=5, min_samples_split=2, n_estimators=1478; total time=   6.2s\n",
      "[CV] END criterion=absolute_error, max_depth=62, max_features=sqrt, min_samples_leaf=5, min_samples_split=2, n_estimators=1578; total time=   5.7s\n",
      "[CV] END criterion=absolute_error, max_depth=62, max_features=sqrt, min_samples_leaf=5, min_samples_split=2, n_estimators=1578; total time=   5.6s\n",
      "[CV] END criterion=absolute_error, max_depth=62, max_features=sqrt, min_samples_leaf=5, min_samples_split=2, n_estimators=1778; total time=   6.4s\n",
      "[CV] END criterion=absolute_error, max_depth=62, max_features=sqrt, min_samples_leaf=5, min_samples_split=2, n_estimators=1778; total time=   6.3s\n",
      "[CV] END criterion=absolute_error, max_depth=62, max_features=sqrt, min_samples_leaf=5, min_samples_split=2, n_estimators=1778; total time=   6.4s\n",
      "[CV] END criterion=absolute_error, max_depth=62, max_features=sqrt, min_samples_leaf=5, min_samples_split=2, n_estimators=1978; total time=   7.1s\n",
      "[CV] END criterion=absolute_error, max_depth=62, max_features=sqrt, min_samples_leaf=5, min_samples_split=2, n_estimators=1978; total time=   7.2s\n",
      "[CV] END criterion=absolute_error, max_depth=62, max_features=sqrt, min_samples_leaf=5, min_samples_split=2, n_estimators=2178; total time=   7.8s\n",
      "[CV] END criterion=absolute_error, max_depth=62, max_features=sqrt, min_samples_leaf=5, min_samples_split=2, n_estimators=2178; total time=   7.8s\n",
      "[CV] END criterion=absolute_error, max_depth=62, max_features=sqrt, min_samples_leaf=5, min_samples_split=2, n_estimators=2178; total time=   7.8s\n",
      "[CV] END criterion=absolute_error, max_depth=62, max_features=sqrt, min_samples_leaf=5, min_samples_split=4, n_estimators=1178; total time=   4.3s\n",
      "[CV] END criterion=absolute_error, max_depth=62, max_features=sqrt, min_samples_leaf=5, min_samples_split=4, n_estimators=1178; total time=   4.2s\n",
      "[CV] END criterion=absolute_error, max_depth=62, max_features=sqrt, min_samples_leaf=5, min_samples_split=4, n_estimators=1278; total time=   4.6s\n",
      "[CV] END criterion=absolute_error, max_depth=62, max_features=sqrt, min_samples_leaf=5, min_samples_split=6, n_estimators=1578; total time=   6.0s\n",
      "[CV] END criterion=absolute_error, max_depth=62, max_features=sqrt, min_samples_leaf=5, min_samples_split=6, n_estimators=1778; total time=   6.4s\n",
      "[CV] END criterion=absolute_error, max_depth=62, max_features=sqrt, min_samples_leaf=5, min_samples_split=6, n_estimators=1778; total time=   6.4s\n",
      "[CV] END criterion=absolute_error, max_depth=62, max_features=sqrt, min_samples_leaf=5, min_samples_split=6, n_estimators=1778; total time=   6.6s\n",
      "[CV] END criterion=absolute_error, max_depth=62, max_features=sqrt, min_samples_leaf=5, min_samples_split=6, n_estimators=1978; total time=   7.3s\n",
      "[CV] END criterion=absolute_error, max_depth=62, max_features=sqrt, min_samples_leaf=5, min_samples_split=6, n_estimators=1978; total time=   7.1s\n",
      "[CV] END criterion=absolute_error, max_depth=62, max_features=sqrt, min_samples_leaf=5, min_samples_split=6, n_estimators=2178; total time=   7.8s\n",
      "[CV] END criterion=absolute_error, max_depth=62, max_features=sqrt, min_samples_leaf=5, min_samples_split=6, n_estimators=2178; total time=   8.1s\n",
      "[CV] END criterion=absolute_error, max_depth=62, max_features=sqrt, min_samples_leaf=5, min_samples_split=6, n_estimators=2178; total time=   7.9s\n",
      "[CV] END criterion=absolute_error, max_depth=62, max_features=sqrt, min_samples_leaf=5, min_samples_split=3, n_estimators=1178; total time=   4.3s\n",
      "[CV] END criterion=absolute_error, max_depth=62, max_features=sqrt, min_samples_leaf=5, min_samples_split=3, n_estimators=1178; total time=   4.5s\n",
      "[CV] END criterion=absolute_error, max_depth=62, max_features=sqrt, min_samples_leaf=5, min_samples_split=3, n_estimators=1278; total time=   4.6s\n",
      "[CV] END criterion=absolute_error, max_depth=62, max_features=sqrt, min_samples_leaf=5, min_samples_split=3, n_estimators=1278; total time=   4.6s\n",
      "[CV] END criterion=absolute_error, max_depth=62, max_features=sqrt, min_samples_leaf=5, min_samples_split=3, n_estimators=1378; total time=   4.9s\n",
      "[CV] END criterion=absolute_error, max_depth=62, max_features=sqrt, min_samples_leaf=5, min_samples_split=3, n_estimators=1378; total time=   5.0s\n",
      "[CV] END criterion=absolute_error, max_depth=62, max_features=sqrt, min_samples_leaf=5, min_samples_split=3, n_estimators=1378; total time=   5.3s\n",
      "[CV] END criterion=absolute_error, max_depth=62, max_features=sqrt, min_samples_leaf=5, min_samples_split=3, n_estimators=1478; total time=   5.5s\n",
      "[CV] END criterion=absolute_error, max_depth=62, max_features=sqrt, min_samples_leaf=5, min_samples_split=3, n_estimators=1478; total time=   5.5s\n",
      "[CV] END criterion=absolute_error, max_depth=62, max_features=sqrt, min_samples_leaf=5, min_samples_split=3, n_estimators=1578; total time=   5.7s\n",
      "[CV] END criterion=absolute_error, max_depth=62, max_features=sqrt, min_samples_leaf=5, min_samples_split=3, n_estimators=1578; total time=   5.6s\n",
      "[CV] END criterion=absolute_error, max_depth=62, max_features=sqrt, min_samples_leaf=5, min_samples_split=3, n_estimators=1578; total time=   5.7s\n",
      "[CV] END criterion=absolute_error, max_depth=62, max_features=sqrt, min_samples_leaf=5, min_samples_split=3, n_estimators=1778; total time=   6.3s\n",
      "[CV] END criterion=absolute_error, max_depth=62, max_features=sqrt, min_samples_leaf=5, min_samples_split=3, n_estimators=1778; total time=   6.6s\n",
      "[CV] END criterion=absolute_error, max_depth=62, max_features=sqrt, min_samples_leaf=5, min_samples_split=3, n_estimators=1978; total time=   7.2s\n",
      "[CV] END criterion=absolute_error, max_depth=62, max_features=sqrt, min_samples_leaf=5, min_samples_split=3, n_estimators=1978; total time=   7.1s\n",
      "[CV] END criterion=absolute_error, max_depth=62, max_features=sqrt, min_samples_leaf=5, min_samples_split=3, n_estimators=1978; total time=   7.1s\n",
      "[CV] END criterion=absolute_error, max_depth=62, max_features=sqrt, min_samples_leaf=5, min_samples_split=3, n_estimators=2178; total time=   7.7s\n",
      "[CV] END criterion=absolute_error, max_depth=62, max_features=sqrt, min_samples_leaf=5, min_samples_split=3, n_estimators=2178; total time=   7.8s\n",
      "[CV] END criterion=absolute_error, max_depth=62, max_features=sqrt, min_samples_leaf=5, min_samples_split=2, n_estimators=1178; total time=   4.9s\n",
      "[CV] END criterion=absolute_error, max_depth=62, max_features=sqrt, min_samples_leaf=5, min_samples_split=2, n_estimators=1178; total time=   4.6s\n",
      "[CV] END criterion=absolute_error, max_depth=62, max_features=sqrt, min_samples_leaf=5, min_samples_split=2, n_estimators=1178; total time=   4.2s\n",
      "[CV] END criterion=absolute_error, max_depth=62, max_features=sqrt, min_samples_leaf=5, min_samples_split=2, n_estimators=1278; total time=   4.7s\n",
      "[CV] END criterion=absolute_error, max_depth=62, max_features=sqrt, min_samples_leaf=5, min_samples_split=2, n_estimators=1278; total time=   4.6s\n",
      "[CV] END criterion=absolute_error, max_depth=62, max_features=sqrt, min_samples_leaf=5, min_samples_split=2, n_estimators=1278; total time=   4.7s\n",
      "[CV] END criterion=absolute_error, max_depth=62, max_features=sqrt, min_samples_leaf=5, min_samples_split=2, n_estimators=1378; total time=   4.9s\n",
      "[CV] END criterion=absolute_error, max_depth=62, max_features=sqrt, min_samples_leaf=5, min_samples_split=2, n_estimators=1378; total time=   5.0s\n",
      "[CV] END criterion=absolute_error, max_depth=62, max_features=sqrt, min_samples_leaf=5, min_samples_split=2, n_estimators=1478; total time=   5.3s\n",
      "[CV] END criterion=absolute_error, max_depth=62, max_features=sqrt, min_samples_leaf=5, min_samples_split=2, n_estimators=1478; total time=   5.4s\n",
      "[CV] END criterion=absolute_error, max_depth=62, max_features=sqrt, min_samples_leaf=5, min_samples_split=2, n_estimators=1478; total time=   5.5s\n",
      "[CV] END criterion=absolute_error, max_depth=62, max_features=sqrt, min_samples_leaf=5, min_samples_split=2, n_estimators=1578; total time=   5.7s\n",
      "[CV] END criterion=absolute_error, max_depth=62, max_features=sqrt, min_samples_leaf=5, min_samples_split=2, n_estimators=1578; total time=   5.6s\n",
      "[CV] END criterion=absolute_error, max_depth=62, max_features=sqrt, min_samples_leaf=5, min_samples_split=2, n_estimators=1778; total time=   6.4s\n",
      "[CV] END criterion=absolute_error, max_depth=62, max_features=sqrt, min_samples_leaf=5, min_samples_split=2, n_estimators=1778; total time=   6.3s\n",
      "[CV] END criterion=absolute_error, max_depth=62, max_features=sqrt, min_samples_leaf=5, min_samples_split=2, n_estimators=1778; total time=   6.4s\n",
      "[CV] END criterion=absolute_error, max_depth=62, max_features=sqrt, min_samples_leaf=5, min_samples_split=2, n_estimators=1978; total time=   7.0s\n",
      "[CV] END criterion=absolute_error, max_depth=62, max_features=sqrt, min_samples_leaf=5, min_samples_split=2, n_estimators=1978; total time=   7.4s\n",
      "[CV] END criterion=absolute_error, max_depth=62, max_features=sqrt, min_samples_leaf=5, min_samples_split=2, n_estimators=2178; total time=   7.8s\n",
      "[CV] END criterion=absolute_error, max_depth=62, max_features=sqrt, min_samples_leaf=5, min_samples_split=2, n_estimators=2178; total time=   7.8s\n",
      "[CV] END criterion=absolute_error, max_depth=62, max_features=sqrt, min_samples_leaf=5, min_samples_split=2, n_estimators=2178; total time=   7.9s\n",
      "[CV] END criterion=absolute_error, max_depth=62, max_features=sqrt, min_samples_leaf=5, min_samples_split=4, n_estimators=1178; total time=   4.3s\n",
      "[CV] END criterion=absolute_error, max_depth=62, max_features=sqrt, min_samples_leaf=5, min_samples_split=4, n_estimators=1178; total time=   4.2s\n",
      "[CV] END criterion=absolute_error, max_depth=62, max_features=sqrt, min_samples_leaf=5, min_samples_split=4, n_estimators=1278; total time=   4.6s\n",
      "[CV] END criterion=absolute_error, max_depth=62, max_features=sqrt, min_samples_leaf=5, min_samples_split=4, n_estimators=1278; total time=   4.7s\n",
      "[CV] END criterion=absolute_error, max_depth=62, max_features=sqrt, min_samples_leaf=5, min_samples_split=4, n_estimators=1378; total time=   5.5s\n",
      "[CV] END criterion=absolute_error, max_depth=62, max_features=sqrt, min_samples_leaf=5, min_samples_split=4, n_estimators=1378; total time=   5.3s\n",
      "[CV] END criterion=absolute_error, max_depth=62, max_features=sqrt, min_samples_leaf=5, min_samples_split=4, n_estimators=1378; total time=   4.9s"
     ]
    },
    {
     "data": {
      "text/plain": [
       "GridSearchCV(cv=10, estimator=RandomForestRegressor(), n_jobs=-1,\n",
       "             param_grid={'criterion': ['absolute_error'], 'max_depth': [62],\n",
       "                         'max_features': ['sqrt'],\n",
       "                         'min_samples_leaf': [1, 3, 5],\n",
       "                         'min_samples_split': [6, 3, 2, 4, 5],\n",
       "                         'n_estimators': [1178, 1278, 1378, 1478, 1578, 1778,\n",
       "                                          1978, 2178]},\n",
       "             verbose=2)"
      ]
     },
     "execution_count": 33,
     "metadata": {},
     "output_type": "execute_result"
    }
   ],
   "source": [
    "rf=RandomForestRegressor()\n",
    "grid_search=GridSearchCV(estimator=rf,param_grid=param_grid,cv=10,n_jobs=-1,verbose=2)\n",
    "grid_search.fit(X_train,y_train)"
   ]
  },
  {
   "cell_type": "code",
   "execution_count": 34,
   "id": "823b470b",
   "metadata": {
    "execution": {
     "iopub.execute_input": "2022-08-06T08:10:36.570704Z",
     "iopub.status.busy": "2022-08-06T08:10:36.570303Z",
     "iopub.status.idle": "2022-08-06T08:10:36.576734Z",
     "shell.execute_reply": "2022-08-06T08:10:36.575937Z"
    },
    "papermill": {
     "duration": 0.031609,
     "end_time": "2022-08-06T08:10:36.578666",
     "exception": false,
     "start_time": "2022-08-06T08:10:36.547057",
     "status": "completed"
    },
    "tags": []
   },
   "outputs": [
    {
     "data": {
      "text/plain": [
       "RandomForestRegressor(criterion='absolute_error', max_depth=62,\n",
       "                      max_features='sqrt', min_samples_split=5,\n",
       "                      n_estimators=1178)"
      ]
     },
     "execution_count": 34,
     "metadata": {},
     "output_type": "execute_result"
    }
   ],
   "source": [
    "grid_search.best_estimator_"
   ]
  },
  {
   "cell_type": "code",
   "execution_count": 35,
   "id": "3808e3ab",
   "metadata": {
    "execution": {
     "iopub.execute_input": "2022-08-06T08:10:36.622776Z",
     "iopub.status.busy": "2022-08-06T08:10:36.622345Z",
     "iopub.status.idle": "2022-08-06T08:10:36.627073Z",
     "shell.execute_reply": "2022-08-06T08:10:36.625978Z"
    },
    "papermill": {
     "duration": 0.029368,
     "end_time": "2022-08-06T08:10:36.629139",
     "exception": false,
     "start_time": "2022-08-06T08:10:36.599771",
     "status": "completed"
    },
    "tags": []
   },
   "outputs": [],
   "source": [
    "best_grid=grid_search.best_estimator_"
   ]
  },
  {
   "cell_type": "code",
   "execution_count": 36,
   "id": "073be274",
   "metadata": {
    "execution": {
     "iopub.execute_input": "2022-08-06T08:10:36.674426Z",
     "iopub.status.busy": "2022-08-06T08:10:36.673304Z",
     "iopub.status.idle": "2022-08-06T08:10:36.680397Z",
     "shell.execute_reply": "2022-08-06T08:10:36.679683Z"
    },
    "papermill": {
     "duration": 0.031545,
     "end_time": "2022-08-06T08:10:36.682402",
     "exception": false,
     "start_time": "2022-08-06T08:10:36.650857",
     "status": "completed"
    },
    "tags": []
   },
   "outputs": [
    {
     "data": {
      "text/plain": [
       "RandomForestRegressor(criterion='absolute_error', max_depth=62,\n",
       "                      max_features='sqrt', min_samples_split=5,\n",
       "                      n_estimators=1178)"
      ]
     },
     "execution_count": 36,
     "metadata": {},
     "output_type": "execute_result"
    }
   ],
   "source": [
    "best_grid"
   ]
  },
  {
   "cell_type": "code",
   "execution_count": 37,
   "id": "7a8e2c1c",
   "metadata": {
    "execution": {
     "iopub.execute_input": "2022-08-06T08:10:36.727469Z",
     "iopub.status.busy": "2022-08-06T08:10:36.727068Z",
     "iopub.status.idle": "2022-08-06T08:10:37.016428Z",
     "shell.execute_reply": "2022-08-06T08:10:37.015425Z"
    },
    "papermill": {
     "duration": 0.31463,
     "end_time": "2022-08-06T08:10:37.018860",
     "exception": false,
     "start_time": "2022-08-06T08:10:36.704230",
     "status": "completed"
    },
    "tags": []
   },
   "outputs": [
    {
     "data": {
      "text/plain": [
       "0.8318219724942063"
      ]
     },
     "execution_count": 37,
     "metadata": {},
     "output_type": "execute_result"
    }
   ],
   "source": [
    "y_pred=best_grid.predict(X_test)\n",
    "r2_score(y_test, y_pred)"
   ]
  },
  {
   "cell_type": "code",
   "execution_count": 38,
   "id": "0aa3264b",
   "metadata": {
    "execution": {
     "iopub.execute_input": "2022-08-06T08:10:37.064826Z",
     "iopub.status.busy": "2022-08-06T08:10:37.064165Z",
     "iopub.status.idle": "2022-08-06T08:10:37.071395Z",
     "shell.execute_reply": "2022-08-06T08:10:37.070433Z"
    },
    "papermill": {
     "duration": 0.0325,
     "end_time": "2022-08-06T08:10:37.073462",
     "exception": false,
     "start_time": "2022-08-06T08:10:37.040962",
     "status": "completed"
    },
    "tags": []
   },
   "outputs": [
    {
     "data": {
      "text/plain": [
       "RandomForestRegressor(criterion='absolute_error', max_depth=62,\n",
       "                      max_features='sqrt', n_estimators=1378)"
      ]
     },
     "execution_count": 38,
     "metadata": {},
     "output_type": "execute_result"
    }
   ],
   "source": [
    "best_random_grid\n"
   ]
  },
  {
   "cell_type": "code",
   "execution_count": 39,
   "id": "050edda3",
   "metadata": {
    "execution": {
     "iopub.execute_input": "2022-08-06T08:10:37.118805Z",
     "iopub.status.busy": "2022-08-06T08:10:37.118005Z",
     "iopub.status.idle": "2022-08-06T08:10:37.125204Z",
     "shell.execute_reply": "2022-08-06T08:10:37.124438Z"
    },
    "papermill": {
     "duration": 0.032143,
     "end_time": "2022-08-06T08:10:37.127175",
     "exception": false,
     "start_time": "2022-08-06T08:10:37.095032",
     "status": "completed"
    },
    "tags": []
   },
   "outputs": [
    {
     "data": {
      "text/plain": [
       "RandomForestRegressor(criterion='absolute_error', max_depth=62,\n",
       "                      max_features='sqrt', min_samples_split=5,\n",
       "                      n_estimators=1178)"
      ]
     },
     "execution_count": 39,
     "metadata": {},
     "output_type": "execute_result"
    }
   ],
   "source": [
    "best_grid"
   ]
  },
  {
   "cell_type": "code",
   "execution_count": 40,
   "id": "079e2e55",
   "metadata": {
    "execution": {
     "iopub.execute_input": "2022-08-06T08:10:37.172945Z",
     "iopub.status.busy": "2022-08-06T08:10:37.172282Z",
     "iopub.status.idle": "2022-08-06T08:10:37.368712Z",
     "shell.execute_reply": "2022-08-06T08:10:37.367653Z"
    },
    "papermill": {
     "duration": 0.222025,
     "end_time": "2022-08-06T08:10:37.371014",
     "exception": false,
     "start_time": "2022-08-06T08:10:37.148989",
     "status": "completed"
    },
    "tags": []
   },
   "outputs": [
    {
     "data": {
      "text/plain": [
       "[<matplotlib.lines.Line2D at 0x7faa31c48190>]"
      ]
     },
     "execution_count": 40,
     "metadata": {},
     "output_type": "execute_result"
    },
    {
     "data": {
      "image/png": "[encoded data removed]",
      "text/plain": [
       "<Figure size 432x288 with 1 Axes>"
      ]
     },
     "metadata": {
      "needs_background": "light"
     },
     "output_type": "display_data"
    }
   ],
   "source": [
    "plt.scatter(y_test,y_pred)\n",
    "\n",
    "m, b = np.polyfit(y_test, y_pred, 1)\n",
    "\n",
    "plt.plot(y_test, m*y_test+b, color = 'red')"
   ]
  }
 ],
 "metadata": {
  "kernelspec": {
   "display_name": "Python 3",
   "language": "python",
   "name": "python3"
  },
  "language_info": {
   "codemirror_mode": {
    "name": "ipython",
    "version": 3
   },
   "file_extension": ".py",
   "mimetype": "text/x-python",
   "name": "python",
   "nbconvert_exporter": "python",
   "pygments_lexer": "ipython3",
   "version": "3.7.12"
  },
  "papermill": {
   "default_parameters": {},
   "duration": 2306.021146,
   "end_time": "2022-08-06T08:10:40.019970",
   "environment_variables": {},
   "exception": null,
   "input_path": "__notebook__.ipynb",
   "output_path": "__notebook__.ipynb",
   "parameters": {},
   "start_time": "2022-08-06T07:32:13.998824",
   "version": "2.3.4"
  }
 },
 "nbformat": 4,
 "nbformat_minor": 5
}
